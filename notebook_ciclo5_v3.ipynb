{
 "cells": [
  {
   "cell_type": "markdown",
   "id": "939dde04",
   "metadata": {},
   "source": [
    "# Inadimpletes - Hackday 3° Edição"
   ]
  },
  {
   "cell_type": "code",
   "execution_count": null,
   "id": "92f4eb85",
   "metadata": {},
   "outputs": [],
   "source": [
    "# !pip install sweetviz xgboost category_encoders"
   ]
  },
  {
   "cell_type": "code",
   "execution_count": 5,
   "id": "fdc46189",
   "metadata": {
    "_cell_guid": "b1076dfc-b9ad-4769-8c92-a6c4dae69d19",
    "_uuid": "8f2839f25d086af736a60e9eeb907d3b93b6e0e5",
    "execution": {
     "iopub.execute_input": "2022-10-22T02:13:22.052281Z",
     "iopub.status.busy": "2022-10-22T02:13:22.051675Z",
     "iopub.status.idle": "2022-10-22T02:13:23.055120Z",
     "shell.execute_reply": "2022-10-22T02:13:23.053918Z"
    },
    "papermill": {
     "duration": 1.020395,
     "end_time": "2022-10-22T02:13:23.058884",
     "exception": false,
     "start_time": "2022-10-22T02:13:22.038489",
     "status": "completed"
    },
    "tags": []
   },
   "outputs": [],
   "source": [
    "import pandas as pd\n",
    "import numpy as np\n",
    "import matplotlib.pyplot as plt\n",
    "import seaborn as sns\n",
    "import sweetviz\n",
    "import pickle\n",
    "\n",
    "from sklearn.metrics       import mean_absolute_error, mean_squared_error, f1_score\n",
    "from sklearn.ensemble      import RandomForestClassifier\n",
    "from sklearn.linear_model  import LinearRegression, Lasso\n",
    "from sklearn.preprocessing import StandardScaler, RobustScaler, MinMaxScaler, LabelEncoder\n",
    "import sklearn.model_selection as ms\n",
    "from category_encoders       import TargetEncoder\n",
    "from xgboost import XGBClassifier\n",
    "\n",
    "%matplotlib inline\n",
    "sns.set_theme()\n",
    "pd.set_option('display.float_format', '{:.2f}'.format)\n",
    "pd.set_option('display.max_columns', 500)\n",
    "plt.rcParams['figure.figsize'] = [25, 12]\n",
    "plt.rcParams['font.size'] = 16"
   ]
  },
  {
   "cell_type": "markdown",
   "id": "3a7c9e41",
   "metadata": {
    "papermill": {
     "duration": 0.00945,
     "end_time": "2022-10-22T02:13:23.079077",
     "exception": false,
     "start_time": "2022-10-22T02:13:23.069627",
     "status": "completed"
    },
    "tags": []
   },
   "source": [
    "## Data Ingestion"
   ]
  },
  {
   "cell_type": "code",
   "execution_count": 6,
   "id": "72e36963",
   "metadata": {
    "execution": {
     "iopub.execute_input": "2022-10-22T02:13:23.101923Z",
     "iopub.status.busy": "2022-10-22T02:13:23.101530Z",
     "iopub.status.idle": "2022-10-22T02:13:23.194360Z",
     "shell.execute_reply": "2022-10-22T02:13:23.193123Z"
    },
    "papermill": {
     "duration": 0.108127,
     "end_time": "2022-10-22T02:13:23.196894",
     "exception": false,
     "start_time": "2022-10-22T02:13:23.088767",
     "status": "completed"
    },
    "tags": []
   },
   "outputs": [
    {
     "data": {
      "text/html": [
       "<div>\n",
       "<style scoped>\n",
       "    .dataframe tbody tr th:only-of-type {\n",
       "        vertical-align: middle;\n",
       "    }\n",
       "\n",
       "    .dataframe tbody tr th {\n",
       "        vertical-align: top;\n",
       "    }\n",
       "\n",
       "    .dataframe thead th {\n",
       "        text-align: right;\n",
       "    }\n",
       "</style>\n",
       "<table border=\"1\" class=\"dataframe\">\n",
       "  <thead>\n",
       "    <tr style=\"text-align: right;\">\n",
       "      <th></th>\n",
       "      <th>id_cliente</th>\n",
       "      <th>idade</th>\n",
       "      <th>saldo_atual</th>\n",
       "      <th>divida_atual</th>\n",
       "      <th>renda_anual</th>\n",
       "      <th>valor_em_investimentos</th>\n",
       "      <th>taxa_utilizacao_credito</th>\n",
       "      <th>num_emprestimos</th>\n",
       "      <th>num_contas_bancarias</th>\n",
       "      <th>num_cartoes_credito</th>\n",
       "      <th>dias_atraso_dt_venc</th>\n",
       "      <th>num_pgtos_atrasados</th>\n",
       "      <th>num_consultas_credito</th>\n",
       "      <th>taxa_juros</th>\n",
       "      <th>investe_exterior</th>\n",
       "      <th>pessoa_polit_exp</th>\n",
       "      <th>limite_adicional</th>\n",
       "    </tr>\n",
       "  </thead>\n",
       "  <tbody>\n",
       "    <tr>\n",
       "      <th>0</th>\n",
       "      <td>1767</td>\n",
       "      <td>21</td>\n",
       "      <td>278.17</td>\n",
       "      <td>2577.05</td>\n",
       "      <td>24196.90</td>\n",
       "      <td>104.31</td>\n",
       "      <td>31.04</td>\n",
       "      <td>6</td>\n",
       "      <td>5</td>\n",
       "      <td>7</td>\n",
       "      <td>21</td>\n",
       "      <td>14</td>\n",
       "      <td>9</td>\n",
       "      <td>15</td>\n",
       "      <td>Não</td>\n",
       "      <td>Não</td>\n",
       "      <td>Negar</td>\n",
       "    </tr>\n",
       "    <tr>\n",
       "      <th>1</th>\n",
       "      <td>11920</td>\n",
       "      <td>40</td>\n",
       "      <td>268.87</td>\n",
       "      <td>2465.39</td>\n",
       "      <td>19227.38</td>\n",
       "      <td>69.86</td>\n",
       "      <td>36.92</td>\n",
       "      <td>5</td>\n",
       "      <td>8</td>\n",
       "      <td>5</td>\n",
       "      <td>40</td>\n",
       "      <td>23</td>\n",
       "      <td>10</td>\n",
       "      <td>18</td>\n",
       "      <td>Não</td>\n",
       "      <td>Não</td>\n",
       "      <td>Negar</td>\n",
       "    </tr>\n",
       "    <tr>\n",
       "      <th>2</th>\n",
       "      <td>8910</td>\n",
       "      <td>36</td>\n",
       "      <td>446.64</td>\n",
       "      <td>1055.29</td>\n",
       "      <td>42822.28</td>\n",
       "      <td>134.20</td>\n",
       "      <td>34.56</td>\n",
       "      <td>0</td>\n",
       "      <td>3</td>\n",
       "      <td>6</td>\n",
       "      <td>26</td>\n",
       "      <td>13</td>\n",
       "      <td>3</td>\n",
       "      <td>15</td>\n",
       "      <td>Sim</td>\n",
       "      <td>Não</td>\n",
       "      <td>Negar</td>\n",
       "    </tr>\n",
       "    <tr>\n",
       "      <th>3</th>\n",
       "      <td>4964</td>\n",
       "      <td>58</td>\n",
       "      <td>321.14</td>\n",
       "      <td>703.05</td>\n",
       "      <td>51786.83</td>\n",
       "      <td>297.35</td>\n",
       "      <td>31.49</td>\n",
       "      <td>0</td>\n",
       "      <td>3</td>\n",
       "      <td>7</td>\n",
       "      <td>12</td>\n",
       "      <td>7</td>\n",
       "      <td>2</td>\n",
       "      <td>1</td>\n",
       "      <td>Sim</td>\n",
       "      <td>Não</td>\n",
       "      <td>Negar</td>\n",
       "    </tr>\n",
       "    <tr>\n",
       "      <th>4</th>\n",
       "      <td>10100</td>\n",
       "      <td>35</td>\n",
       "      <td>428.72</td>\n",
       "      <td>891.29</td>\n",
       "      <td>44626.85</td>\n",
       "      <td>134.20</td>\n",
       "      <td>28.03</td>\n",
       "      <td>2</td>\n",
       "      <td>8</td>\n",
       "      <td>7</td>\n",
       "      <td>24</td>\n",
       "      <td>10</td>\n",
       "      <td>8</td>\n",
       "      <td>20</td>\n",
       "      <td>Sim</td>\n",
       "      <td>Não</td>\n",
       "      <td>Negar</td>\n",
       "    </tr>\n",
       "  </tbody>\n",
       "</table>\n",
       "</div>"
      ],
      "text/plain": [
       "   id_cliente  idade  saldo_atual  divida_atual  renda_anual  \\\n",
       "0        1767     21       278.17       2577.05     24196.90   \n",
       "1       11920     40       268.87       2465.39     19227.38   \n",
       "2        8910     36       446.64       1055.29     42822.28   \n",
       "3        4964     58       321.14        703.05     51786.83   \n",
       "4       10100     35       428.72        891.29     44626.85   \n",
       "\n",
       "   valor_em_investimentos  taxa_utilizacao_credito  num_emprestimos  \\\n",
       "0                  104.31                    31.04                6   \n",
       "1                   69.86                    36.92                5   \n",
       "2                  134.20                    34.56                0   \n",
       "3                  297.35                    31.49                0   \n",
       "4                  134.20                    28.03                2   \n",
       "\n",
       "   num_contas_bancarias  num_cartoes_credito  dias_atraso_dt_venc  \\\n",
       "0                     5                    7                   21   \n",
       "1                     8                    5                   40   \n",
       "2                     3                    6                   26   \n",
       "3                     3                    7                   12   \n",
       "4                     8                    7                   24   \n",
       "\n",
       "   num_pgtos_atrasados  num_consultas_credito  taxa_juros investe_exterior  \\\n",
       "0                   14                      9          15              Não   \n",
       "1                   23                     10          18              Não   \n",
       "2                   13                      3          15              Sim   \n",
       "3                    7                      2           1              Sim   \n",
       "4                   10                      8          20              Sim   \n",
       "\n",
       "  pessoa_polit_exp limite_adicional  \n",
       "0              Não            Negar  \n",
       "1              Não            Negar  \n",
       "2              Não            Negar  \n",
       "3              Não            Negar  \n",
       "4              Não            Negar  "
      ]
     },
     "execution_count": 6,
     "metadata": {},
     "output_type": "execute_result"
    }
   ],
   "source": [
    "df_train = pd.read_csv('data/train.csv')\n",
    "df_train.head()"
   ]
  },
  {
   "cell_type": "markdown",
   "id": "f3d2d7cf",
   "metadata": {
    "papermill": {
     "duration": 0.009822,
     "end_time": "2022-10-22T02:13:23.216983",
     "exception": false,
     "start_time": "2022-10-22T02:13:23.207161",
     "status": "completed"
    },
    "tags": []
   },
   "source": [
    "## Data understanding"
   ]
  },
  {
   "cell_type": "markdown",
   "id": "8f251693",
   "metadata": {
    "papermill": {
     "duration": 0.009745,
     "end_time": "2022-10-22T02:13:23.236678",
     "exception": false,
     "start_time": "2022-10-22T02:13:23.226933",
     "status": "completed"
    },
    "tags": []
   },
   "source": [
    "## Data dimension"
   ]
  },
  {
   "cell_type": "code",
   "execution_count": 7,
   "id": "e049a7f6",
   "metadata": {
    "execution": {
     "iopub.execute_input": "2022-10-22T02:13:23.258616Z",
     "iopub.status.busy": "2022-10-22T02:13:23.258210Z",
     "iopub.status.idle": "2022-10-22T02:13:23.265107Z",
     "shell.execute_reply": "2022-10-22T02:13:23.263971Z"
    },
    "papermill": {
     "duration": 0.020723,
     "end_time": "2022-10-22T02:13:23.267394",
     "exception": false,
     "start_time": "2022-10-22T02:13:23.246671",
     "status": "completed"
    },
    "tags": []
   },
   "outputs": [
    {
     "data": {
      "text/plain": [
       "(9500, 17)"
      ]
     },
     "execution_count": 7,
     "metadata": {},
     "output_type": "execute_result"
    }
   ],
   "source": [
    "df_train.shape"
   ]
  },
  {
   "cell_type": "markdown",
   "id": "38c703e3",
   "metadata": {
    "papermill": {
     "duration": 0.009904,
     "end_time": "2022-10-22T02:13:23.287531",
     "exception": false,
     "start_time": "2022-10-22T02:13:23.277627",
     "status": "completed"
    },
    "tags": []
   },
   "source": [
    "## Class distribution"
   ]
  },
  {
   "cell_type": "code",
   "execution_count": 8,
   "id": "206c3fd4",
   "metadata": {
    "execution": {
     "iopub.execute_input": "2022-10-22T02:13:23.310079Z",
     "iopub.status.busy": "2022-10-22T02:13:23.309037Z",
     "iopub.status.idle": "2022-10-22T02:13:23.322344Z",
     "shell.execute_reply": "2022-10-22T02:13:23.321561Z"
    },
    "papermill": {
     "duration": 0.026703,
     "end_time": "2022-10-22T02:13:23.324353",
     "exception": false,
     "start_time": "2022-10-22T02:13:23.297650",
     "status": "completed"
    },
    "tags": []
   },
   "outputs": [
    {
     "data": {
      "text/plain": [
       "Negar      84.16\n",
       "Conceder   15.84\n",
       "Name: limite_adicional, dtype: float64"
      ]
     },
     "execution_count": 8,
     "metadata": {},
     "output_type": "execute_result"
    }
   ],
   "source": [
    "df_train['limite_adicional'].value_counts(normalize=True)*100"
   ]
  },
  {
   "cell_type": "markdown",
   "id": "370036e3",
   "metadata": {
    "papermill": {
     "duration": 0.010181,
     "end_time": "2022-10-22T02:13:23.344747",
     "exception": false,
     "start_time": "2022-10-22T02:13:23.334566",
     "status": "completed"
    },
    "tags": []
   },
   "source": [
    "## Data types"
   ]
  },
  {
   "cell_type": "code",
   "execution_count": 9,
   "id": "43dcfc11",
   "metadata": {
    "execution": {
     "iopub.execute_input": "2022-10-22T02:13:23.367338Z",
     "iopub.status.busy": "2022-10-22T02:13:23.366690Z",
     "iopub.status.idle": "2022-10-22T02:13:23.373773Z",
     "shell.execute_reply": "2022-10-22T02:13:23.372867Z"
    },
    "papermill": {
     "duration": 0.020986,
     "end_time": "2022-10-22T02:13:23.375876",
     "exception": false,
     "start_time": "2022-10-22T02:13:23.354890",
     "status": "completed"
    },
    "tags": []
   },
   "outputs": [
    {
     "data": {
      "text/plain": [
       "id_cliente                   int64\n",
       "idade                        int64\n",
       "saldo_atual                float64\n",
       "divida_atual               float64\n",
       "renda_anual                float64\n",
       "valor_em_investimentos     float64\n",
       "taxa_utilizacao_credito    float64\n",
       "num_emprestimos              int64\n",
       "num_contas_bancarias         int64\n",
       "num_cartoes_credito          int64\n",
       "dias_atraso_dt_venc          int64\n",
       "num_pgtos_atrasados          int64\n",
       "num_consultas_credito        int64\n",
       "taxa_juros                   int64\n",
       "investe_exterior            object\n",
       "pessoa_polit_exp            object\n",
       "limite_adicional            object\n",
       "dtype: object"
      ]
     },
     "execution_count": 9,
     "metadata": {},
     "output_type": "execute_result"
    }
   ],
   "source": [
    "df_train.dtypes"
   ]
  },
  {
   "cell_type": "markdown",
   "id": "713f6989",
   "metadata": {
    "papermill": {
     "duration": 0.01022,
     "end_time": "2022-10-22T02:13:23.396577",
     "exception": false,
     "start_time": "2022-10-22T02:13:23.386357",
     "status": "completed"
    },
    "tags": []
   },
   "source": [
    "## NAN?"
   ]
  },
  {
   "cell_type": "code",
   "execution_count": 10,
   "id": "35416178",
   "metadata": {
    "execution": {
     "iopub.execute_input": "2022-10-22T02:13:23.419741Z",
     "iopub.status.busy": "2022-10-22T02:13:23.419310Z",
     "iopub.status.idle": "2022-10-22T02:13:23.434164Z",
     "shell.execute_reply": "2022-10-22T02:13:23.433213Z"
    },
    "papermill": {
     "duration": 0.029292,
     "end_time": "2022-10-22T02:13:23.436470",
     "exception": false,
     "start_time": "2022-10-22T02:13:23.407178",
     "status": "completed"
    },
    "tags": []
   },
   "outputs": [
    {
     "data": {
      "text/plain": [
       "id_cliente                 0\n",
       "idade                      0\n",
       "saldo_atual                0\n",
       "divida_atual               0\n",
       "renda_anual                0\n",
       "valor_em_investimentos     0\n",
       "taxa_utilizacao_credito    0\n",
       "num_emprestimos            0\n",
       "num_contas_bancarias       0\n",
       "num_cartoes_credito        0\n",
       "dias_atraso_dt_venc        0\n",
       "num_pgtos_atrasados        0\n",
       "num_consultas_credito      0\n",
       "taxa_juros                 0\n",
       "investe_exterior           0\n",
       "pessoa_polit_exp           0\n",
       "limite_adicional           0\n",
       "dtype: int64"
      ]
     },
     "execution_count": 10,
     "metadata": {},
     "output_type": "execute_result"
    }
   ],
   "source": [
    "df_train.isna().sum()"
   ]
  },
  {
   "cell_type": "markdown",
   "id": "a71ca109",
   "metadata": {
    "papermill": {
     "duration": 0.010679,
     "end_time": "2022-10-22T02:13:23.457704",
     "exception": false,
     "start_time": "2022-10-22T02:13:23.447025",
     "status": "completed"
    },
    "tags": []
   },
   "source": [
    "## Descriptive Statistics"
   ]
  },
  {
   "cell_type": "code",
   "execution_count": 11,
   "id": "e538f430",
   "metadata": {
    "execution": {
     "iopub.execute_input": "2022-10-22T02:13:23.480104Z",
     "iopub.status.busy": "2022-10-22T02:13:23.479710Z",
     "iopub.status.idle": "2022-10-22T02:13:23.531211Z",
     "shell.execute_reply": "2022-10-22T02:13:23.530108Z"
    },
    "papermill": {
     "duration": 0.065559,
     "end_time": "2022-10-22T02:13:23.533600",
     "exception": false,
     "start_time": "2022-10-22T02:13:23.468041",
     "status": "completed"
    },
    "tags": []
   },
   "outputs": [
    {
     "data": {
      "text/html": [
       "<div>\n",
       "<style scoped>\n",
       "    .dataframe tbody tr th:only-of-type {\n",
       "        vertical-align: middle;\n",
       "    }\n",
       "\n",
       "    .dataframe tbody tr th {\n",
       "        vertical-align: top;\n",
       "    }\n",
       "\n",
       "    .dataframe thead th {\n",
       "        text-align: right;\n",
       "    }\n",
       "</style>\n",
       "<table border=\"1\" class=\"dataframe\">\n",
       "  <thead>\n",
       "    <tr style=\"text-align: right;\">\n",
       "      <th></th>\n",
       "      <th>count</th>\n",
       "      <th>unique</th>\n",
       "      <th>top</th>\n",
       "      <th>freq</th>\n",
       "    </tr>\n",
       "  </thead>\n",
       "  <tbody>\n",
       "    <tr>\n",
       "      <th>investe_exterior</th>\n",
       "      <td>9500</td>\n",
       "      <td>2</td>\n",
       "      <td>Não</td>\n",
       "      <td>7177</td>\n",
       "    </tr>\n",
       "    <tr>\n",
       "      <th>pessoa_polit_exp</th>\n",
       "      <td>9500</td>\n",
       "      <td>2</td>\n",
       "      <td>Não</td>\n",
       "      <td>8917</td>\n",
       "    </tr>\n",
       "    <tr>\n",
       "      <th>limite_adicional</th>\n",
       "      <td>9500</td>\n",
       "      <td>2</td>\n",
       "      <td>Negar</td>\n",
       "      <td>7995</td>\n",
       "    </tr>\n",
       "  </tbody>\n",
       "</table>\n",
       "</div>"
      ],
      "text/plain": [
       "                 count unique    top  freq\n",
       "investe_exterior  9500      2    Não  7177\n",
       "pessoa_polit_exp  9500      2    Não  8917\n",
       "limite_adicional  9500      2  Negar  7995"
      ]
     },
     "execution_count": 11,
     "metadata": {},
     "output_type": "execute_result"
    }
   ],
   "source": [
    "df_train.describe(include='object').T.sort_values(by='unique', ascending=False)"
   ]
  },
  {
   "cell_type": "code",
   "execution_count": 12,
   "id": "313cf81b",
   "metadata": {
    "execution": {
     "iopub.execute_input": "2022-10-22T02:13:23.556691Z",
     "iopub.status.busy": "2022-10-22T02:13:23.556282Z",
     "iopub.status.idle": "2022-10-22T02:13:23.581842Z",
     "shell.execute_reply": "2022-10-22T02:13:23.580779Z"
    },
    "papermill": {
     "duration": 0.039696,
     "end_time": "2022-10-22T02:13:23.584236",
     "exception": false,
     "start_time": "2022-10-22T02:13:23.544540",
     "status": "completed"
    },
    "tags": []
   },
   "outputs": [
    {
     "data": {
      "text/html": [
       "<div>\n",
       "<style scoped>\n",
       "    .dataframe tbody tr th:only-of-type {\n",
       "        vertical-align: middle;\n",
       "    }\n",
       "\n",
       "    .dataframe tbody tr th {\n",
       "        vertical-align: top;\n",
       "    }\n",
       "\n",
       "    .dataframe thead th {\n",
       "        text-align: right;\n",
       "    }\n",
       "</style>\n",
       "<table border=\"1\" class=\"dataframe\">\n",
       "  <thead>\n",
       "    <tr style=\"text-align: right;\">\n",
       "      <th></th>\n",
       "      <th>count</th>\n",
       "      <th>mean</th>\n",
       "      <th>std</th>\n",
       "      <th>min</th>\n",
       "      <th>25%</th>\n",
       "      <th>50%</th>\n",
       "      <th>75%</th>\n",
       "      <th>max</th>\n",
       "    </tr>\n",
       "  </thead>\n",
       "  <tbody>\n",
       "    <tr>\n",
       "      <th>id_cliente</th>\n",
       "      <td>9500.00</td>\n",
       "      <td>6210.53</td>\n",
       "      <td>3603.24</td>\n",
       "      <td>1.00</td>\n",
       "      <td>3091.75</td>\n",
       "      <td>6172.50</td>\n",
       "      <td>9320.25</td>\n",
       "      <td>12500.00</td>\n",
       "    </tr>\n",
       "    <tr>\n",
       "      <th>idade</th>\n",
       "      <td>9500.00</td>\n",
       "      <td>126.40</td>\n",
       "      <td>685.04</td>\n",
       "      <td>18.00</td>\n",
       "      <td>28.00</td>\n",
       "      <td>38.00</td>\n",
       "      <td>47.00</td>\n",
       "      <td>8598.00</td>\n",
       "    </tr>\n",
       "    <tr>\n",
       "      <th>saldo_atual</th>\n",
       "      <td>9500.00</td>\n",
       "      <td>404.53</td>\n",
       "      <td>217.70</td>\n",
       "      <td>0.09</td>\n",
       "      <td>272.36</td>\n",
       "      <td>337.17</td>\n",
       "      <td>471.26</td>\n",
       "      <td>1602.04</td>\n",
       "    </tr>\n",
       "    <tr>\n",
       "      <th>divida_atual</th>\n",
       "      <td>9500.00</td>\n",
       "      <td>1437.09</td>\n",
       "      <td>1156.26</td>\n",
       "      <td>0.23</td>\n",
       "      <td>573.62</td>\n",
       "      <td>1175.73</td>\n",
       "      <td>1963.33</td>\n",
       "      <td>4998.07</td>\n",
       "    </tr>\n",
       "    <tr>\n",
       "      <th>renda_anual</th>\n",
       "      <td>9500.00</td>\n",
       "      <td>195037.27</td>\n",
       "      <td>1454273.73</td>\n",
       "      <td>10473.87</td>\n",
       "      <td>26207.90</td>\n",
       "      <td>45991.11</td>\n",
       "      <td>80449.83</td>\n",
       "      <td>23279657.98</td>\n",
       "    </tr>\n",
       "    <tr>\n",
       "      <th>valor_em_investimentos</th>\n",
       "      <td>9500.00</td>\n",
       "      <td>612.00</td>\n",
       "      <td>2002.44</td>\n",
       "      <td>0.00</td>\n",
       "      <td>76.08</td>\n",
       "      <td>134.20</td>\n",
       "      <td>249.18</td>\n",
       "      <td>10000.00</td>\n",
       "    </tr>\n",
       "    <tr>\n",
       "      <th>taxa_utilizacao_credito</th>\n",
       "      <td>9500.00</td>\n",
       "      <td>32.27</td>\n",
       "      <td>5.11</td>\n",
       "      <td>20.99</td>\n",
       "      <td>28.08</td>\n",
       "      <td>32.26</td>\n",
       "      <td>36.46</td>\n",
       "      <td>49.56</td>\n",
       "    </tr>\n",
       "    <tr>\n",
       "      <th>num_emprestimos</th>\n",
       "      <td>9500.00</td>\n",
       "      <td>10.86</td>\n",
       "      <td>62.56</td>\n",
       "      <td>0.00</td>\n",
       "      <td>2.00</td>\n",
       "      <td>3.00</td>\n",
       "      <td>6.00</td>\n",
       "      <td>1496.00</td>\n",
       "    </tr>\n",
       "    <tr>\n",
       "      <th>num_contas_bancarias</th>\n",
       "      <td>9500.00</td>\n",
       "      <td>17.55</td>\n",
       "      <td>120.98</td>\n",
       "      <td>0.00</td>\n",
       "      <td>3.00</td>\n",
       "      <td>6.00</td>\n",
       "      <td>7.00</td>\n",
       "      <td>1779.00</td>\n",
       "    </tr>\n",
       "    <tr>\n",
       "      <th>num_cartoes_credito</th>\n",
       "      <td>9500.00</td>\n",
       "      <td>21.43</td>\n",
       "      <td>122.68</td>\n",
       "      <td>1.00</td>\n",
       "      <td>4.00</td>\n",
       "      <td>6.00</td>\n",
       "      <td>7.00</td>\n",
       "      <td>1479.00</td>\n",
       "    </tr>\n",
       "    <tr>\n",
       "      <th>dias_atraso_dt_venc</th>\n",
       "      <td>9500.00</td>\n",
       "      <td>20.99</td>\n",
       "      <td>14.80</td>\n",
       "      <td>-5.00</td>\n",
       "      <td>10.00</td>\n",
       "      <td>18.00</td>\n",
       "      <td>28.00</td>\n",
       "      <td>67.00</td>\n",
       "    </tr>\n",
       "    <tr>\n",
       "      <th>num_pgtos_atrasados</th>\n",
       "      <td>9500.00</td>\n",
       "      <td>29.83</td>\n",
       "      <td>222.64</td>\n",
       "      <td>0.00</td>\n",
       "      <td>9.00</td>\n",
       "      <td>14.00</td>\n",
       "      <td>18.00</td>\n",
       "      <td>4388.00</td>\n",
       "    </tr>\n",
       "    <tr>\n",
       "      <th>num_consultas_credito</th>\n",
       "      <td>9500.00</td>\n",
       "      <td>24.94</td>\n",
       "      <td>183.73</td>\n",
       "      <td>0.00</td>\n",
       "      <td>2.00</td>\n",
       "      <td>4.00</td>\n",
       "      <td>8.00</td>\n",
       "      <td>2589.00</td>\n",
       "    </tr>\n",
       "    <tr>\n",
       "      <th>taxa_juros</th>\n",
       "      <td>9500.00</td>\n",
       "      <td>66.62</td>\n",
       "      <td>440.12</td>\n",
       "      <td>1.00</td>\n",
       "      <td>8.00</td>\n",
       "      <td>14.00</td>\n",
       "      <td>20.00</td>\n",
       "      <td>5788.00</td>\n",
       "    </tr>\n",
       "  </tbody>\n",
       "</table>\n",
       "</div>"
      ],
      "text/plain": [
       "                          count      mean        std      min      25%  \\\n",
       "id_cliente              9500.00   6210.53    3603.24     1.00  3091.75   \n",
       "idade                   9500.00    126.40     685.04    18.00    28.00   \n",
       "saldo_atual             9500.00    404.53     217.70     0.09   272.36   \n",
       "divida_atual            9500.00   1437.09    1156.26     0.23   573.62   \n",
       "renda_anual             9500.00 195037.27 1454273.73 10473.87 26207.90   \n",
       "valor_em_investimentos  9500.00    612.00    2002.44     0.00    76.08   \n",
       "taxa_utilizacao_credito 9500.00     32.27       5.11    20.99    28.08   \n",
       "num_emprestimos         9500.00     10.86      62.56     0.00     2.00   \n",
       "num_contas_bancarias    9500.00     17.55     120.98     0.00     3.00   \n",
       "num_cartoes_credito     9500.00     21.43     122.68     1.00     4.00   \n",
       "dias_atraso_dt_venc     9500.00     20.99      14.80    -5.00    10.00   \n",
       "num_pgtos_atrasados     9500.00     29.83     222.64     0.00     9.00   \n",
       "num_consultas_credito   9500.00     24.94     183.73     0.00     2.00   \n",
       "taxa_juros              9500.00     66.62     440.12     1.00     8.00   \n",
       "\n",
       "                             50%      75%         max  \n",
       "id_cliente               6172.50  9320.25    12500.00  \n",
       "idade                      38.00    47.00     8598.00  \n",
       "saldo_atual               337.17   471.26     1602.04  \n",
       "divida_atual             1175.73  1963.33     4998.07  \n",
       "renda_anual             45991.11 80449.83 23279657.98  \n",
       "valor_em_investimentos    134.20   249.18    10000.00  \n",
       "taxa_utilizacao_credito    32.26    36.46       49.56  \n",
       "num_emprestimos             3.00     6.00     1496.00  \n",
       "num_contas_bancarias        6.00     7.00     1779.00  \n",
       "num_cartoes_credito         6.00     7.00     1479.00  \n",
       "dias_atraso_dt_venc        18.00    28.00       67.00  \n",
       "num_pgtos_atrasados        14.00    18.00     4388.00  \n",
       "num_consultas_credito       4.00     8.00     2589.00  \n",
       "taxa_juros                 14.00    20.00     5788.00  "
      ]
     },
     "execution_count": 12,
     "metadata": {},
     "output_type": "execute_result"
    }
   ],
   "source": [
    "df_train.describe().T"
   ]
  },
  {
   "cell_type": "markdown",
   "id": "929e98e9",
   "metadata": {},
   "source": [
    "## Data Cleaning"
   ]
  },
  {
   "cell_type": "code",
   "execution_count": 13,
   "id": "1bba15e1",
   "metadata": {},
   "outputs": [],
   "source": [
    "df2 = df_train.copy()"
   ]
  },
  {
   "cell_type": "code",
   "execution_count": 14,
   "id": "1b9f9d77",
   "metadata": {},
   "outputs": [],
   "source": [
    "def filter_outliers(df, col, factor=2):\n",
    "    q3 = df[col].quantile(0.75)\n",
    "    q1 = df[col].quantile(0.25)\n",
    "\n",
    "    iqr = q3 - q1\n",
    "    max_bouderie = q3 + iqr * factor\n",
    "    min_bouderie = q1 - iqr * factor\n",
    "    \n",
    "    col_editted = df[col].map(lambda x: x if (x >= min_bouderie) and (x <= max_bouderie) else max_bouderie *2)\n",
    "\n",
    "    return col_editted"
   ]
  },
  {
   "cell_type": "code",
   "execution_count": 15,
   "id": "e3e3b357",
   "metadata": {},
   "outputs": [],
   "source": [
    "df2['idade'] = filter_outliers(df2, 'idade')\n",
    "df2['valor_em_investimentos'] = filter_outliers(df2, 'valor_em_investimentos')\n",
    "df2['taxa_juros'] = filter_outliers(df2, 'taxa_juros')\n",
    "df2['renda_anual'] = filter_outliers(df2, 'renda_anual')\n",
    "df2['num_emprestimos'] = filter_outliers(df2, 'num_emprestimos')\n",
    "df2['num_cartoes_credito'] = filter_outliers(df2, 'num_cartoes_credito')\n",
    "df2['num_contas_bancarias'] = filter_outliers(df2, 'num_contas_bancarias')\n",
    "df2['num_consultas_credito'] = filter_outliers(df2, 'num_consultas_credito')"
   ]
  },
  {
   "cell_type": "markdown",
   "id": "bcb98d1d",
   "metadata": {
    "execution": {
     "iopub.execute_input": "2022-10-22T00:47:36.971877Z",
     "iopub.status.busy": "2022-10-22T00:47:36.971420Z",
     "iopub.status.idle": "2022-10-22T00:47:36.979422Z",
     "shell.execute_reply": "2022-10-22T00:47:36.976580Z",
     "shell.execute_reply.started": "2022-10-22T00:47:36.971845Z"
    },
    "papermill": {
     "duration": 0.010783,
     "end_time": "2022-10-22T02:13:23.606508",
     "exception": false,
     "start_time": "2022-10-22T02:13:23.595725",
     "status": "completed"
    },
    "tags": []
   },
   "source": [
    "## Data Preparation"
   ]
  },
  {
   "cell_type": "code",
   "execution_count": 16,
   "id": "6568981e",
   "metadata": {
    "execution": {
     "iopub.execute_input": "2022-10-22T02:13:23.630110Z",
     "iopub.status.busy": "2022-10-22T02:13:23.629703Z",
     "iopub.status.idle": "2022-10-22T02:13:23.635593Z",
     "shell.execute_reply": "2022-10-22T02:13:23.634645Z"
    },
    "papermill": {
     "duration": 0.020463,
     "end_time": "2022-10-22T02:13:23.637952",
     "exception": false,
     "start_time": "2022-10-22T02:13:23.617489",
     "status": "completed"
    },
    "tags": []
   },
   "outputs": [],
   "source": [
    "df_pp = df2.copy()"
   ]
  },
  {
   "cell_type": "markdown",
   "id": "7f71ba71",
   "metadata": {
    "papermill": {
     "duration": 0.010448,
     "end_time": "2022-10-22T02:13:23.659209",
     "exception": false,
     "start_time": "2022-10-22T02:13:23.648761",
     "status": "completed"
    },
    "tags": []
   },
   "source": [
    "## Remove useless features"
   ]
  },
  {
   "cell_type": "code",
   "execution_count": 17,
   "id": "afcae8f4",
   "metadata": {
    "execution": {
     "iopub.execute_input": "2022-10-22T02:13:23.682150Z",
     "iopub.status.busy": "2022-10-22T02:13:23.681781Z",
     "iopub.status.idle": "2022-10-22T02:13:23.688883Z",
     "shell.execute_reply": "2022-10-22T02:13:23.687823Z"
    },
    "papermill": {
     "duration": 0.021071,
     "end_time": "2022-10-22T02:13:23.690949",
     "exception": false,
     "start_time": "2022-10-22T02:13:23.669878",
     "status": "completed"
    },
    "tags": []
   },
   "outputs": [],
   "source": [
    "cols_remove = ['id_cliente']\n",
    "df_pp = df_pp.drop(columns=cols_remove)"
   ]
  },
  {
   "cell_type": "code",
   "execution_count": 18,
   "id": "e2fa064b",
   "metadata": {
    "execution": {
     "iopub.execute_input": "2022-10-22T02:13:23.713935Z",
     "iopub.status.busy": "2022-10-22T02:13:23.713532Z",
     "iopub.status.idle": "2022-10-22T02:13:23.724922Z",
     "shell.execute_reply": "2022-10-22T02:13:23.723793Z"
    },
    "papermill": {
     "duration": 0.0257,
     "end_time": "2022-10-22T02:13:23.727366",
     "exception": false,
     "start_time": "2022-10-22T02:13:23.701666",
     "status": "completed"
    },
    "tags": []
   },
   "outputs": [],
   "source": [
    "X = df_pp.drop(columns=['limite_adicional'])\n",
    "y = df_pp['limite_adicional']\n",
    "\n",
    "X_train, X_test, y_train, y_test = ms.train_test_split(X, y, test_size=0.2, random_state=42)"
   ]
  },
  {
   "cell_type": "markdown",
   "id": "d5c9ed01",
   "metadata": {
    "papermill": {
     "duration": 0.010417,
     "end_time": "2022-10-22T02:13:23.748618",
     "exception": false,
     "start_time": "2022-10-22T02:13:23.738201",
     "status": "completed"
    },
    "tags": []
   },
   "source": [
    "## Feature Encoding"
   ]
  },
  {
   "cell_type": "markdown",
   "id": "544c4ea3",
   "metadata": {
    "papermill": {
     "duration": 0.010398,
     "end_time": "2022-10-22T02:13:23.769630",
     "exception": false,
     "start_time": "2022-10-22T02:13:23.759232",
     "status": "completed"
    },
    "tags": []
   },
   "source": [
    "### Class encoding"
   ]
  },
  {
   "cell_type": "code",
   "execution_count": 19,
   "id": "37306efb",
   "metadata": {
    "execution": {
     "iopub.execute_input": "2022-10-22T02:13:23.792978Z",
     "iopub.status.busy": "2022-10-22T02:13:23.792592Z",
     "iopub.status.idle": "2022-10-22T02:13:23.798922Z",
     "shell.execute_reply": "2022-10-22T02:13:23.798091Z"
    },
    "papermill": {
     "duration": 0.020575,
     "end_time": "2022-10-22T02:13:23.800927",
     "exception": false,
     "start_time": "2022-10-22T02:13:23.780352",
     "status": "completed"
    },
    "tags": []
   },
   "outputs": [],
   "source": [
    "#class_col_enc = 'bank_account'\n",
    "\n",
    "d_class = {\n",
    "    'Negar': 0,\n",
    "    'Conceder': 1\n",
    "}\n",
    "\n",
    "y_train = y_train.map(d_class)"
   ]
  },
  {
   "cell_type": "markdown",
   "id": "b3e41397",
   "metadata": {
    "papermill": {
     "duration": 0.010385,
     "end_time": "2022-10-22T02:13:23.822007",
     "exception": false,
     "start_time": "2022-10-22T02:13:23.811622",
     "status": "completed"
    },
    "tags": []
   },
   "source": [
    "### Frequency encoding"
   ]
  },
  {
   "cell_type": "code",
   "execution_count": 20,
   "id": "fcabbab9",
   "metadata": {
    "execution": {
     "iopub.execute_input": "2022-10-22T02:13:23.844980Z",
     "iopub.status.busy": "2022-10-22T02:13:23.844222Z",
     "iopub.status.idle": "2022-10-22T02:13:23.892810Z",
     "shell.execute_reply": "2022-10-22T02:13:23.891667Z"
    },
    "papermill": {
     "duration": 0.063091,
     "end_time": "2022-10-22T02:13:23.895653",
     "exception": false,
     "start_time": "2022-10-22T02:13:23.832562",
     "status": "completed"
    },
    "tags": []
   },
   "outputs": [],
   "source": [
    "X_train['investe_exterior'] = X_train['investe_exterior'].map(lambda x: 0.76 if x == 0.15 else 0.24)\n",
    "X_train['pessoa_polit_exp'] = X_train['pessoa_polit_exp'].map(lambda x: 0.94 if x == 0.16 else 0.06)\n"
   ]
  },
  {
   "cell_type": "markdown",
   "id": "78fff195",
   "metadata": {},
   "source": [
    "### Normalization"
   ]
  },
  {
   "cell_type": "code",
   "execution_count": 21,
   "id": "3e8a93c3",
   "metadata": {},
   "outputs": [],
   "source": [
    "ss = StandardScaler()\n",
    "\n",
    "# saldo_autal\n",
    "X_train['taxa_utilizacao_credito'] = ss.fit_transform( X_train[['taxa_utilizacao_credito']].values )"
   ]
  },
  {
   "cell_type": "markdown",
   "id": "544a1d40",
   "metadata": {},
   "source": [
    "### Rescaling"
   ]
  },
  {
   "cell_type": "code",
   "execution_count": 22,
   "id": "8aa6eaea",
   "metadata": {},
   "outputs": [],
   "source": [
    "rs = RobustScaler()\n",
    "mms = MinMaxScaler()\n",
    "\n",
    "## Robust Scaler\n",
    "# idade\n",
    "X_train['idade'] = rs.fit_transform( X_train[['idade']].values )\n",
    "pickle.dump( rs, open( 'parameter/idade_scaler.pkl', 'wb') )\n",
    "\n",
    "# saldo_atual\n",
    "X_train['saldo_atual'] = rs.fit_transform( X_train[['saldo_atual']].values )\n",
    "pickle.dump( rs, open( 'parameter/saldo_atual_scaler.pkl', 'wb') )\n",
    "\n",
    "# renda_anual\n",
    "X_train['renda_anual'] = rs.fit_transform( X_train[['renda_anual']].values )\n",
    "pickle.dump( rs, open( 'parameter/renda_anual_scaler.pkl', 'wb') )\n",
    "\n",
    "# valor_em_investimentos\n",
    "X_train['valor_em_investimentos'] = rs.fit_transform( X_train[['valor_em_investimentos']].values )\n",
    "pickle.dump( rs, open( 'parameter/valor_em_investimentos_scaler.pkl', 'wb') )\n",
    "\n",
    "# num_emprestimos\n",
    "X_train['num_emprestimos'] = rs.fit_transform( X_train[['num_emprestimos']].values )\n",
    "pickle.dump( rs, open( 'parameter/num_emprestimos_scaler.pkl', 'wb') )\n",
    "\n",
    "# num_contas_bancarias\n",
    "X_train['num_contas_bancarias'] = rs.fit_transform( X_train[['num_contas_bancarias']].values )\n",
    "pickle.dump( rs, open( 'parameter/num_contas_bancarias_scaler.pkl', 'wb') )\n",
    "\n",
    "# num_cartoes_credito\n",
    "X_train['num_cartoes_credito'] = rs.fit_transform( X_train[['num_cartoes_credito']].values )\n",
    "pickle.dump( rs, open( 'parameter/num_cartoes_credito_scaler.pkl', 'wb') )\n",
    "\n",
    "# num_pgtos_atrasados\n",
    "X_train['num_pgtos_atrasados'] = rs.fit_transform( X_train[['num_pgtos_atrasados']].values )\n",
    "pickle.dump( rs, open( 'parameter/num_pgtos_atrasados_scaler.pkl', 'wb') )\n",
    "\n",
    "# num_consultas_credito\n",
    "X_train['num_consultas_credito'] = rs.fit_transform( X_train[['num_consultas_credito']].values )\n",
    "pickle.dump( rs, open( 'parameter/num_consultas_credito_scaler.pkl', 'wb') )\n",
    "\n",
    "# taxa_juros\n",
    "X_train['taxa_juros'] = rs.fit_transform( X_train[['taxa_juros']].values )\n",
    "pickle.dump( rs, open( 'parameter/taxa_juros_scaler.pkl', 'wb') )\n",
    "\n",
    "## MinMax Scaler\n",
    "# dias_atraso_dt_venc\n",
    "X_train['dias_atraso_dt_venc'] = mms.fit_transform( X_train[['dias_atraso_dt_venc']].values )\n",
    "pickle.dump( rs, open( 'parameter/dias_atraso_dt_venc_scaler.pkl', 'wb') )\n",
    "\n",
    "# divida_atual\n",
    "X_train['divida_atual'] = mms.fit_transform( X_train[['divida_atual']].values )\n",
    "pickle.dump( rs, open( 'parameter/divida_atual_scaler.pkl', 'wb') )"
   ]
  },
  {
   "cell_type": "code",
   "execution_count": 23,
   "id": "c0ab7434",
   "metadata": {},
   "outputs": [
    {
     "data": {
      "text/html": [
       "<div>\n",
       "<style scoped>\n",
       "    .dataframe tbody tr th:only-of-type {\n",
       "        vertical-align: middle;\n",
       "    }\n",
       "\n",
       "    .dataframe tbody tr th {\n",
       "        vertical-align: top;\n",
       "    }\n",
       "\n",
       "    .dataframe thead th {\n",
       "        text-align: right;\n",
       "    }\n",
       "</style>\n",
       "<table border=\"1\" class=\"dataframe\">\n",
       "  <thead>\n",
       "    <tr style=\"text-align: right;\">\n",
       "      <th></th>\n",
       "      <th>idade</th>\n",
       "      <th>saldo_atual</th>\n",
       "      <th>divida_atual</th>\n",
       "      <th>renda_anual</th>\n",
       "      <th>valor_em_investimentos</th>\n",
       "      <th>taxa_utilizacao_credito</th>\n",
       "      <th>num_emprestimos</th>\n",
       "      <th>num_contas_bancarias</th>\n",
       "      <th>num_cartoes_credito</th>\n",
       "      <th>dias_atraso_dt_venc</th>\n",
       "      <th>num_pgtos_atrasados</th>\n",
       "      <th>num_consultas_credito</th>\n",
       "      <th>taxa_juros</th>\n",
       "      <th>investe_exterior</th>\n",
       "      <th>pessoa_polit_exp</th>\n",
       "    </tr>\n",
       "  </thead>\n",
       "  <tbody>\n",
       "    <tr>\n",
       "      <th>8444</th>\n",
       "      <td>0.11</td>\n",
       "      <td>-0.46</td>\n",
       "      <td>0.51</td>\n",
       "      <td>-0.60</td>\n",
       "      <td>-0.43</td>\n",
       "      <td>0.37</td>\n",
       "      <td>0.75</td>\n",
       "      <td>-0.60</td>\n",
       "      <td>1.00</td>\n",
       "      <td>0.32</td>\n",
       "      <td>0.67</td>\n",
       "      <td>1.00</td>\n",
       "      <td>0.08</td>\n",
       "      <td>0.24</td>\n",
       "      <td>0.06</td>\n",
       "    </tr>\n",
       "    <tr>\n",
       "      <th>4619</th>\n",
       "      <td>0.16</td>\n",
       "      <td>0.01</td>\n",
       "      <td>0.10</td>\n",
       "      <td>-0.53</td>\n",
       "      <td>-0.33</td>\n",
       "      <td>1.16</td>\n",
       "      <td>-0.75</td>\n",
       "      <td>0.20</td>\n",
       "      <td>-1.00</td>\n",
       "      <td>0.32</td>\n",
       "      <td>0.56</td>\n",
       "      <td>0.00</td>\n",
       "      <td>-0.83</td>\n",
       "      <td>0.24</td>\n",
       "      <td>0.06</td>\n",
       "    </tr>\n",
       "    <tr>\n",
       "      <th>7197</th>\n",
       "      <td>-0.74</td>\n",
       "      <td>-0.56</td>\n",
       "      <td>0.02</td>\n",
       "      <td>-0.40</td>\n",
       "      <td>0.22</td>\n",
       "      <td>-0.01</td>\n",
       "      <td>0.25</td>\n",
       "      <td>-0.40</td>\n",
       "      <td>0.00</td>\n",
       "      <td>0.43</td>\n",
       "      <td>0.00</td>\n",
       "      <td>0.00</td>\n",
       "      <td>0.00</td>\n",
       "      <td>0.24</td>\n",
       "      <td>0.06</td>\n",
       "    </tr>\n",
       "    <tr>\n",
       "      <th>9342</th>\n",
       "      <td>-0.21</td>\n",
       "      <td>0.30</td>\n",
       "      <td>0.71</td>\n",
       "      <td>0.02</td>\n",
       "      <td>6.02</td>\n",
       "      <td>-0.87</td>\n",
       "      <td>0.50</td>\n",
       "      <td>0.40</td>\n",
       "      <td>0.33</td>\n",
       "      <td>0.31</td>\n",
       "      <td>0.22</td>\n",
       "      <td>0.83</td>\n",
       "      <td>0.17</td>\n",
       "      <td>0.24</td>\n",
       "      <td>0.06</td>\n",
       "    </tr>\n",
       "    <tr>\n",
       "      <th>8008</th>\n",
       "      <td>1.05</td>\n",
       "      <td>1.73</td>\n",
       "      <td>0.06</td>\n",
       "      <td>1.00</td>\n",
       "      <td>0.00</td>\n",
       "      <td>0.96</td>\n",
       "      <td>0.00</td>\n",
       "      <td>0.40</td>\n",
       "      <td>-0.67</td>\n",
       "      <td>0.40</td>\n",
       "      <td>0.00</td>\n",
       "      <td>-0.67</td>\n",
       "      <td>-0.33</td>\n",
       "      <td>0.24</td>\n",
       "      <td>0.06</td>\n",
       "    </tr>\n",
       "  </tbody>\n",
       "</table>\n",
       "</div>"
      ],
      "text/plain": [
       "      idade  saldo_atual  divida_atual  renda_anual  valor_em_investimentos  \\\n",
       "8444   0.11        -0.46          0.51        -0.60                   -0.43   \n",
       "4619   0.16         0.01          0.10        -0.53                   -0.33   \n",
       "7197  -0.74        -0.56          0.02        -0.40                    0.22   \n",
       "9342  -0.21         0.30          0.71         0.02                    6.02   \n",
       "8008   1.05         1.73          0.06         1.00                    0.00   \n",
       "\n",
       "      taxa_utilizacao_credito  num_emprestimos  num_contas_bancarias  \\\n",
       "8444                     0.37             0.75                 -0.60   \n",
       "4619                     1.16            -0.75                  0.20   \n",
       "7197                    -0.01             0.25                 -0.40   \n",
       "9342                    -0.87             0.50                  0.40   \n",
       "8008                     0.96             0.00                  0.40   \n",
       "\n",
       "      num_cartoes_credito  dias_atraso_dt_venc  num_pgtos_atrasados  \\\n",
       "8444                 1.00                 0.32                 0.67   \n",
       "4619                -1.00                 0.32                 0.56   \n",
       "7197                 0.00                 0.43                 0.00   \n",
       "9342                 0.33                 0.31                 0.22   \n",
       "8008                -0.67                 0.40                 0.00   \n",
       "\n",
       "      num_consultas_credito  taxa_juros  investe_exterior  pessoa_polit_exp  \n",
       "8444                   1.00        0.08              0.24              0.06  \n",
       "4619                   0.00       -0.83              0.24              0.06  \n",
       "7197                   0.00        0.00              0.24              0.06  \n",
       "9342                   0.83        0.17              0.24              0.06  \n",
       "8008                  -0.67       -0.33              0.24              0.06  "
      ]
     },
     "execution_count": 23,
     "metadata": {},
     "output_type": "execute_result"
    }
   ],
   "source": [
    "X_train.head()"
   ]
  },
  {
   "cell_type": "markdown",
   "id": "13a7fafb",
   "metadata": {
    "execution": {
     "iopub.execute_input": "2022-10-22T01:27:22.573445Z",
     "iopub.status.busy": "2022-10-22T01:27:22.572929Z",
     "iopub.status.idle": "2022-10-22T01:27:22.581581Z",
     "shell.execute_reply": "2022-10-22T01:27:22.580412Z",
     "shell.execute_reply.started": "2022-10-22T01:27:22.573407Z"
    },
    "papermill": {
     "duration": 0.010466,
     "end_time": "2022-10-22T02:13:23.917175",
     "exception": false,
     "start_time": "2022-10-22T02:13:23.906709",
     "status": "completed"
    },
    "tags": []
   },
   "source": [
    "## Modeling & Evaluation"
   ]
  },
  {
   "cell_type": "code",
   "execution_count": 24,
   "id": "2dc0fd69",
   "metadata": {
    "execution": {
     "iopub.execute_input": "2022-10-22T02:13:23.940843Z",
     "iopub.status.busy": "2022-10-22T02:13:23.939838Z",
     "iopub.status.idle": "2022-10-22T02:13:24.109782Z",
     "shell.execute_reply": "2022-10-22T02:13:24.108658Z"
    },
    "papermill": {
     "duration": 0.184761,
     "end_time": "2022-10-22T02:13:24.112594",
     "exception": false,
     "start_time": "2022-10-22T02:13:23.927833",
     "status": "completed"
    },
    "tags": []
   },
   "outputs": [],
   "source": [
    "from sklearn.model_selection import cross_val_score, cross_validate\n",
    "from sklearn.ensemble import RandomForestClassifier"
   ]
  },
  {
   "cell_type": "code",
   "execution_count": 25,
   "id": "0929bdb0",
   "metadata": {
    "execution": {
     "iopub.execute_input": "2022-10-22T02:13:24.136348Z",
     "iopub.status.busy": "2022-10-22T02:13:24.135973Z",
     "iopub.status.idle": "2022-10-22T02:13:27.600088Z",
     "shell.execute_reply": "2022-10-22T02:13:27.599052Z"
    },
    "papermill": {
     "duration": 3.478468,
     "end_time": "2022-10-22T02:13:27.602168",
     "exception": false,
     "start_time": "2022-10-22T02:13:24.123700",
     "status": "completed"
    },
    "tags": []
   },
   "outputs": [
    {
     "data": {
      "text/plain": [
       "array([0.87921152, 0.87187959, 0.86802798, 0.87493857, 0.865337  ])"
      ]
     },
     "execution_count": 25,
     "metadata": {},
     "output_type": "execute_result"
    }
   ],
   "source": [
    "rf = RandomForestClassifier(criterion='entropy',\\\n",
    "                            min_samples_leaf=10, n_estimators=100,\\\n",
    "                            max_features=None, random_state=42)\n",
    "cross_val_score(estimator=rf, X=X_train,y=y_train,scoring='f1_weighted',cv=5, n_jobs=-1)"
   ]
  },
  {
   "cell_type": "code",
   "execution_count": 26,
   "id": "ac2ff3fa",
   "metadata": {
    "execution": {
     "iopub.execute_input": "2022-10-22T02:13:27.627530Z",
     "iopub.status.busy": "2022-10-22T02:13:27.627104Z",
     "iopub.status.idle": "2022-10-22T02:13:29.156234Z",
     "shell.execute_reply": "2022-10-22T02:13:29.154962Z"
    },
    "papermill": {
     "duration": 1.545037,
     "end_time": "2022-10-22T02:13:29.158893",
     "exception": false,
     "start_time": "2022-10-22T02:13:27.613856",
     "status": "completed"
    },
    "scrolled": true,
    "tags": []
   },
   "outputs": [
    {
     "data": {
      "text/plain": [
       "{'fit_time': array([2.9686439 , 2.87055397, 2.8923707 , 2.90985417, 2.94307208]),\n",
       " 'score_time': array([0.03471398, 0.03568268, 0.03424215, 0.03543615, 0.03447008]),\n",
       " 'test_score': array([0.87921152, 0.87187959, 0.86802798, 0.87493857, 0.865337  ]),\n",
       " 'train_score': array([0.94576019, 0.94436579, 0.9437741 , 0.94781788, 0.93855746])}"
      ]
     },
     "execution_count": 26,
     "metadata": {},
     "output_type": "execute_result"
    }
   ],
   "source": [
    "rf = RandomForestClassifier(criterion='entropy',\\\n",
    "                            min_samples_leaf=10, n_estimators=100,\\\n",
    "                            max_features=None, random_state=42)\n",
    "cross_validate(estimator=rf, X=X_train,y=y_train,scoring='f1_weighted',cv=5, n_jobs=-1, return_train_score=True)"
   ]
  },
  {
   "cell_type": "code",
   "execution_count": 27,
   "id": "8b30fcca",
   "metadata": {
    "execution": {
     "iopub.execute_input": "2022-10-22T02:13:29.184140Z",
     "iopub.status.busy": "2022-10-22T02:13:29.183347Z",
     "iopub.status.idle": "2022-10-22T02:13:29.744578Z",
     "shell.execute_reply": "2022-10-22T02:13:29.743391Z"
    },
    "papermill": {
     "duration": 0.576403,
     "end_time": "2022-10-22T02:13:29.746893",
     "exception": false,
     "start_time": "2022-10-22T02:13:29.170490",
     "status": "completed"
    },
    "tags": []
   },
   "outputs": [
    {
     "data": {
      "text/html": [
       "<style>#sk-container-id-1 {color: black;background-color: white;}#sk-container-id-1 pre{padding: 0;}#sk-container-id-1 div.sk-toggleable {background-color: white;}#sk-container-id-1 label.sk-toggleable__label {cursor: pointer;display: block;width: 100%;margin-bottom: 0;padding: 0.3em;box-sizing: border-box;text-align: center;}#sk-container-id-1 label.sk-toggleable__label-arrow:before {content: \"▸\";float: left;margin-right: 0.25em;color: #696969;}#sk-container-id-1 label.sk-toggleable__label-arrow:hover:before {color: black;}#sk-container-id-1 div.sk-estimator:hover label.sk-toggleable__label-arrow:before {color: black;}#sk-container-id-1 div.sk-toggleable__content {max-height: 0;max-width: 0;overflow: hidden;text-align: left;background-color: #f0f8ff;}#sk-container-id-1 div.sk-toggleable__content pre {margin: 0.2em;color: black;border-radius: 0.25em;background-color: #f0f8ff;}#sk-container-id-1 input.sk-toggleable__control:checked~div.sk-toggleable__content {max-height: 200px;max-width: 100%;overflow: auto;}#sk-container-id-1 input.sk-toggleable__control:checked~label.sk-toggleable__label-arrow:before {content: \"▾\";}#sk-container-id-1 div.sk-estimator input.sk-toggleable__control:checked~label.sk-toggleable__label {background-color: #d4ebff;}#sk-container-id-1 div.sk-label input.sk-toggleable__control:checked~label.sk-toggleable__label {background-color: #d4ebff;}#sk-container-id-1 input.sk-hidden--visually {border: 0;clip: rect(1px 1px 1px 1px);clip: rect(1px, 1px, 1px, 1px);height: 1px;margin: -1px;overflow: hidden;padding: 0;position: absolute;width: 1px;}#sk-container-id-1 div.sk-estimator {font-family: monospace;background-color: #f0f8ff;border: 1px dotted black;border-radius: 0.25em;box-sizing: border-box;margin-bottom: 0.5em;}#sk-container-id-1 div.sk-estimator:hover {background-color: #d4ebff;}#sk-container-id-1 div.sk-parallel-item::after {content: \"\";width: 100%;border-bottom: 1px solid gray;flex-grow: 1;}#sk-container-id-1 div.sk-label:hover label.sk-toggleable__label {background-color: #d4ebff;}#sk-container-id-1 div.sk-serial::before {content: \"\";position: absolute;border-left: 1px solid gray;box-sizing: border-box;top: 0;bottom: 0;left: 50%;z-index: 0;}#sk-container-id-1 div.sk-serial {display: flex;flex-direction: column;align-items: center;background-color: white;padding-right: 0.2em;padding-left: 0.2em;position: relative;}#sk-container-id-1 div.sk-item {position: relative;z-index: 1;}#sk-container-id-1 div.sk-parallel {display: flex;align-items: stretch;justify-content: center;background-color: white;position: relative;}#sk-container-id-1 div.sk-item::before, #sk-container-id-1 div.sk-parallel-item::before {content: \"\";position: absolute;border-left: 1px solid gray;box-sizing: border-box;top: 0;bottom: 0;left: 50%;z-index: -1;}#sk-container-id-1 div.sk-parallel-item {display: flex;flex-direction: column;z-index: 1;position: relative;background-color: white;}#sk-container-id-1 div.sk-parallel-item:first-child::after {align-self: flex-end;width: 50%;}#sk-container-id-1 div.sk-parallel-item:last-child::after {align-self: flex-start;width: 50%;}#sk-container-id-1 div.sk-parallel-item:only-child::after {width: 0;}#sk-container-id-1 div.sk-dashed-wrapped {border: 1px dashed gray;margin: 0 0.4em 0.5em 0.4em;box-sizing: border-box;padding-bottom: 0.4em;background-color: white;}#sk-container-id-1 div.sk-label label {font-family: monospace;font-weight: bold;display: inline-block;line-height: 1.2em;}#sk-container-id-1 div.sk-label-container {text-align: center;}#sk-container-id-1 div.sk-container {/* jupyter's `normalize.less` sets `[hidden] { display: none; }` but bootstrap.min.css set `[hidden] { display: none !important; }` so we also need the `!important` here to be able to override the default hidden behavior on the sphinx rendered scikit-learn.org. See: https://github.com/scikit-learn/scikit-learn/issues/21755 */display: inline-block !important;position: relative;}#sk-container-id-1 div.sk-text-repr-fallback {display: none;}</style><div id=\"sk-container-id-1\" class=\"sk-top-container\"><div class=\"sk-text-repr-fallback\"><pre>RandomForestClassifier(criterion=&#x27;entropy&#x27;, max_features=None,\n",
       "                       min_samples_leaf=10, random_state=42)</pre><b>In a Jupyter environment, please rerun this cell to show the HTML representation or trust the notebook. <br />On GitHub, the HTML representation is unable to render, please try loading this page with nbviewer.org.</b></div><div class=\"sk-container\" hidden><div class=\"sk-item\"><div class=\"sk-estimator sk-toggleable\"><input class=\"sk-toggleable__control sk-hidden--visually\" id=\"sk-estimator-id-1\" type=\"checkbox\" checked><label for=\"sk-estimator-id-1\" class=\"sk-toggleable__label sk-toggleable__label-arrow\">RandomForestClassifier</label><div class=\"sk-toggleable__content\"><pre>RandomForestClassifier(criterion=&#x27;entropy&#x27;, max_features=None,\n",
       "                       min_samples_leaf=10, random_state=42)</pre></div></div></div></div></div>"
      ],
      "text/plain": [
       "RandomForestClassifier(criterion='entropy', max_features=None,\n",
       "                       min_samples_leaf=10, random_state=42)"
      ]
     },
     "execution_count": 27,
     "metadata": {},
     "output_type": "execute_result"
    }
   ],
   "source": [
    "rf.fit(X_train, y_train)"
   ]
  },
  {
   "cell_type": "code",
   "execution_count": 28,
   "id": "eb452d4c",
   "metadata": {
    "execution": {
     "iopub.execute_input": "2022-10-22T02:13:29.771305Z",
     "iopub.status.busy": "2022-10-22T02:13:29.770167Z",
     "iopub.status.idle": "2022-10-22T02:13:29.793921Z",
     "shell.execute_reply": "2022-10-22T02:13:29.793117Z"
    },
    "papermill": {
     "duration": 0.038038,
     "end_time": "2022-10-22T02:13:29.796123",
     "exception": false,
     "start_time": "2022-10-22T02:13:29.758085",
     "status": "completed"
    },
    "tags": []
   },
   "outputs": [
    {
     "data": {
      "text/html": [
       "<div>\n",
       "<style scoped>\n",
       "    .dataframe tbody tr th:only-of-type {\n",
       "        vertical-align: middle;\n",
       "    }\n",
       "\n",
       "    .dataframe tbody tr th {\n",
       "        vertical-align: top;\n",
       "    }\n",
       "\n",
       "    .dataframe thead th {\n",
       "        text-align: right;\n",
       "    }\n",
       "</style>\n",
       "<table border=\"1\" class=\"dataframe\">\n",
       "  <thead>\n",
       "    <tr style=\"text-align: right;\">\n",
       "      <th></th>\n",
       "      <th>idade</th>\n",
       "      <th>saldo_atual</th>\n",
       "      <th>divida_atual</th>\n",
       "      <th>renda_anual</th>\n",
       "      <th>valor_em_investimentos</th>\n",
       "      <th>taxa_utilizacao_credito</th>\n",
       "      <th>num_emprestimos</th>\n",
       "      <th>num_contas_bancarias</th>\n",
       "      <th>num_cartoes_credito</th>\n",
       "      <th>dias_atraso_dt_venc</th>\n",
       "      <th>num_pgtos_atrasados</th>\n",
       "      <th>num_consultas_credito</th>\n",
       "      <th>taxa_juros</th>\n",
       "      <th>investe_exterior</th>\n",
       "      <th>pessoa_polit_exp</th>\n",
       "    </tr>\n",
       "  </thead>\n",
       "  <tbody>\n",
       "    <tr>\n",
       "      <th>952</th>\n",
       "      <td>20.00</td>\n",
       "      <td>274.54</td>\n",
       "      <td>3012.26</td>\n",
       "      <td>67460.98</td>\n",
       "      <td>141.13</td>\n",
       "      <td>27.27</td>\n",
       "      <td>9.00</td>\n",
       "      <td>8.00</td>\n",
       "      <td>9.00</td>\n",
       "      <td>55</td>\n",
       "      <td>20</td>\n",
       "      <td>40.00</td>\n",
       "      <td>17.00</td>\n",
       "      <td>Não</td>\n",
       "      <td>Não</td>\n",
       "    </tr>\n",
       "    <tr>\n",
       "      <th>6599</th>\n",
       "      <td>42.00</td>\n",
       "      <td>897.69</td>\n",
       "      <td>707.79</td>\n",
       "      <td>127302.80</td>\n",
       "      <td>134.20</td>\n",
       "      <td>41.51</td>\n",
       "      <td>3.00</td>\n",
       "      <td>0.00</td>\n",
       "      <td>4.00</td>\n",
       "      <td>25</td>\n",
       "      <td>8</td>\n",
       "      <td>4.00</td>\n",
       "      <td>4.00</td>\n",
       "      <td>Sim</td>\n",
       "      <td>Não</td>\n",
       "    </tr>\n",
       "    <tr>\n",
       "      <th>4220</th>\n",
       "      <td>170.00</td>\n",
       "      <td>332.86</td>\n",
       "      <td>861.19</td>\n",
       "      <td>26134.11</td>\n",
       "      <td>134.20</td>\n",
       "      <td>33.34</td>\n",
       "      <td>1.00</td>\n",
       "      <td>5.00</td>\n",
       "      <td>3.00</td>\n",
       "      <td>14</td>\n",
       "      <td>11</td>\n",
       "      <td>2.00</td>\n",
       "      <td>8.00</td>\n",
       "      <td>Não</td>\n",
       "      <td>Não</td>\n",
       "    </tr>\n",
       "    <tr>\n",
       "      <th>2554</th>\n",
       "      <td>55.00</td>\n",
       "      <td>181.95</td>\n",
       "      <td>1127.35</td>\n",
       "      <td>54290.68</td>\n",
       "      <td>1190.76</td>\n",
       "      <td>32.93</td>\n",
       "      <td>0.00</td>\n",
       "      <td>6.00</td>\n",
       "      <td>6.00</td>\n",
       "      <td>4</td>\n",
       "      <td>14</td>\n",
       "      <td>1.00</td>\n",
       "      <td>8.00</td>\n",
       "      <td>Não</td>\n",
       "      <td>Não</td>\n",
       "    </tr>\n",
       "    <tr>\n",
       "      <th>4519</th>\n",
       "      <td>46.00</td>\n",
       "      <td>245.61</td>\n",
       "      <td>4821.28</td>\n",
       "      <td>22307.20</td>\n",
       "      <td>55.24</td>\n",
       "      <td>34.46</td>\n",
       "      <td>8.00</td>\n",
       "      <td>7.00</td>\n",
       "      <td>9.00</td>\n",
       "      <td>47</td>\n",
       "      <td>28</td>\n",
       "      <td>11.00</td>\n",
       "      <td>32.00</td>\n",
       "      <td>Sim</td>\n",
       "      <td>Não</td>\n",
       "    </tr>\n",
       "    <tr>\n",
       "      <th>...</th>\n",
       "      <td>...</td>\n",
       "      <td>...</td>\n",
       "      <td>...</td>\n",
       "      <td>...</td>\n",
       "      <td>...</td>\n",
       "      <td>...</td>\n",
       "      <td>...</td>\n",
       "      <td>...</td>\n",
       "      <td>...</td>\n",
       "      <td>...</td>\n",
       "      <td>...</td>\n",
       "      <td>...</td>\n",
       "      <td>...</td>\n",
       "      <td>...</td>\n",
       "      <td>...</td>\n",
       "    </tr>\n",
       "    <tr>\n",
       "      <th>6727</th>\n",
       "      <td>48.00</td>\n",
       "      <td>359.21</td>\n",
       "      <td>1405.95</td>\n",
       "      <td>23903.70</td>\n",
       "      <td>49.75</td>\n",
       "      <td>24.47</td>\n",
       "      <td>2.00</td>\n",
       "      <td>3.00</td>\n",
       "      <td>7.00</td>\n",
       "      <td>13</td>\n",
       "      <td>9</td>\n",
       "      <td>6.00</td>\n",
       "      <td>15.00</td>\n",
       "      <td>Não</td>\n",
       "      <td>Não</td>\n",
       "    </tr>\n",
       "    <tr>\n",
       "      <th>6629</th>\n",
       "      <td>50.00</td>\n",
       "      <td>511.39</td>\n",
       "      <td>1017.45</td>\n",
       "      <td>73345.50</td>\n",
       "      <td>105.16</td>\n",
       "      <td>33.70</td>\n",
       "      <td>3.00</td>\n",
       "      <td>3.00</td>\n",
       "      <td>26.00</td>\n",
       "      <td>3</td>\n",
       "      <td>1</td>\n",
       "      <td>3.00</td>\n",
       "      <td>9.00</td>\n",
       "      <td>Não</td>\n",
       "      <td>Não</td>\n",
       "    </tr>\n",
       "    <tr>\n",
       "      <th>4734</th>\n",
       "      <td>22.00</td>\n",
       "      <td>496.00</td>\n",
       "      <td>448.95</td>\n",
       "      <td>97628.91</td>\n",
       "      <td>516.53</td>\n",
       "      <td>39.02</td>\n",
       "      <td>0.00</td>\n",
       "      <td>0.00</td>\n",
       "      <td>6.00</td>\n",
       "      <td>7</td>\n",
       "      <td>10</td>\n",
       "      <td>2.00</td>\n",
       "      <td>8.00</td>\n",
       "      <td>Não</td>\n",
       "      <td>Não</td>\n",
       "    </tr>\n",
       "    <tr>\n",
       "      <th>4411</th>\n",
       "      <td>25.00</td>\n",
       "      <td>366.98</td>\n",
       "      <td>1115.06</td>\n",
       "      <td>34660.22</td>\n",
       "      <td>116.14</td>\n",
       "      <td>28.63</td>\n",
       "      <td>1.00</td>\n",
       "      <td>7.00</td>\n",
       "      <td>5.00</td>\n",
       "      <td>16</td>\n",
       "      <td>20</td>\n",
       "      <td>3.00</td>\n",
       "      <td>6.00</td>\n",
       "      <td>Sim</td>\n",
       "      <td>Não</td>\n",
       "    </tr>\n",
       "    <tr>\n",
       "      <th>3933</th>\n",
       "      <td>41.00</td>\n",
       "      <td>571.76</td>\n",
       "      <td>722.28</td>\n",
       "      <td>377867.37</td>\n",
       "      <td>1190.76</td>\n",
       "      <td>41.66</td>\n",
       "      <td>4.00</td>\n",
       "      <td>8.00</td>\n",
       "      <td>4.00</td>\n",
       "      <td>11</td>\n",
       "      <td>17</td>\n",
       "      <td>4.00</td>\n",
       "      <td>20.00</td>\n",
       "      <td>Não</td>\n",
       "      <td>Não</td>\n",
       "    </tr>\n",
       "  </tbody>\n",
       "</table>\n",
       "<p>1900 rows × 15 columns</p>\n",
       "</div>"
      ],
      "text/plain": [
       "      idade  saldo_atual  divida_atual  renda_anual  valor_em_investimentos  \\\n",
       "952   20.00       274.54       3012.26     67460.98                  141.13   \n",
       "6599  42.00       897.69        707.79    127302.80                  134.20   \n",
       "4220 170.00       332.86        861.19     26134.11                  134.20   \n",
       "2554  55.00       181.95       1127.35     54290.68                 1190.76   \n",
       "4519  46.00       245.61       4821.28     22307.20                   55.24   \n",
       "...     ...          ...           ...          ...                     ...   \n",
       "6727  48.00       359.21       1405.95     23903.70                   49.75   \n",
       "6629  50.00       511.39       1017.45     73345.50                  105.16   \n",
       "4734  22.00       496.00        448.95     97628.91                  516.53   \n",
       "4411  25.00       366.98       1115.06     34660.22                  116.14   \n",
       "3933  41.00       571.76        722.28    377867.37                 1190.76   \n",
       "\n",
       "      taxa_utilizacao_credito  num_emprestimos  num_contas_bancarias  \\\n",
       "952                     27.27             9.00                  8.00   \n",
       "6599                    41.51             3.00                  0.00   \n",
       "4220                    33.34             1.00                  5.00   \n",
       "2554                    32.93             0.00                  6.00   \n",
       "4519                    34.46             8.00                  7.00   \n",
       "...                       ...              ...                   ...   \n",
       "6727                    24.47             2.00                  3.00   \n",
       "6629                    33.70             3.00                  3.00   \n",
       "4734                    39.02             0.00                  0.00   \n",
       "4411                    28.63             1.00                  7.00   \n",
       "3933                    41.66             4.00                  8.00   \n",
       "\n",
       "      num_cartoes_credito  dias_atraso_dt_venc  num_pgtos_atrasados  \\\n",
       "952                  9.00                   55                   20   \n",
       "6599                 4.00                   25                    8   \n",
       "4220                 3.00                   14                   11   \n",
       "2554                 6.00                    4                   14   \n",
       "4519                 9.00                   47                   28   \n",
       "...                   ...                  ...                  ...   \n",
       "6727                 7.00                   13                    9   \n",
       "6629                26.00                    3                    1   \n",
       "4734                 6.00                    7                   10   \n",
       "4411                 5.00                   16                   20   \n",
       "3933                 4.00                   11                   17   \n",
       "\n",
       "      num_consultas_credito  taxa_juros investe_exterior pessoa_polit_exp  \n",
       "952                   40.00       17.00              Não              Não  \n",
       "6599                   4.00        4.00              Sim              Não  \n",
       "4220                   2.00        8.00              Não              Não  \n",
       "2554                   1.00        8.00              Não              Não  \n",
       "4519                  11.00       32.00              Sim              Não  \n",
       "...                     ...         ...              ...              ...  \n",
       "6727                   6.00       15.00              Não              Não  \n",
       "6629                   3.00        9.00              Não              Não  \n",
       "4734                   2.00        8.00              Não              Não  \n",
       "4411                   3.00        6.00              Sim              Não  \n",
       "3933                   4.00       20.00              Não              Não  \n",
       "\n",
       "[1900 rows x 15 columns]"
      ]
     },
     "execution_count": 28,
     "metadata": {},
     "output_type": "execute_result"
    }
   ],
   "source": [
    "X_test"
   ]
  },
  {
   "cell_type": "code",
   "execution_count": 29,
   "id": "6bd779e6",
   "metadata": {
    "execution": {
     "iopub.execute_input": "2022-10-22T02:13:29.820826Z",
     "iopub.status.busy": "2022-10-22T02:13:29.820053Z",
     "iopub.status.idle": "2022-10-22T02:13:29.859273Z",
     "shell.execute_reply": "2022-10-22T02:13:29.858342Z"
    },
    "papermill": {
     "duration": 0.054194,
     "end_time": "2022-10-22T02:13:29.861854",
     "exception": false,
     "start_time": "2022-10-22T02:13:29.807660",
     "status": "completed"
    },
    "tags": []
   },
   "outputs": [
    {
     "data": {
      "text/html": [
       "<div>\n",
       "<style scoped>\n",
       "    .dataframe tbody tr th:only-of-type {\n",
       "        vertical-align: middle;\n",
       "    }\n",
       "\n",
       "    .dataframe tbody tr th {\n",
       "        vertical-align: top;\n",
       "    }\n",
       "\n",
       "    .dataframe thead th {\n",
       "        text-align: right;\n",
       "    }\n",
       "</style>\n",
       "<table border=\"1\" class=\"dataframe\">\n",
       "  <thead>\n",
       "    <tr style=\"text-align: right;\">\n",
       "      <th></th>\n",
       "      <th>idade</th>\n",
       "      <th>saldo_atual</th>\n",
       "      <th>divida_atual</th>\n",
       "      <th>renda_anual</th>\n",
       "      <th>valor_em_investimentos</th>\n",
       "      <th>taxa_utilizacao_credito</th>\n",
       "      <th>num_emprestimos</th>\n",
       "      <th>num_contas_bancarias</th>\n",
       "      <th>num_cartoes_credito</th>\n",
       "      <th>dias_atraso_dt_venc</th>\n",
       "      <th>num_pgtos_atrasados</th>\n",
       "      <th>num_consultas_credito</th>\n",
       "      <th>taxa_juros</th>\n",
       "      <th>investe_exterior</th>\n",
       "      <th>pessoa_polit_exp</th>\n",
       "    </tr>\n",
       "  </thead>\n",
       "  <tbody>\n",
       "    <tr>\n",
       "      <th>8444</th>\n",
       "      <td>0.11</td>\n",
       "      <td>-0.46</td>\n",
       "      <td>0.51</td>\n",
       "      <td>-0.60</td>\n",
       "      <td>-0.43</td>\n",
       "      <td>0.37</td>\n",
       "      <td>0.75</td>\n",
       "      <td>-0.60</td>\n",
       "      <td>1.00</td>\n",
       "      <td>0.32</td>\n",
       "      <td>0.67</td>\n",
       "      <td>1.00</td>\n",
       "      <td>0.08</td>\n",
       "      <td>0.24</td>\n",
       "      <td>0.06</td>\n",
       "    </tr>\n",
       "    <tr>\n",
       "      <th>4619</th>\n",
       "      <td>0.16</td>\n",
       "      <td>0.01</td>\n",
       "      <td>0.10</td>\n",
       "      <td>-0.53</td>\n",
       "      <td>-0.33</td>\n",
       "      <td>1.16</td>\n",
       "      <td>-0.75</td>\n",
       "      <td>0.20</td>\n",
       "      <td>-1.00</td>\n",
       "      <td>0.32</td>\n",
       "      <td>0.56</td>\n",
       "      <td>0.00</td>\n",
       "      <td>-0.83</td>\n",
       "      <td>0.24</td>\n",
       "      <td>0.06</td>\n",
       "    </tr>\n",
       "    <tr>\n",
       "      <th>7197</th>\n",
       "      <td>-0.74</td>\n",
       "      <td>-0.56</td>\n",
       "      <td>0.02</td>\n",
       "      <td>-0.40</td>\n",
       "      <td>0.22</td>\n",
       "      <td>-0.01</td>\n",
       "      <td>0.25</td>\n",
       "      <td>-0.40</td>\n",
       "      <td>0.00</td>\n",
       "      <td>0.43</td>\n",
       "      <td>0.00</td>\n",
       "      <td>0.00</td>\n",
       "      <td>0.00</td>\n",
       "      <td>0.24</td>\n",
       "      <td>0.06</td>\n",
       "    </tr>\n",
       "    <tr>\n",
       "      <th>9342</th>\n",
       "      <td>-0.21</td>\n",
       "      <td>0.30</td>\n",
       "      <td>0.71</td>\n",
       "      <td>0.02</td>\n",
       "      <td>6.02</td>\n",
       "      <td>-0.87</td>\n",
       "      <td>0.50</td>\n",
       "      <td>0.40</td>\n",
       "      <td>0.33</td>\n",
       "      <td>0.31</td>\n",
       "      <td>0.22</td>\n",
       "      <td>0.83</td>\n",
       "      <td>0.17</td>\n",
       "      <td>0.24</td>\n",
       "      <td>0.06</td>\n",
       "    </tr>\n",
       "    <tr>\n",
       "      <th>8008</th>\n",
       "      <td>1.05</td>\n",
       "      <td>1.73</td>\n",
       "      <td>0.06</td>\n",
       "      <td>1.00</td>\n",
       "      <td>0.00</td>\n",
       "      <td>0.96</td>\n",
       "      <td>0.00</td>\n",
       "      <td>0.40</td>\n",
       "      <td>-0.67</td>\n",
       "      <td>0.40</td>\n",
       "      <td>0.00</td>\n",
       "      <td>-0.67</td>\n",
       "      <td>-0.33</td>\n",
       "      <td>0.24</td>\n",
       "      <td>0.06</td>\n",
       "    </tr>\n",
       "    <tr>\n",
       "      <th>...</th>\n",
       "      <td>...</td>\n",
       "      <td>...</td>\n",
       "      <td>...</td>\n",
       "      <td>...</td>\n",
       "      <td>...</td>\n",
       "      <td>...</td>\n",
       "      <td>...</td>\n",
       "      <td>...</td>\n",
       "      <td>...</td>\n",
       "      <td>...</td>\n",
       "      <td>...</td>\n",
       "      <td>...</td>\n",
       "      <td>...</td>\n",
       "      <td>...</td>\n",
       "      <td>...</td>\n",
       "    </tr>\n",
       "    <tr>\n",
       "      <th>5734</th>\n",
       "      <td>0.47</td>\n",
       "      <td>0.30</td>\n",
       "      <td>0.81</td>\n",
       "      <td>0.19</td>\n",
       "      <td>-0.34</td>\n",
       "      <td>1.06</td>\n",
       "      <td>0.50</td>\n",
       "      <td>0.00</td>\n",
       "      <td>0.33</td>\n",
       "      <td>0.46</td>\n",
       "      <td>0.11</td>\n",
       "      <td>0.33</td>\n",
       "      <td>0.92</td>\n",
       "      <td>0.24</td>\n",
       "      <td>0.06</td>\n",
       "    </tr>\n",
       "    <tr>\n",
       "      <th>5191</th>\n",
       "      <td>-0.79</td>\n",
       "      <td>0.95</td>\n",
       "      <td>0.20</td>\n",
       "      <td>-0.05</td>\n",
       "      <td>-0.57</td>\n",
       "      <td>0.64</td>\n",
       "      <td>-0.75</td>\n",
       "      <td>-0.40</td>\n",
       "      <td>0.00</td>\n",
       "      <td>0.19</td>\n",
       "      <td>-1.33</td>\n",
       "      <td>-0.17</td>\n",
       "      <td>-0.58</td>\n",
       "      <td>0.24</td>\n",
       "      <td>0.06</td>\n",
       "    </tr>\n",
       "    <tr>\n",
       "      <th>5390</th>\n",
       "      <td>-0.11</td>\n",
       "      <td>2.89</td>\n",
       "      <td>0.21</td>\n",
       "      <td>1.72</td>\n",
       "      <td>6.02</td>\n",
       "      <td>2.20</td>\n",
       "      <td>-0.25</td>\n",
       "      <td>0.00</td>\n",
       "      <td>-1.00</td>\n",
       "      <td>0.39</td>\n",
       "      <td>0.33</td>\n",
       "      <td>0.33</td>\n",
       "      <td>0.33</td>\n",
       "      <td>0.24</td>\n",
       "      <td>0.06</td>\n",
       "    </tr>\n",
       "    <tr>\n",
       "      <th>860</th>\n",
       "      <td>-0.84</td>\n",
       "      <td>-0.03</td>\n",
       "      <td>0.17</td>\n",
       "      <td>-0.06</td>\n",
       "      <td>0.38</td>\n",
       "      <td>-1.31</td>\n",
       "      <td>0.00</td>\n",
       "      <td>-1.00</td>\n",
       "      <td>-0.33</td>\n",
       "      <td>0.18</td>\n",
       "      <td>-0.67</td>\n",
       "      <td>-0.17</td>\n",
       "      <td>-0.50</td>\n",
       "      <td>0.24</td>\n",
       "      <td>0.06</td>\n",
       "    </tr>\n",
       "    <tr>\n",
       "      <th>7270</th>\n",
       "      <td>0.05</td>\n",
       "      <td>0.51</td>\n",
       "      <td>0.09</td>\n",
       "      <td>-0.01</td>\n",
       "      <td>-0.59</td>\n",
       "      <td>1.85</td>\n",
       "      <td>-0.50</td>\n",
       "      <td>-1.20</td>\n",
       "      <td>-0.33</td>\n",
       "      <td>0.14</td>\n",
       "      <td>-0.67</td>\n",
       "      <td>-0.50</td>\n",
       "      <td>-0.50</td>\n",
       "      <td>0.24</td>\n",
       "      <td>0.06</td>\n",
       "    </tr>\n",
       "  </tbody>\n",
       "</table>\n",
       "<p>7600 rows × 15 columns</p>\n",
       "</div>"
      ],
      "text/plain": [
       "      idade  saldo_atual  divida_atual  renda_anual  valor_em_investimentos  \\\n",
       "8444   0.11        -0.46          0.51        -0.60                   -0.43   \n",
       "4619   0.16         0.01          0.10        -0.53                   -0.33   \n",
       "7197  -0.74        -0.56          0.02        -0.40                    0.22   \n",
       "9342  -0.21         0.30          0.71         0.02                    6.02   \n",
       "8008   1.05         1.73          0.06         1.00                    0.00   \n",
       "...     ...          ...           ...          ...                     ...   \n",
       "5734   0.47         0.30          0.81         0.19                   -0.34   \n",
       "5191  -0.79         0.95          0.20        -0.05                   -0.57   \n",
       "5390  -0.11         2.89          0.21         1.72                    6.02   \n",
       "860   -0.84        -0.03          0.17        -0.06                    0.38   \n",
       "7270   0.05         0.51          0.09        -0.01                   -0.59   \n",
       "\n",
       "      taxa_utilizacao_credito  num_emprestimos  num_contas_bancarias  \\\n",
       "8444                     0.37             0.75                 -0.60   \n",
       "4619                     1.16            -0.75                  0.20   \n",
       "7197                    -0.01             0.25                 -0.40   \n",
       "9342                    -0.87             0.50                  0.40   \n",
       "8008                     0.96             0.00                  0.40   \n",
       "...                       ...              ...                   ...   \n",
       "5734                     1.06             0.50                  0.00   \n",
       "5191                     0.64            -0.75                 -0.40   \n",
       "5390                     2.20            -0.25                  0.00   \n",
       "860                     -1.31             0.00                 -1.00   \n",
       "7270                     1.85            -0.50                 -1.20   \n",
       "\n",
       "      num_cartoes_credito  dias_atraso_dt_venc  num_pgtos_atrasados  \\\n",
       "8444                 1.00                 0.32                 0.67   \n",
       "4619                -1.00                 0.32                 0.56   \n",
       "7197                 0.00                 0.43                 0.00   \n",
       "9342                 0.33                 0.31                 0.22   \n",
       "8008                -0.67                 0.40                 0.00   \n",
       "...                   ...                  ...                  ...   \n",
       "5734                 0.33                 0.46                 0.11   \n",
       "5191                 0.00                 0.19                -1.33   \n",
       "5390                -1.00                 0.39                 0.33   \n",
       "860                 -0.33                 0.18                -0.67   \n",
       "7270                -0.33                 0.14                -0.67   \n",
       "\n",
       "      num_consultas_credito  taxa_juros  investe_exterior  pessoa_polit_exp  \n",
       "8444                   1.00        0.08              0.24              0.06  \n",
       "4619                   0.00       -0.83              0.24              0.06  \n",
       "7197                   0.00        0.00              0.24              0.06  \n",
       "9342                   0.83        0.17              0.24              0.06  \n",
       "8008                  -0.67       -0.33              0.24              0.06  \n",
       "...                     ...         ...               ...               ...  \n",
       "5734                   0.33        0.92              0.24              0.06  \n",
       "5191                  -0.17       -0.58              0.24              0.06  \n",
       "5390                   0.33        0.33              0.24              0.06  \n",
       "860                   -0.17       -0.50              0.24              0.06  \n",
       "7270                  -0.50       -0.50              0.24              0.06  \n",
       "\n",
       "[7600 rows x 15 columns]"
      ]
     },
     "execution_count": 29,
     "metadata": {},
     "output_type": "execute_result"
    }
   ],
   "source": [
    "X_train"
   ]
  },
  {
   "cell_type": "code",
   "execution_count": 30,
   "id": "035fc47a",
   "metadata": {
    "execution": {
     "iopub.execute_input": "2022-10-22T02:13:29.888238Z",
     "iopub.status.busy": "2022-10-22T02:13:29.887854Z",
     "iopub.status.idle": "2022-10-22T02:13:29.893499Z",
     "shell.execute_reply": "2022-10-22T02:13:29.892586Z"
    },
    "papermill": {
     "duration": 0.021397,
     "end_time": "2022-10-22T02:13:29.895580",
     "exception": false,
     "start_time": "2022-10-22T02:13:29.874183",
     "status": "completed"
    },
    "tags": []
   },
   "outputs": [],
   "source": [
    "y_test = y_test.map(d_class)"
   ]
  },
  {
   "cell_type": "code",
   "execution_count": 31,
   "id": "19212458",
   "metadata": {
    "execution": {
     "iopub.execute_input": "2022-10-22T02:13:29.921847Z",
     "iopub.status.busy": "2022-10-22T02:13:29.920927Z",
     "iopub.status.idle": "2022-10-22T02:13:29.939543Z",
     "shell.execute_reply": "2022-10-22T02:13:29.938688Z"
    },
    "papermill": {
     "duration": 0.034072,
     "end_time": "2022-10-22T02:13:29.941858",
     "exception": false,
     "start_time": "2022-10-22T02:13:29.907786",
     "status": "completed"
    },
    "tags": []
   },
   "outputs": [],
   "source": [
    "X_test['investe_exterior'] = X_test['investe_exterior'].map(lambda x: 0.76 if x == 0.15 else 0.24)\n",
    "X_test['pessoa_polit_exp'] = X_test['pessoa_polit_exp'].map(lambda x: 0.94 if x == 0.16 else 0.06)\n",
    "\n",
    "X_test['taxa_utilizacao_credito'] = ss.fit_transform( X_test[['taxa_utilizacao_credito']].values )\n",
    "\n",
    "rs = RobustScaler()\n",
    "mms = MinMaxScaler()\n",
    "\n",
    "## Robust Scaler\n",
    "# idade\n",
    "X_test['idade'] = rs.fit_transform( X_test[['idade']].values )\n",
    "\n",
    "# saldo_atual\n",
    "X_test['saldo_atual'] = rs.fit_transform( X_test[['saldo_atual']].values )\n",
    "\n",
    "# renda_anual\n",
    "X_test['renda_anual'] = rs.fit_transform( X_test[['renda_anual']].values )\n",
    "\n",
    "# valor_em_investimentos\n",
    "X_test['valor_em_investimentos'] = rs.fit_transform( X_test[['valor_em_investimentos']].values )\n",
    "\n",
    "# num_emprestimos\n",
    "X_test['num_emprestimos'] = rs.fit_transform( X_test[['num_emprestimos']].values )\n",
    "\n",
    "# num_contas_bancarias\n",
    "X_test['num_contas_bancarias'] = rs.fit_transform( X_test[['num_contas_bancarias']].values )\n",
    "\n",
    "# num_cartoes_credito\n",
    "X_test['num_cartoes_credito'] = rs.fit_transform( X_test[['num_cartoes_credito']].values )\n",
    "\n",
    "# num_pgtos_atrasados\n",
    "X_test['num_pgtos_atrasados'] = rs.fit_transform( X_test[['num_pgtos_atrasados']].values )\n",
    "\n",
    "# num_consultas_credito\n",
    "X_test['num_consultas_credito'] = rs.fit_transform( X_test[['num_consultas_credito']].values )\n",
    "\n",
    "# taxa_juros\n",
    "X_test['taxa_juros'] = rs.fit_transform( X_test[['taxa_juros']].values )\n",
    "\n",
    "## MinMax Scaler\n",
    "# dias_atraso_dt_venc\n",
    "X_test['dias_atraso_dt_venc'] = mms.fit_transform( X_test[['dias_atraso_dt_venc']].values )\n",
    "\n",
    "# divida_atual\n",
    "X_test['divida_atual'] = mms.fit_transform( X_test[['divida_atual']].values )"
   ]
  },
  {
   "cell_type": "code",
   "execution_count": 32,
   "id": "28f39b9e",
   "metadata": {
    "execution": {
     "iopub.execute_input": "2022-10-22T02:13:29.968510Z",
     "iopub.status.busy": "2022-10-22T02:13:29.967751Z",
     "iopub.status.idle": "2022-10-22T02:13:30.019944Z",
     "shell.execute_reply": "2022-10-22T02:13:30.019083Z"
    },
    "papermill": {
     "duration": 0.068172,
     "end_time": "2022-10-22T02:13:30.022214",
     "exception": false,
     "start_time": "2022-10-22T02:13:29.954042",
     "status": "completed"
    },
    "tags": []
   },
   "outputs": [
    {
     "data": {
      "text/plain": [
       "0.854134914971358"
      ]
     },
     "execution_count": 32,
     "metadata": {},
     "output_type": "execute_result"
    }
   ],
   "source": [
    "from sklearn.metrics import f1_score\n",
    "\n",
    "f1_score(y_true=y_test, y_pred=rf.predict(X_test), average='weighted')"
   ]
  },
  {
   "cell_type": "markdown",
   "id": "d258af4d",
   "metadata": {
    "execution": {
     "iopub.execute_input": "2022-10-22T02:13:30.048211Z",
     "iopub.status.busy": "2022-10-22T02:13:30.047872Z",
     "iopub.status.idle": "2022-10-22T02:13:30.052263Z",
     "shell.execute_reply": "2022-10-22T02:13:30.051357Z"
    },
    "papermill": {
     "duration": 0.019791,
     "end_time": "2022-10-22T02:13:30.054411",
     "exception": false,
     "start_time": "2022-10-22T02:13:30.034620",
     "status": "completed"
    },
    "tags": []
   },
   "source": [
    "## All dataset"
   ]
  },
  {
   "cell_type": "code",
   "execution_count": 30,
   "id": "f4289bc2",
   "metadata": {
    "execution": {
     "iopub.execute_input": "2022-10-22T02:13:30.080721Z",
     "iopub.status.busy": "2022-10-22T02:13:30.080328Z",
     "iopub.status.idle": "2022-10-22T02:13:30.140194Z",
     "shell.execute_reply": "2022-10-22T02:13:30.139229Z"
    },
    "papermill": {
     "duration": 0.076085,
     "end_time": "2022-10-22T02:13:30.142859",
     "exception": false,
     "start_time": "2022-10-22T02:13:30.066774",
     "status": "completed"
    },
    "tags": []
   },
   "outputs": [],
   "source": [
    "df_pp['investe_exterior'] = df_pp['investe_exterior'].map(lambda x: 0.76 if x == 0.15 else 0.24)\n",
    "df_pp['pessoa_polit_exp'] = df_pp['pessoa_polit_exp'].map(lambda x: 0.94 if x == 0.16 else 0.06)\n",
    "\n",
    "df_pp['taxa_utilizacao_credito'] = ss.fit_transform( df_pp[['taxa_utilizacao_credito']].values )\n",
    "\n",
    "rs = RobustScaler()\n",
    "mms = MinMaxScaler()\n",
    "\n",
    "## Robust Scaler\n",
    "# idade\n",
    "df_pp['idade'] = rs.fit_transform( df_pp[['idade']].values )\n",
    "\n",
    "# saldo_atual\n",
    "df_pp['saldo_atual'] = rs.fit_transform( df_pp[['saldo_atual']].values )\n",
    "\n",
    "# renda_anual\n",
    "df_pp['renda_anual'] = rs.fit_transform( df_pp[['renda_anual']].values )\n",
    "\n",
    "# valor_em_investimentos\n",
    "df_pp['valor_em_investimentos'] = rs.fit_transform( df_pp[['valor_em_investimentos']].values )\n",
    "\n",
    "# num_emprestimos\n",
    "df_pp['num_emprestimos'] = rs.fit_transform( df_pp[['num_emprestimos']].values )\n",
    "\n",
    "# num_contas_bancarias\n",
    "df_pp['num_contas_bancarias'] = rs.fit_transform( df_pp[['num_contas_bancarias']].values )\n",
    "\n",
    "# num_cartoes_credito\n",
    "df_pp['num_cartoes_credito'] = rs.fit_transform( df_pp[['num_cartoes_credito']].values )\n",
    "\n",
    "# num_pgtos_atrasados\n",
    "df_pp['num_pgtos_atrasados'] = rs.fit_transform( df_pp[['num_pgtos_atrasados']].values )\n",
    "\n",
    "# num_consultas_credito\n",
    "df_pp['num_consultas_credito'] = rs.fit_transform( df_pp[['num_consultas_credito']].values )\n",
    "\n",
    "# taxa_juros\n",
    "df_pp['taxa_juros'] = rs.fit_transform( df_pp[['taxa_juros']].values )\n",
    "\n",
    "## MinMax Scaler\n",
    "# dias_atraso_dt_venc\n",
    "df_pp['dias_atraso_dt_venc'] = mms.fit_transform( df_pp[['dias_atraso_dt_venc']].values )\n",
    "\n",
    "# divida_atual\n",
    "df_pp['divida_atual'] = mms.fit_transform( df_pp[['divida_atual']].values )\n",
    "\n",
    "df_pp['limite_adicional'] = df_pp['limite_adicional'].map(d_class)"
   ]
  },
  {
   "cell_type": "code",
   "execution_count": 31,
   "id": "ae4eece6",
   "metadata": {
    "execution": {
     "iopub.execute_input": "2022-10-22T02:13:30.169150Z",
     "iopub.status.busy": "2022-10-22T02:13:30.168781Z",
     "iopub.status.idle": "2022-10-22T02:13:30.846625Z",
     "shell.execute_reply": "2022-10-22T02:13:30.845619Z"
    },
    "papermill": {
     "duration": 0.693658,
     "end_time": "2022-10-22T02:13:30.848982",
     "exception": false,
     "start_time": "2022-10-22T02:13:30.155324",
     "status": "completed"
    },
    "tags": []
   },
   "outputs": [
    {
     "data": {
      "text/plain": [
       "RandomForestClassifier(criterion='entropy', max_features=None,\n",
       "                       min_samples_leaf=10, random_state=42)"
      ]
     },
     "execution_count": 31,
     "metadata": {},
     "output_type": "execute_result"
    }
   ],
   "source": [
    "rf.fit(df_pp.drop(columns=['limite_adicional']), df_pp['limite_adicional'])"
   ]
  },
  {
   "cell_type": "markdown",
   "id": "ff2df287",
   "metadata": {
    "papermill": {
     "duration": 0.012041,
     "end_time": "2022-10-22T02:13:30.873548",
     "exception": false,
     "start_time": "2022-10-22T02:13:30.861507",
     "status": "completed"
    },
    "tags": []
   },
   "source": [
    "## Preparing submission"
   ]
  },
  {
   "cell_type": "code",
   "execution_count": 32,
   "id": "3d56c221",
   "metadata": {
    "execution": {
     "iopub.execute_input": "2022-10-22T02:02:04.603093Z",
     "iopub.status.busy": "2022-10-22T02:02:04.602656Z",
     "iopub.status.idle": "2022-10-22T02:02:04.699411Z",
     "shell.execute_reply": "2022-10-22T02:02:04.697811Z",
     "shell.execute_reply.started": "2022-10-22T02:02:04.603061Z"
    },
    "papermill": {
     "duration": null,
     "end_time": null,
     "exception": null,
     "start_time": null,
     "status": "pending"
    },
    "tags": []
   },
   "outputs": [
    {
     "name": "stdout",
     "output_type": "stream",
     "text": [
      "CPU times: user 39.5 ms, sys: 0 ns, total: 39.5 ms\n",
      "Wall time: 38.5 ms\n"
     ]
    }
   ],
   "source": [
    "%%time\n",
    "\n",
    "df_test = pd.read_csv('data/test.csv')\n",
    "\n",
    "#df_test['bank_account'] = df_test['bank_account'].map(d_class) #mapeamento class\n",
    "\n",
    "df_test['investe_exterior'] = df_test['investe_exterior'].map(lambda x: 0.76 if x == 0.15 else 0.24)\n",
    "df_test['pessoa_polit_exp'] = df_test['pessoa_polit_exp'].map(lambda x: 0.94 if x == 0.16 else 0.06)\n",
    "\n",
    "df_test['taxa_utilizacao_credito'] = ss.fit_transform( df_test[['taxa_utilizacao_credito']].values )\n",
    "\n",
    "rs = RobustScaler()\n",
    "mms = MinMaxScaler()\n",
    "\n",
    "## Robust Scaler\n",
    "# idade\n",
    "df_test['idade'] = rs.fit_transform( df_test[['idade']].values )\n",
    "\n",
    "# saldo_atual\n",
    "df_test['saldo_atual'] = rs.fit_transform( df_test[['saldo_atual']].values )\n",
    "\n",
    "# renda_anual\n",
    "df_test['renda_anual'] = rs.fit_transform( df_test[['renda_anual']].values )\n",
    "\n",
    "# valor_em_investimentos\n",
    "df_test['valor_em_investimentos'] = rs.fit_transform( df_test[['valor_em_investimentos']].values )\n",
    "\n",
    "# num_emprestimos\n",
    "df_test['num_emprestimos'] = rs.fit_transform( df_test[['num_emprestimos']].values )\n",
    "\n",
    "# num_contas_bancarias\n",
    "df_test['num_contas_bancarias'] = rs.fit_transform( df_test[['num_contas_bancarias']].values )\n",
    "\n",
    "# num_cartoes_credito\n",
    "df_test['num_cartoes_credito'] = rs.fit_transform( df_test[['num_cartoes_credito']].values )\n",
    "\n",
    "# num_pgtos_atrasados\n",
    "df_test['num_pgtos_atrasados'] = rs.fit_transform( df_test[['num_pgtos_atrasados']].values )\n",
    "\n",
    "# num_consultas_credito\n",
    "df_test['num_consultas_credito'] = rs.fit_transform( df_test[['num_consultas_credito']].values )\n",
    "\n",
    "# taxa_juros\n",
    "df_test['taxa_juros'] = rs.fit_transform( df_test[['taxa_juros']].values )\n",
    "\n",
    "## MinMax Scaler\n",
    "# dias_atraso_dt_venc\n",
    "df_test['dias_atraso_dt_venc'] = mms.fit_transform( df_test[['dias_atraso_dt_venc']].values )\n",
    "\n",
    "# divida_atual\n",
    "df_test['divida_atual'] = mms.fit_transform( df_test[['divida_atual']].values )"
   ]
  },
  {
   "cell_type": "code",
   "execution_count": 33,
   "id": "5fe87745",
   "metadata": {
    "execution": {
     "iopub.execute_input": "2022-10-22T02:08:39.333397Z",
     "iopub.status.busy": "2022-10-22T02:08:39.333008Z",
     "iopub.status.idle": "2022-10-22T02:08:39.525506Z",
     "shell.execute_reply": "2022-10-22T02:08:39.523901Z",
     "shell.execute_reply.started": "2022-10-22T02:08:39.333364Z"
    },
    "papermill": {
     "duration": null,
     "end_time": null,
     "exception": null,
     "start_time": null,
     "status": "pending"
    },
    "tags": []
   },
   "outputs": [],
   "source": [
    "#df_ss = pd.read_csv('/kaggle/input/inclusao-financeira-na-africa/test.csv')\n",
    "preds = rf.predict(df_test.drop(columns='id_cliente'))"
   ]
  },
  {
   "cell_type": "code",
   "execution_count": 34,
   "id": "2c768043",
   "metadata": {},
   "outputs": [
    {
     "data": {
      "text/plain": [
       "array([1, 0, 0, ..., 0, 1, 0])"
      ]
     },
     "execution_count": 34,
     "metadata": {},
     "output_type": "execute_result"
    }
   ],
   "source": [
    "preds"
   ]
  },
  {
   "cell_type": "code",
   "execution_count": 35,
   "id": "01088151",
   "metadata": {
    "execution": {
     "iopub.execute_input": "2022-10-22T02:08:44.866325Z",
     "iopub.status.busy": "2022-10-22T02:08:44.865850Z",
     "iopub.status.idle": "2022-10-22T02:08:44.878255Z",
     "shell.execute_reply": "2022-10-22T02:08:44.877018Z",
     "shell.execute_reply.started": "2022-10-22T02:08:44.866288Z"
    },
    "papermill": {
     "duration": null,
     "end_time": null,
     "exception": null,
     "start_time": null,
     "status": "pending"
    },
    "tags": []
   },
   "outputs": [
    {
     "data": {
      "text/html": [
       "<div>\n",
       "<style scoped>\n",
       "    .dataframe tbody tr th:only-of-type {\n",
       "        vertical-align: middle;\n",
       "    }\n",
       "\n",
       "    .dataframe tbody tr th {\n",
       "        vertical-align: top;\n",
       "    }\n",
       "\n",
       "    .dataframe thead th {\n",
       "        text-align: right;\n",
       "    }\n",
       "</style>\n",
       "<table border=\"1\" class=\"dataframe\">\n",
       "  <thead>\n",
       "    <tr style=\"text-align: right;\">\n",
       "      <th></th>\n",
       "      <th>limite_adicional</th>\n",
       "    </tr>\n",
       "    <tr>\n",
       "      <th>id_cliente</th>\n",
       "      <th></th>\n",
       "    </tr>\n",
       "  </thead>\n",
       "  <tbody>\n",
       "    <tr>\n",
       "      <th>2</th>\n",
       "      <td>Conceder</td>\n",
       "    </tr>\n",
       "    <tr>\n",
       "      <th>5</th>\n",
       "      <td>Negar</td>\n",
       "    </tr>\n",
       "    <tr>\n",
       "      <th>6</th>\n",
       "      <td>Negar</td>\n",
       "    </tr>\n",
       "    <tr>\n",
       "      <th>8</th>\n",
       "      <td>Negar</td>\n",
       "    </tr>\n",
       "    <tr>\n",
       "      <th>10</th>\n",
       "      <td>Negar</td>\n",
       "    </tr>\n",
       "  </tbody>\n",
       "</table>\n",
       "</div>"
      ],
      "text/plain": [
       "           limite_adicional\n",
       "id_cliente                 \n",
       "2                  Conceder\n",
       "5                     Negar\n",
       "6                     Negar\n",
       "8                     Negar\n",
       "10                    Negar"
      ]
     },
     "execution_count": 35,
     "metadata": {},
     "output_type": "execute_result"
    }
   ],
   "source": [
    "df_submission = pd.DataFrame()\n",
    "df_submission['id_cliente'] = df_test['id_cliente']\n",
    "df_submission['limite_adicional'] = preds\n",
    "df_submission['limite_adicional'] = df_submission['limite_adicional'].map(lambda x: 'Conceder' if x == 1 else 'Negar')\n",
    "df_submission = df_submission.set_index('id_cliente')\n",
    "df_submission.head()"
   ]
  },
  {
   "cell_type": "code",
   "execution_count": 38,
   "id": "fd6cd01a",
   "metadata": {},
   "outputs": [],
   "source": [
    "df_submission.to_csv('data/submissions/ciclo5_v2.csv')"
   ]
  },
  {
   "cell_type": "code",
   "execution_count": 37,
   "id": "e88a8cfd",
   "metadata": {
    "papermill": {
     "duration": null,
     "end_time": null,
     "exception": null,
     "start_time": null,
     "status": "pending"
    },
    "tags": []
   },
   "outputs": [],
   "source": [
    "### Ideias de melhorias\n",
    "    ### 1. Testar novas formas de encoding (1d)\n",
    "    ### 2. Feature engineering (2d)\n",
    "    ### 3. Hyper-parameter tuning (1d)\n",
    "    ### 4. Combinação de modelos"
   ]
  },
  {
   "cell_type": "code",
   "execution_count": null,
   "id": "359d621f",
   "metadata": {
    "papermill": {
     "duration": null,
     "end_time": null,
     "exception": null,
     "start_time": null,
     "status": "pending"
    },
    "tags": []
   },
   "outputs": [],
   "source": []
  },
  {
   "cell_type": "code",
   "execution_count": null,
   "id": "feb87013",
   "metadata": {
    "papermill": {
     "duration": null,
     "end_time": null,
     "exception": null,
     "start_time": null,
     "status": "pending"
    },
    "tags": []
   },
   "outputs": [],
   "source": []
  }
 ],
 "metadata": {
  "kernelspec": {
   "display_name": "Python 3.8.13 ('minimal_ml')",
   "language": "python",
   "name": "python3"
  },
  "language_info": {
   "codemirror_mode": {
    "name": "ipython",
    "version": 3
   },
   "file_extension": ".py",
   "mimetype": "text/x-python",
   "name": "python",
   "nbconvert_exporter": "python",
   "pygments_lexer": "ipython3",
   "version": "3.8.13"
  },
  "papermill": {
   "default_parameters": {},
   "duration": 21.064491,
   "end_time": "2022-10-22T02:13:33.660618",
   "environment_variables": {},
   "exception": true,
   "input_path": "__notebook__.ipynb",
   "output_path": "__notebook__.ipynb",
   "parameters": {},
   "start_time": "2022-10-22T02:13:12.596127",
   "version": "2.3.4"
  },
  "vscode": {
   "interpreter": {
    "hash": "5e1aa3eda2c1c923ebe8e0e2ebf0c17e81d96ff336537bc85462f9b31c47f2d0"
   }
  }
 },
 "nbformat": 4,
 "nbformat_minor": 5
}
