{
 "cells": [
  {
   "cell_type": "code",
   "execution_count": 1,
   "id": "fdc46189",
   "metadata": {
    "_cell_guid": "b1076dfc-b9ad-4769-8c92-a6c4dae69d19",
    "_uuid": "8f2839f25d086af736a60e9eeb907d3b93b6e0e5",
    "execution": {
     "iopub.execute_input": "2022-10-22T02:13:22.052281Z",
     "iopub.status.busy": "2022-10-22T02:13:22.051675Z",
     "iopub.status.idle": "2022-10-22T02:13:23.055120Z",
     "shell.execute_reply": "2022-10-22T02:13:23.053918Z"
    },
    "papermill": {
     "duration": 1.020395,
     "end_time": "2022-10-22T02:13:23.058884",
     "exception": false,
     "start_time": "2022-10-22T02:13:22.038489",
     "status": "completed"
    },
    "tags": []
   },
   "outputs": [
    {
     "name": "stdout",
     "output_type": "stream",
     "text": [
      "/kaggle/input/inclusao-financeira-na-africa/train.csv\n",
      "/kaggle/input/inclusao-financeira-na-africa/test.csv\n"
     ]
    }
   ],
   "source": [
    "# This Python 3 environment comes with many helpful analytics libraries installed\n",
    "# It is defined by the kaggle/python Docker image: https://github.com/kaggle/docker-python\n",
    "# For example, here's several helpful packages to load\n",
    "\n",
    "import numpy as np # linear algebra\n",
    "import pandas as pd # data processing, CSV file I/O (e.g. pd.read_csv)\n",
    "from sklearn.preprocessing import OneHotEncoder\n",
    "from sklearn.model_selection import train_test_split\n",
    "\n",
    "# Input data files are available in the read-only \"../input/\" directory\n",
    "# For example, running this (by clicking run or pressing Shift+Enter) will list all files under the input directory\n",
    "\n",
    "import os\n",
    "for dirname, _, filenames in os.walk('/kaggle/input'):\n",
    "    for filename in filenames:\n",
    "        print(os.path.join(dirname, filename))\n",
    "\n",
    "# You can write up to 20GB to the current directory (/kaggle/working/) that gets preserved as output when you create a version using \"Save & Run All\" \n",
    "# You can also write temporary files to /kaggle/temp/, but they won't be saved outside of the current session"
   ]
  },
  {
   "cell_type": "markdown",
   "id": "3a7c9e41",
   "metadata": {
    "papermill": {
     "duration": 0.00945,
     "end_time": "2022-10-22T02:13:23.079077",
     "exception": false,
     "start_time": "2022-10-22T02:13:23.069627",
     "status": "completed"
    },
    "tags": []
   },
   "source": [
    "## Data Ingestion"
   ]
  },
  {
   "cell_type": "code",
   "execution_count": 2,
   "id": "72e36963",
   "metadata": {
    "execution": {
     "iopub.execute_input": "2022-10-22T02:13:23.101923Z",
     "iopub.status.busy": "2022-10-22T02:13:23.101530Z",
     "iopub.status.idle": "2022-10-22T02:13:23.194360Z",
     "shell.execute_reply": "2022-10-22T02:13:23.193123Z"
    },
    "papermill": {
     "duration": 0.108127,
     "end_time": "2022-10-22T02:13:23.196894",
     "exception": false,
     "start_time": "2022-10-22T02:13:23.088767",
     "status": "completed"
    },
    "tags": []
   },
   "outputs": [
    {
     "name": "stdout",
     "output_type": "stream",
     "text": [
      "CPU times: user 30.4 ms, sys: 8.92 ms, total: 39.4 ms\n",
      "Wall time: 64.6 ms\n"
     ]
    },
    {
     "data": {
      "text/html": [
       "<div>\n",
       "<style scoped>\n",
       "    .dataframe tbody tr th:only-of-type {\n",
       "        vertical-align: middle;\n",
       "    }\n",
       "\n",
       "    .dataframe tbody tr th {\n",
       "        vertical-align: top;\n",
       "    }\n",
       "\n",
       "    .dataframe thead th {\n",
       "        text-align: right;\n",
       "    }\n",
       "</style>\n",
       "<table border=\"1\" class=\"dataframe\">\n",
       "  <thead>\n",
       "    <tr style=\"text-align: right;\">\n",
       "      <th></th>\n",
       "      <th>country</th>\n",
       "      <th>year</th>\n",
       "      <th>uniqueid</th>\n",
       "      <th>location_type</th>\n",
       "      <th>cellphone_access</th>\n",
       "      <th>household_size</th>\n",
       "      <th>age_of_respondent</th>\n",
       "      <th>gender_of_respondent</th>\n",
       "      <th>relationship_with_head</th>\n",
       "      <th>marital_status</th>\n",
       "      <th>education_level</th>\n",
       "      <th>job_type</th>\n",
       "      <th>uid</th>\n",
       "      <th>bank_account</th>\n",
       "    </tr>\n",
       "  </thead>\n",
       "  <tbody>\n",
       "    <tr>\n",
       "      <th>0</th>\n",
       "      <td>Rwanda</td>\n",
       "      <td>2016</td>\n",
       "      <td>uniqueid_4858</td>\n",
       "      <td>Rural</td>\n",
       "      <td>Yes</td>\n",
       "      <td>6</td>\n",
       "      <td>45</td>\n",
       "      <td>Male</td>\n",
       "      <td>Head of Household</td>\n",
       "      <td>Divorced/Seperated</td>\n",
       "      <td>Primary education</td>\n",
       "      <td>Farming and Fishing</td>\n",
       "      <td>Rwanda_uniqueid_4858</td>\n",
       "      <td>No</td>\n",
       "    </tr>\n",
       "    <tr>\n",
       "      <th>1</th>\n",
       "      <td>Tanzania</td>\n",
       "      <td>2017</td>\n",
       "      <td>uniqueid_3015</td>\n",
       "      <td>Urban</td>\n",
       "      <td>No</td>\n",
       "      <td>4</td>\n",
       "      <td>33</td>\n",
       "      <td>Female</td>\n",
       "      <td>Head of Household</td>\n",
       "      <td>Single/Never Married</td>\n",
       "      <td>Primary education</td>\n",
       "      <td>Self employed</td>\n",
       "      <td>Tanzania_uniqueid_3015</td>\n",
       "      <td>No</td>\n",
       "    </tr>\n",
       "    <tr>\n",
       "      <th>2</th>\n",
       "      <td>Rwanda</td>\n",
       "      <td>2016</td>\n",
       "      <td>uniqueid_103</td>\n",
       "      <td>Rural</td>\n",
       "      <td>Yes</td>\n",
       "      <td>7</td>\n",
       "      <td>43</td>\n",
       "      <td>Male</td>\n",
       "      <td>Head of Household</td>\n",
       "      <td>Married/Living together</td>\n",
       "      <td>Secondary education</td>\n",
       "      <td>Farming and Fishing</td>\n",
       "      <td>Rwanda_uniqueid_103</td>\n",
       "      <td>No</td>\n",
       "    </tr>\n",
       "    <tr>\n",
       "      <th>3</th>\n",
       "      <td>Rwanda</td>\n",
       "      <td>2016</td>\n",
       "      <td>uniqueid_4582</td>\n",
       "      <td>Rural</td>\n",
       "      <td>No</td>\n",
       "      <td>6</td>\n",
       "      <td>35</td>\n",
       "      <td>Female</td>\n",
       "      <td>Head of Household</td>\n",
       "      <td>Married/Living together</td>\n",
       "      <td>Primary education</td>\n",
       "      <td>Farming and Fishing</td>\n",
       "      <td>Rwanda_uniqueid_4582</td>\n",
       "      <td>No</td>\n",
       "    </tr>\n",
       "    <tr>\n",
       "      <th>4</th>\n",
       "      <td>Tanzania</td>\n",
       "      <td>2017</td>\n",
       "      <td>uniqueid_2854</td>\n",
       "      <td>Urban</td>\n",
       "      <td>Yes</td>\n",
       "      <td>2</td>\n",
       "      <td>30</td>\n",
       "      <td>Male</td>\n",
       "      <td>Head of Household</td>\n",
       "      <td>Single/Never Married</td>\n",
       "      <td>Primary education</td>\n",
       "      <td>Informally employed</td>\n",
       "      <td>Tanzania_uniqueid_2854</td>\n",
       "      <td>No</td>\n",
       "    </tr>\n",
       "  </tbody>\n",
       "</table>\n",
       "</div>"
      ],
      "text/plain": [
       "    country  year       uniqueid location_type cellphone_access  \\\n",
       "0    Rwanda  2016  uniqueid_4858         Rural              Yes   \n",
       "1  Tanzania  2017  uniqueid_3015         Urban               No   \n",
       "2    Rwanda  2016   uniqueid_103         Rural              Yes   \n",
       "3    Rwanda  2016  uniqueid_4582         Rural               No   \n",
       "4  Tanzania  2017  uniqueid_2854         Urban              Yes   \n",
       "\n",
       "   household_size  age_of_respondent gender_of_respondent  \\\n",
       "0               6                 45                 Male   \n",
       "1               4                 33               Female   \n",
       "2               7                 43                 Male   \n",
       "3               6                 35               Female   \n",
       "4               2                 30                 Male   \n",
       "\n",
       "  relationship_with_head           marital_status      education_level  \\\n",
       "0      Head of Household       Divorced/Seperated    Primary education   \n",
       "1      Head of Household     Single/Never Married    Primary education   \n",
       "2      Head of Household  Married/Living together  Secondary education   \n",
       "3      Head of Household  Married/Living together    Primary education   \n",
       "4      Head of Household     Single/Never Married    Primary education   \n",
       "\n",
       "              job_type                     uid bank_account  \n",
       "0  Farming and Fishing    Rwanda_uniqueid_4858           No  \n",
       "1        Self employed  Tanzania_uniqueid_3015           No  \n",
       "2  Farming and Fishing     Rwanda_uniqueid_103           No  \n",
       "3  Farming and Fishing    Rwanda_uniqueid_4582           No  \n",
       "4  Informally employed  Tanzania_uniqueid_2854           No  "
      ]
     },
     "execution_count": 2,
     "metadata": {},
     "output_type": "execute_result"
    }
   ],
   "source": [
    "%%time\n",
    "\n",
    "df_train = pd.read_csv('/kaggle/input/inclusao-financeira-na-africa/train.csv')\n",
    "df_train.head()"
   ]
  },
  {
   "cell_type": "markdown",
   "id": "f3d2d7cf",
   "metadata": {
    "papermill": {
     "duration": 0.009822,
     "end_time": "2022-10-22T02:13:23.216983",
     "exception": false,
     "start_time": "2022-10-22T02:13:23.207161",
     "status": "completed"
    },
    "tags": []
   },
   "source": [
    "## Data understanding"
   ]
  },
  {
   "cell_type": "markdown",
   "id": "8f251693",
   "metadata": {
    "papermill": {
     "duration": 0.009745,
     "end_time": "2022-10-22T02:13:23.236678",
     "exception": false,
     "start_time": "2022-10-22T02:13:23.226933",
     "status": "completed"
    },
    "tags": []
   },
   "source": [
    "## Data dimension"
   ]
  },
  {
   "cell_type": "code",
   "execution_count": 3,
   "id": "e049a7f6",
   "metadata": {
    "execution": {
     "iopub.execute_input": "2022-10-22T02:13:23.258616Z",
     "iopub.status.busy": "2022-10-22T02:13:23.258210Z",
     "iopub.status.idle": "2022-10-22T02:13:23.265107Z",
     "shell.execute_reply": "2022-10-22T02:13:23.263971Z"
    },
    "papermill": {
     "duration": 0.020723,
     "end_time": "2022-10-22T02:13:23.267394",
     "exception": false,
     "start_time": "2022-10-22T02:13:23.246671",
     "status": "completed"
    },
    "tags": []
   },
   "outputs": [
    {
     "data": {
      "text/plain": [
       "(11762, 14)"
      ]
     },
     "execution_count": 3,
     "metadata": {},
     "output_type": "execute_result"
    }
   ],
   "source": [
    "df_train.shape"
   ]
  },
  {
   "cell_type": "markdown",
   "id": "38c703e3",
   "metadata": {
    "papermill": {
     "duration": 0.009904,
     "end_time": "2022-10-22T02:13:23.287531",
     "exception": false,
     "start_time": "2022-10-22T02:13:23.277627",
     "status": "completed"
    },
    "tags": []
   },
   "source": [
    "## Class distribution"
   ]
  },
  {
   "cell_type": "code",
   "execution_count": 4,
   "id": "206c3fd4",
   "metadata": {
    "execution": {
     "iopub.execute_input": "2022-10-22T02:13:23.310079Z",
     "iopub.status.busy": "2022-10-22T02:13:23.309037Z",
     "iopub.status.idle": "2022-10-22T02:13:23.322344Z",
     "shell.execute_reply": "2022-10-22T02:13:23.321561Z"
    },
    "papermill": {
     "duration": 0.026703,
     "end_time": "2022-10-22T02:13:23.324353",
     "exception": false,
     "start_time": "2022-10-22T02:13:23.297650",
     "status": "completed"
    },
    "tags": []
   },
   "outputs": [
    {
     "data": {
      "text/plain": [
       "No     85.674205\n",
       "Yes    14.325795\n",
       "Name: bank_account, dtype: float64"
      ]
     },
     "execution_count": 4,
     "metadata": {},
     "output_type": "execute_result"
    }
   ],
   "source": [
    "df_train['bank_account'].value_counts(normalize=True)*100"
   ]
  },
  {
   "cell_type": "markdown",
   "id": "370036e3",
   "metadata": {
    "papermill": {
     "duration": 0.010181,
     "end_time": "2022-10-22T02:13:23.344747",
     "exception": false,
     "start_time": "2022-10-22T02:13:23.334566",
     "status": "completed"
    },
    "tags": []
   },
   "source": [
    "## Data types"
   ]
  },
  {
   "cell_type": "code",
   "execution_count": 5,
   "id": "43dcfc11",
   "metadata": {
    "execution": {
     "iopub.execute_input": "2022-10-22T02:13:23.367338Z",
     "iopub.status.busy": "2022-10-22T02:13:23.366690Z",
     "iopub.status.idle": "2022-10-22T02:13:23.373773Z",
     "shell.execute_reply": "2022-10-22T02:13:23.372867Z"
    },
    "papermill": {
     "duration": 0.020986,
     "end_time": "2022-10-22T02:13:23.375876",
     "exception": false,
     "start_time": "2022-10-22T02:13:23.354890",
     "status": "completed"
    },
    "tags": []
   },
   "outputs": [
    {
     "data": {
      "text/plain": [
       "country                   object\n",
       "year                       int64\n",
       "uniqueid                  object\n",
       "location_type             object\n",
       "cellphone_access          object\n",
       "household_size             int64\n",
       "age_of_respondent          int64\n",
       "gender_of_respondent      object\n",
       "relationship_with_head    object\n",
       "marital_status            object\n",
       "education_level           object\n",
       "job_type                  object\n",
       "uid                       object\n",
       "bank_account              object\n",
       "dtype: object"
      ]
     },
     "execution_count": 5,
     "metadata": {},
     "output_type": "execute_result"
    }
   ],
   "source": [
    "df_train.dtypes"
   ]
  },
  {
   "cell_type": "markdown",
   "id": "713f6989",
   "metadata": {
    "papermill": {
     "duration": 0.01022,
     "end_time": "2022-10-22T02:13:23.396577",
     "exception": false,
     "start_time": "2022-10-22T02:13:23.386357",
     "status": "completed"
    },
    "tags": []
   },
   "source": [
    "## NAN?"
   ]
  },
  {
   "cell_type": "code",
   "execution_count": 6,
   "id": "35416178",
   "metadata": {
    "execution": {
     "iopub.execute_input": "2022-10-22T02:13:23.419741Z",
     "iopub.status.busy": "2022-10-22T02:13:23.419310Z",
     "iopub.status.idle": "2022-10-22T02:13:23.434164Z",
     "shell.execute_reply": "2022-10-22T02:13:23.433213Z"
    },
    "papermill": {
     "duration": 0.029292,
     "end_time": "2022-10-22T02:13:23.436470",
     "exception": false,
     "start_time": "2022-10-22T02:13:23.407178",
     "status": "completed"
    },
    "tags": []
   },
   "outputs": [
    {
     "data": {
      "text/plain": [
       "country                   0\n",
       "year                      0\n",
       "uniqueid                  0\n",
       "location_type             0\n",
       "cellphone_access          0\n",
       "household_size            0\n",
       "age_of_respondent         0\n",
       "gender_of_respondent      0\n",
       "relationship_with_head    0\n",
       "marital_status            0\n",
       "education_level           0\n",
       "job_type                  0\n",
       "uid                       0\n",
       "bank_account              0\n",
       "dtype: int64"
      ]
     },
     "execution_count": 6,
     "metadata": {},
     "output_type": "execute_result"
    }
   ],
   "source": [
    "df_train.isna().sum()"
   ]
  },
  {
   "cell_type": "markdown",
   "id": "a71ca109",
   "metadata": {
    "papermill": {
     "duration": 0.010679,
     "end_time": "2022-10-22T02:13:23.457704",
     "exception": false,
     "start_time": "2022-10-22T02:13:23.447025",
     "status": "completed"
    },
    "tags": []
   },
   "source": [
    "## Descriptive Statistics"
   ]
  },
  {
   "cell_type": "code",
   "execution_count": 7,
   "id": "e538f430",
   "metadata": {
    "execution": {
     "iopub.execute_input": "2022-10-22T02:13:23.480104Z",
     "iopub.status.busy": "2022-10-22T02:13:23.479710Z",
     "iopub.status.idle": "2022-10-22T02:13:23.531211Z",
     "shell.execute_reply": "2022-10-22T02:13:23.530108Z"
    },
    "papermill": {
     "duration": 0.065559,
     "end_time": "2022-10-22T02:13:23.533600",
     "exception": false,
     "start_time": "2022-10-22T02:13:23.468041",
     "status": "completed"
    },
    "tags": []
   },
   "outputs": [
    {
     "data": {
      "text/html": [
       "<div>\n",
       "<style scoped>\n",
       "    .dataframe tbody tr th:only-of-type {\n",
       "        vertical-align: middle;\n",
       "    }\n",
       "\n",
       "    .dataframe tbody tr th {\n",
       "        vertical-align: top;\n",
       "    }\n",
       "\n",
       "    .dataframe thead th {\n",
       "        text-align: right;\n",
       "    }\n",
       "</style>\n",
       "<table border=\"1\" class=\"dataframe\">\n",
       "  <thead>\n",
       "    <tr style=\"text-align: right;\">\n",
       "      <th></th>\n",
       "      <th>count</th>\n",
       "      <th>unique</th>\n",
       "      <th>top</th>\n",
       "      <th>freq</th>\n",
       "    </tr>\n",
       "  </thead>\n",
       "  <tbody>\n",
       "    <tr>\n",
       "      <th>uid</th>\n",
       "      <td>11762</td>\n",
       "      <td>11762</td>\n",
       "      <td>Rwanda_uniqueid_4858</td>\n",
       "      <td>1</td>\n",
       "    </tr>\n",
       "    <tr>\n",
       "      <th>uniqueid</th>\n",
       "      <td>11762</td>\n",
       "      <td>6916</td>\n",
       "      <td>uniqueid_403</td>\n",
       "      <td>4</td>\n",
       "    </tr>\n",
       "    <tr>\n",
       "      <th>job_type</th>\n",
       "      <td>11762</td>\n",
       "      <td>10</td>\n",
       "      <td>Self employed</td>\n",
       "      <td>3207</td>\n",
       "    </tr>\n",
       "    <tr>\n",
       "      <th>relationship_with_head</th>\n",
       "      <td>11762</td>\n",
       "      <td>6</td>\n",
       "      <td>Head of Household</td>\n",
       "      <td>6358</td>\n",
       "    </tr>\n",
       "    <tr>\n",
       "      <th>education_level</th>\n",
       "      <td>11762</td>\n",
       "      <td>6</td>\n",
       "      <td>Primary education</td>\n",
       "      <td>6408</td>\n",
       "    </tr>\n",
       "    <tr>\n",
       "      <th>marital_status</th>\n",
       "      <td>11762</td>\n",
       "      <td>5</td>\n",
       "      <td>Married/Living together</td>\n",
       "      <td>5433</td>\n",
       "    </tr>\n",
       "    <tr>\n",
       "      <th>country</th>\n",
       "      <td>11762</td>\n",
       "      <td>4</td>\n",
       "      <td>Rwanda</td>\n",
       "      <td>4335</td>\n",
       "    </tr>\n",
       "    <tr>\n",
       "      <th>location_type</th>\n",
       "      <td>11762</td>\n",
       "      <td>2</td>\n",
       "      <td>Rural</td>\n",
       "      <td>7100</td>\n",
       "    </tr>\n",
       "    <tr>\n",
       "      <th>cellphone_access</th>\n",
       "      <td>11762</td>\n",
       "      <td>2</td>\n",
       "      <td>Yes</td>\n",
       "      <td>8786</td>\n",
       "    </tr>\n",
       "    <tr>\n",
       "      <th>gender_of_respondent</th>\n",
       "      <td>11762</td>\n",
       "      <td>2</td>\n",
       "      <td>Female</td>\n",
       "      <td>6902</td>\n",
       "    </tr>\n",
       "    <tr>\n",
       "      <th>bank_account</th>\n",
       "      <td>11762</td>\n",
       "      <td>2</td>\n",
       "      <td>No</td>\n",
       "      <td>10077</td>\n",
       "    </tr>\n",
       "  </tbody>\n",
       "</table>\n",
       "</div>"
      ],
      "text/plain": [
       "                        count unique                      top   freq\n",
       "uid                     11762  11762     Rwanda_uniqueid_4858      1\n",
       "uniqueid                11762   6916             uniqueid_403      4\n",
       "job_type                11762     10            Self employed   3207\n",
       "relationship_with_head  11762      6        Head of Household   6358\n",
       "education_level         11762      6        Primary education   6408\n",
       "marital_status          11762      5  Married/Living together   5433\n",
       "country                 11762      4                   Rwanda   4335\n",
       "location_type           11762      2                    Rural   7100\n",
       "cellphone_access        11762      2                      Yes   8786\n",
       "gender_of_respondent    11762      2                   Female   6902\n",
       "bank_account            11762      2                       No  10077"
      ]
     },
     "execution_count": 7,
     "metadata": {},
     "output_type": "execute_result"
    }
   ],
   "source": [
    "df_train.describe(include='object').T.sort_values(by='unique', ascending=False)"
   ]
  },
  {
   "cell_type": "code",
   "execution_count": 8,
   "id": "313cf81b",
   "metadata": {
    "execution": {
     "iopub.execute_input": "2022-10-22T02:13:23.556691Z",
     "iopub.status.busy": "2022-10-22T02:13:23.556282Z",
     "iopub.status.idle": "2022-10-22T02:13:23.581842Z",
     "shell.execute_reply": "2022-10-22T02:13:23.580779Z"
    },
    "papermill": {
     "duration": 0.039696,
     "end_time": "2022-10-22T02:13:23.584236",
     "exception": false,
     "start_time": "2022-10-22T02:13:23.544540",
     "status": "completed"
    },
    "tags": []
   },
   "outputs": [
    {
     "data": {
      "text/html": [
       "<div>\n",
       "<style scoped>\n",
       "    .dataframe tbody tr th:only-of-type {\n",
       "        vertical-align: middle;\n",
       "    }\n",
       "\n",
       "    .dataframe tbody tr th {\n",
       "        vertical-align: top;\n",
       "    }\n",
       "\n",
       "    .dataframe thead th {\n",
       "        text-align: right;\n",
       "    }\n",
       "</style>\n",
       "<table border=\"1\" class=\"dataframe\">\n",
       "  <thead>\n",
       "    <tr style=\"text-align: right;\">\n",
       "      <th></th>\n",
       "      <th>count</th>\n",
       "      <th>mean</th>\n",
       "      <th>std</th>\n",
       "      <th>min</th>\n",
       "      <th>25%</th>\n",
       "      <th>50%</th>\n",
       "      <th>75%</th>\n",
       "      <th>max</th>\n",
       "    </tr>\n",
       "  </thead>\n",
       "  <tbody>\n",
       "    <tr>\n",
       "      <th>year</th>\n",
       "      <td>11762.0</td>\n",
       "      <td>2016.983336</td>\n",
       "      <td>0.848669</td>\n",
       "      <td>2016.0</td>\n",
       "      <td>2016.0</td>\n",
       "      <td>2017.0</td>\n",
       "      <td>2018.0</td>\n",
       "      <td>2018.0</td>\n",
       "    </tr>\n",
       "    <tr>\n",
       "      <th>household_size</th>\n",
       "      <td>11762.0</td>\n",
       "      <td>3.793913</td>\n",
       "      <td>2.225423</td>\n",
       "      <td>1.0</td>\n",
       "      <td>2.0</td>\n",
       "      <td>3.0</td>\n",
       "      <td>5.0</td>\n",
       "      <td>21.0</td>\n",
       "    </tr>\n",
       "    <tr>\n",
       "      <th>age_of_respondent</th>\n",
       "      <td>11762.0</td>\n",
       "      <td>38.602364</td>\n",
       "      <td>16.334624</td>\n",
       "      <td>16.0</td>\n",
       "      <td>26.0</td>\n",
       "      <td>35.0</td>\n",
       "      <td>48.0</td>\n",
       "      <td>100.0</td>\n",
       "    </tr>\n",
       "  </tbody>\n",
       "</table>\n",
       "</div>"
      ],
      "text/plain": [
       "                     count         mean        std     min     25%     50%  \\\n",
       "year               11762.0  2016.983336   0.848669  2016.0  2016.0  2017.0   \n",
       "household_size     11762.0     3.793913   2.225423     1.0     2.0     3.0   \n",
       "age_of_respondent  11762.0    38.602364  16.334624    16.0    26.0    35.0   \n",
       "\n",
       "                      75%     max  \n",
       "year               2018.0  2018.0  \n",
       "household_size        5.0    21.0  \n",
       "age_of_respondent    48.0   100.0  "
      ]
     },
     "execution_count": 8,
     "metadata": {},
     "output_type": "execute_result"
    }
   ],
   "source": [
    "df_train.describe().T"
   ]
  },
  {
   "cell_type": "markdown",
   "id": "bcb98d1d",
   "metadata": {
    "execution": {
     "iopub.execute_input": "2022-10-22T00:47:36.971877Z",
     "iopub.status.busy": "2022-10-22T00:47:36.971420Z",
     "iopub.status.idle": "2022-10-22T00:47:36.979422Z",
     "shell.execute_reply": "2022-10-22T00:47:36.976580Z",
     "shell.execute_reply.started": "2022-10-22T00:47:36.971845Z"
    },
    "papermill": {
     "duration": 0.010783,
     "end_time": "2022-10-22T02:13:23.606508",
     "exception": false,
     "start_time": "2022-10-22T02:13:23.595725",
     "status": "completed"
    },
    "tags": []
   },
   "source": [
    "## Data Preparation"
   ]
  },
  {
   "cell_type": "code",
   "execution_count": 9,
   "id": "6568981e",
   "metadata": {
    "execution": {
     "iopub.execute_input": "2022-10-22T02:13:23.630110Z",
     "iopub.status.busy": "2022-10-22T02:13:23.629703Z",
     "iopub.status.idle": "2022-10-22T02:13:23.635593Z",
     "shell.execute_reply": "2022-10-22T02:13:23.634645Z"
    },
    "papermill": {
     "duration": 0.020463,
     "end_time": "2022-10-22T02:13:23.637952",
     "exception": false,
     "start_time": "2022-10-22T02:13:23.617489",
     "status": "completed"
    },
    "tags": []
   },
   "outputs": [],
   "source": [
    "df_pp = df_train.copy()"
   ]
  },
  {
   "cell_type": "markdown",
   "id": "7f71ba71",
   "metadata": {
    "papermill": {
     "duration": 0.010448,
     "end_time": "2022-10-22T02:13:23.659209",
     "exception": false,
     "start_time": "2022-10-22T02:13:23.648761",
     "status": "completed"
    },
    "tags": []
   },
   "source": [
    "## Remove useless features"
   ]
  },
  {
   "cell_type": "code",
   "execution_count": 10,
   "id": "afcae8f4",
   "metadata": {
    "execution": {
     "iopub.execute_input": "2022-10-22T02:13:23.682150Z",
     "iopub.status.busy": "2022-10-22T02:13:23.681781Z",
     "iopub.status.idle": "2022-10-22T02:13:23.688883Z",
     "shell.execute_reply": "2022-10-22T02:13:23.687823Z"
    },
    "papermill": {
     "duration": 0.021071,
     "end_time": "2022-10-22T02:13:23.690949",
     "exception": false,
     "start_time": "2022-10-22T02:13:23.669878",
     "status": "completed"
    },
    "tags": []
   },
   "outputs": [],
   "source": [
    "cols_remove = ['uid', 'uniqueid']\n",
    "df_pp = df_pp.drop(columns=cols_remove)"
   ]
  },
  {
   "cell_type": "code",
   "execution_count": 11,
   "id": "e2fa064b",
   "metadata": {
    "execution": {
     "iopub.execute_input": "2022-10-22T02:13:23.713935Z",
     "iopub.status.busy": "2022-10-22T02:13:23.713532Z",
     "iopub.status.idle": "2022-10-22T02:13:23.724922Z",
     "shell.execute_reply": "2022-10-22T02:13:23.723793Z"
    },
    "papermill": {
     "duration": 0.0257,
     "end_time": "2022-10-22T02:13:23.727366",
     "exception": false,
     "start_time": "2022-10-22T02:13:23.701666",
     "status": "completed"
    },
    "tags": []
   },
   "outputs": [],
   "source": [
    "X = df_pp.drop(columns=['bank_account'])\n",
    "y = df_pp['bank_account']\n",
    "\n",
    "X_train, X_test, y_train, y_test = train_test_split(X, y, test_size=0.2, random_state=42)"
   ]
  },
  {
   "cell_type": "markdown",
   "id": "d5c9ed01",
   "metadata": {
    "papermill": {
     "duration": 0.010417,
     "end_time": "2022-10-22T02:13:23.748618",
     "exception": false,
     "start_time": "2022-10-22T02:13:23.738201",
     "status": "completed"
    },
    "tags": []
   },
   "source": [
    "## Feature Encoding"
   ]
  },
  {
   "cell_type": "markdown",
   "id": "544c4ea3",
   "metadata": {
    "papermill": {
     "duration": 0.010398,
     "end_time": "2022-10-22T02:13:23.769630",
     "exception": false,
     "start_time": "2022-10-22T02:13:23.759232",
     "status": "completed"
    },
    "tags": []
   },
   "source": [
    "### Class encoding"
   ]
  },
  {
   "cell_type": "code",
   "execution_count": 12,
   "id": "37306efb",
   "metadata": {
    "execution": {
     "iopub.execute_input": "2022-10-22T02:13:23.792978Z",
     "iopub.status.busy": "2022-10-22T02:13:23.792592Z",
     "iopub.status.idle": "2022-10-22T02:13:23.798922Z",
     "shell.execute_reply": "2022-10-22T02:13:23.798091Z"
    },
    "papermill": {
     "duration": 0.020575,
     "end_time": "2022-10-22T02:13:23.800927",
     "exception": false,
     "start_time": "2022-10-22T02:13:23.780352",
     "status": "completed"
    },
    "tags": []
   },
   "outputs": [],
   "source": [
    "#class_col_enc = 'bank_account'\n",
    "\n",
    "d_class = {\n",
    "    'No': 0,\n",
    "    'Yes': 1\n",
    "}\n",
    "\n",
    "y_train = y_train.map(d_class)"
   ]
  },
  {
   "cell_type": "markdown",
   "id": "b3e41397",
   "metadata": {
    "papermill": {
     "duration": 0.010385,
     "end_time": "2022-10-22T02:13:23.822007",
     "exception": false,
     "start_time": "2022-10-22T02:13:23.811622",
     "status": "completed"
    },
    "tags": []
   },
   "source": [
    "### One-hot encoding"
   ]
  },
  {
   "cell_type": "code",
   "execution_count": 13,
   "id": "fcabbab9",
   "metadata": {
    "execution": {
     "iopub.execute_input": "2022-10-22T02:13:23.844980Z",
     "iopub.status.busy": "2022-10-22T02:13:23.844222Z",
     "iopub.status.idle": "2022-10-22T02:13:23.892810Z",
     "shell.execute_reply": "2022-10-22T02:13:23.891667Z"
    },
    "papermill": {
     "duration": 0.063091,
     "end_time": "2022-10-22T02:13:23.895653",
     "exception": false,
     "start_time": "2022-10-22T02:13:23.832562",
     "status": "completed"
    },
    "tags": []
   },
   "outputs": [],
   "source": [
    "cols_enc = ['country', 'location_type', 'cellphone_access','gender_of_respondent',\n",
    " 'relationship_with_head', 'marital_status', 'education_level', 'job_type']\n",
    "\n",
    "ohe = OneHotEncoder(drop='first')\n",
    "res_ohe = ohe.fit_transform(X_train[cols_enc]).todense()\n",
    "\n",
    "X_train = X_train.drop(columns=cols_enc)\n",
    "X_train = pd.concat([X_train.reset_index(drop=True), pd.DataFrame(res_ohe, columns=ohe.get_feature_names_out()).reset_index(drop=True)], axis=1)"
   ]
  },
  {
   "cell_type": "markdown",
   "id": "13a7fafb",
   "metadata": {
    "execution": {
     "iopub.execute_input": "2022-10-22T01:27:22.573445Z",
     "iopub.status.busy": "2022-10-22T01:27:22.572929Z",
     "iopub.status.idle": "2022-10-22T01:27:22.581581Z",
     "shell.execute_reply": "2022-10-22T01:27:22.580412Z",
     "shell.execute_reply.started": "2022-10-22T01:27:22.573407Z"
    },
    "papermill": {
     "duration": 0.010466,
     "end_time": "2022-10-22T02:13:23.917175",
     "exception": false,
     "start_time": "2022-10-22T02:13:23.906709",
     "status": "completed"
    },
    "tags": []
   },
   "source": [
    "## Modeling & Evaluation"
   ]
  },
  {
   "cell_type": "code",
   "execution_count": 14,
   "id": "2dc0fd69",
   "metadata": {
    "execution": {
     "iopub.execute_input": "2022-10-22T02:13:23.940843Z",
     "iopub.status.busy": "2022-10-22T02:13:23.939838Z",
     "iopub.status.idle": "2022-10-22T02:13:24.109782Z",
     "shell.execute_reply": "2022-10-22T02:13:24.108658Z"
    },
    "papermill": {
     "duration": 0.184761,
     "end_time": "2022-10-22T02:13:24.112594",
     "exception": false,
     "start_time": "2022-10-22T02:13:23.927833",
     "status": "completed"
    },
    "tags": []
   },
   "outputs": [],
   "source": [
    "from sklearn.model_selection import cross_val_score, cross_validate\n",
    "from sklearn.ensemble import RandomForestClassifier"
   ]
  },
  {
   "cell_type": "code",
   "execution_count": 15,
   "id": "0929bdb0",
   "metadata": {
    "execution": {
     "iopub.execute_input": "2022-10-22T02:13:24.136348Z",
     "iopub.status.busy": "2022-10-22T02:13:24.135973Z",
     "iopub.status.idle": "2022-10-22T02:13:27.600088Z",
     "shell.execute_reply": "2022-10-22T02:13:27.599052Z"
    },
    "papermill": {
     "duration": 3.478468,
     "end_time": "2022-10-22T02:13:27.602168",
     "exception": false,
     "start_time": "2022-10-22T02:13:24.123700",
     "status": "completed"
    },
    "tags": []
   },
   "outputs": [
    {
     "data": {
      "text/plain": [
       "array([0.85860854, 0.85399546, 0.86212604, 0.86131375, 0.86642492])"
      ]
     },
     "execution_count": 15,
     "metadata": {},
     "output_type": "execute_result"
    }
   ],
   "source": [
    "rf = RandomForestClassifier(random_state=42)\n",
    "cross_val_score(estimator=rf, X=X_train,y=y_train,scoring='f1_weighted',cv=5, n_jobs=-1)"
   ]
  },
  {
   "cell_type": "code",
   "execution_count": 16,
   "id": "ac2ff3fa",
   "metadata": {
    "execution": {
     "iopub.execute_input": "2022-10-22T02:13:27.627530Z",
     "iopub.status.busy": "2022-10-22T02:13:27.627104Z",
     "iopub.status.idle": "2022-10-22T02:13:29.156234Z",
     "shell.execute_reply": "2022-10-22T02:13:29.154962Z"
    },
    "papermill": {
     "duration": 1.545037,
     "end_time": "2022-10-22T02:13:29.158893",
     "exception": false,
     "start_time": "2022-10-22T02:13:27.613856",
     "status": "completed"
    },
    "tags": []
   },
   "outputs": [
    {
     "data": {
      "text/plain": [
       "{'fit_time': array([0.63606596, 0.64067721, 0.63777995, 0.64365315, 0.45519996]),\n",
       " 'score_time': array([0.05222654, 0.05199885, 0.05172873, 0.05190015, 0.03533649]),\n",
       " 'test_score': array([0.85228881, 0.85194628, 0.86154706, 0.85554222, 0.86490669]),\n",
       " 'train_score': array([0.87224576, 0.87204434, 0.86861359, 0.87044888, 0.86873567])}"
      ]
     },
     "execution_count": 16,
     "metadata": {},
     "output_type": "execute_result"
    }
   ],
   "source": [
    "rf = RandomForestClassifier(random_state=42, max_depth=8)\n",
    "cross_validate(estimator=rf, X=X_train,y=y_train,scoring='f1_weighted',cv=5, n_jobs=-1, return_train_score=True)"
   ]
  },
  {
   "cell_type": "code",
   "execution_count": 17,
   "id": "8b30fcca",
   "metadata": {
    "execution": {
     "iopub.execute_input": "2022-10-22T02:13:29.184140Z",
     "iopub.status.busy": "2022-10-22T02:13:29.183347Z",
     "iopub.status.idle": "2022-10-22T02:13:29.744578Z",
     "shell.execute_reply": "2022-10-22T02:13:29.743391Z"
    },
    "papermill": {
     "duration": 0.576403,
     "end_time": "2022-10-22T02:13:29.746893",
     "exception": false,
     "start_time": "2022-10-22T02:13:29.170490",
     "status": "completed"
    },
    "tags": []
   },
   "outputs": [
    {
     "data": {
      "text/plain": [
       "RandomForestClassifier(max_depth=8, random_state=42)"
      ]
     },
     "execution_count": 17,
     "metadata": {},
     "output_type": "execute_result"
    }
   ],
   "source": [
    "rf.fit(X_train, y_train)"
   ]
  },
  {
   "cell_type": "code",
   "execution_count": 18,
   "id": "eb452d4c",
   "metadata": {
    "execution": {
     "iopub.execute_input": "2022-10-22T02:13:29.771305Z",
     "iopub.status.busy": "2022-10-22T02:13:29.770167Z",
     "iopub.status.idle": "2022-10-22T02:13:29.793921Z",
     "shell.execute_reply": "2022-10-22T02:13:29.793117Z"
    },
    "papermill": {
     "duration": 0.038038,
     "end_time": "2022-10-22T02:13:29.796123",
     "exception": false,
     "start_time": "2022-10-22T02:13:29.758085",
     "status": "completed"
    },
    "tags": []
   },
   "outputs": [
    {
     "data": {
      "text/html": [
       "<div>\n",
       "<style scoped>\n",
       "    .dataframe tbody tr th:only-of-type {\n",
       "        vertical-align: middle;\n",
       "    }\n",
       "\n",
       "    .dataframe tbody tr th {\n",
       "        vertical-align: top;\n",
       "    }\n",
       "\n",
       "    .dataframe thead th {\n",
       "        text-align: right;\n",
       "    }\n",
       "</style>\n",
       "<table border=\"1\" class=\"dataframe\">\n",
       "  <thead>\n",
       "    <tr style=\"text-align: right;\">\n",
       "      <th></th>\n",
       "      <th>country</th>\n",
       "      <th>year</th>\n",
       "      <th>location_type</th>\n",
       "      <th>cellphone_access</th>\n",
       "      <th>household_size</th>\n",
       "      <th>age_of_respondent</th>\n",
       "      <th>gender_of_respondent</th>\n",
       "      <th>relationship_with_head</th>\n",
       "      <th>marital_status</th>\n",
       "      <th>education_level</th>\n",
       "      <th>job_type</th>\n",
       "    </tr>\n",
       "  </thead>\n",
       "  <tbody>\n",
       "    <tr>\n",
       "      <th>3717</th>\n",
       "      <td>Rwanda</td>\n",
       "      <td>2016</td>\n",
       "      <td>Rural</td>\n",
       "      <td>Yes</td>\n",
       "      <td>6</td>\n",
       "      <td>48</td>\n",
       "      <td>Female</td>\n",
       "      <td>Spouse</td>\n",
       "      <td>Married/Living together</td>\n",
       "      <td>Other/Dont know/RTA</td>\n",
       "      <td>Informally employed</td>\n",
       "    </tr>\n",
       "    <tr>\n",
       "      <th>11036</th>\n",
       "      <td>Rwanda</td>\n",
       "      <td>2016</td>\n",
       "      <td>Urban</td>\n",
       "      <td>No</td>\n",
       "      <td>3</td>\n",
       "      <td>27</td>\n",
       "      <td>Female</td>\n",
       "      <td>Spouse</td>\n",
       "      <td>Married/Living together</td>\n",
       "      <td>No formal education</td>\n",
       "      <td>Formally employed Private</td>\n",
       "    </tr>\n",
       "    <tr>\n",
       "      <th>2088</th>\n",
       "      <td>Tanzania</td>\n",
       "      <td>2017</td>\n",
       "      <td>Urban</td>\n",
       "      <td>No</td>\n",
       "      <td>4</td>\n",
       "      <td>32</td>\n",
       "      <td>Female</td>\n",
       "      <td>Spouse</td>\n",
       "      <td>Single/Never Married</td>\n",
       "      <td>Primary education</td>\n",
       "      <td>No Income</td>\n",
       "    </tr>\n",
       "    <tr>\n",
       "      <th>1399</th>\n",
       "      <td>Uganda</td>\n",
       "      <td>2018</td>\n",
       "      <td>Rural</td>\n",
       "      <td>No</td>\n",
       "      <td>3</td>\n",
       "      <td>19</td>\n",
       "      <td>Female</td>\n",
       "      <td>Spouse</td>\n",
       "      <td>Married/Living together</td>\n",
       "      <td>Primary education</td>\n",
       "      <td>Self employed</td>\n",
       "    </tr>\n",
       "    <tr>\n",
       "      <th>1178</th>\n",
       "      <td>Tanzania</td>\n",
       "      <td>2017</td>\n",
       "      <td>Urban</td>\n",
       "      <td>Yes</td>\n",
       "      <td>2</td>\n",
       "      <td>36</td>\n",
       "      <td>Male</td>\n",
       "      <td>Head of Household</td>\n",
       "      <td>Single/Never Married</td>\n",
       "      <td>Primary education</td>\n",
       "      <td>Self employed</td>\n",
       "    </tr>\n",
       "    <tr>\n",
       "      <th>...</th>\n",
       "      <td>...</td>\n",
       "      <td>...</td>\n",
       "      <td>...</td>\n",
       "      <td>...</td>\n",
       "      <td>...</td>\n",
       "      <td>...</td>\n",
       "      <td>...</td>\n",
       "      <td>...</td>\n",
       "      <td>...</td>\n",
       "      <td>...</td>\n",
       "      <td>...</td>\n",
       "    </tr>\n",
       "    <tr>\n",
       "      <th>1330</th>\n",
       "      <td>Tanzania</td>\n",
       "      <td>2017</td>\n",
       "      <td>Rural</td>\n",
       "      <td>Yes</td>\n",
       "      <td>3</td>\n",
       "      <td>65</td>\n",
       "      <td>Female</td>\n",
       "      <td>Head of Household</td>\n",
       "      <td>Widowed</td>\n",
       "      <td>No formal education</td>\n",
       "      <td>Informally employed</td>\n",
       "    </tr>\n",
       "    <tr>\n",
       "      <th>3194</th>\n",
       "      <td>Tanzania</td>\n",
       "      <td>2017</td>\n",
       "      <td>Urban</td>\n",
       "      <td>No</td>\n",
       "      <td>2</td>\n",
       "      <td>21</td>\n",
       "      <td>Male</td>\n",
       "      <td>Head of Household</td>\n",
       "      <td>Single/Never Married</td>\n",
       "      <td>Primary education</td>\n",
       "      <td>Self employed</td>\n",
       "    </tr>\n",
       "    <tr>\n",
       "      <th>957</th>\n",
       "      <td>Rwanda</td>\n",
       "      <td>2016</td>\n",
       "      <td>Rural</td>\n",
       "      <td>Yes</td>\n",
       "      <td>4</td>\n",
       "      <td>32</td>\n",
       "      <td>Male</td>\n",
       "      <td>Head of Household</td>\n",
       "      <td>Married/Living together</td>\n",
       "      <td>Secondary education</td>\n",
       "      <td>Informally employed</td>\n",
       "    </tr>\n",
       "    <tr>\n",
       "      <th>10526</th>\n",
       "      <td>Rwanda</td>\n",
       "      <td>2016</td>\n",
       "      <td>Rural</td>\n",
       "      <td>Yes</td>\n",
       "      <td>4</td>\n",
       "      <td>57</td>\n",
       "      <td>Male</td>\n",
       "      <td>Head of Household</td>\n",
       "      <td>Married/Living together</td>\n",
       "      <td>No formal education</td>\n",
       "      <td>Informally employed</td>\n",
       "    </tr>\n",
       "    <tr>\n",
       "      <th>8650</th>\n",
       "      <td>Kenya</td>\n",
       "      <td>2018</td>\n",
       "      <td>Rural</td>\n",
       "      <td>Yes</td>\n",
       "      <td>3</td>\n",
       "      <td>23</td>\n",
       "      <td>Female</td>\n",
       "      <td>Spouse</td>\n",
       "      <td>Married/Living together</td>\n",
       "      <td>Secondary education</td>\n",
       "      <td>Farming and Fishing</td>\n",
       "    </tr>\n",
       "  </tbody>\n",
       "</table>\n",
       "<p>2353 rows × 11 columns</p>\n",
       "</div>"
      ],
      "text/plain": [
       "        country  year location_type cellphone_access  household_size  \\\n",
       "3717     Rwanda  2016         Rural              Yes               6   \n",
       "11036    Rwanda  2016         Urban               No               3   \n",
       "2088   Tanzania  2017         Urban               No               4   \n",
       "1399     Uganda  2018         Rural               No               3   \n",
       "1178   Tanzania  2017         Urban              Yes               2   \n",
       "...         ...   ...           ...              ...             ...   \n",
       "1330   Tanzania  2017         Rural              Yes               3   \n",
       "3194   Tanzania  2017         Urban               No               2   \n",
       "957      Rwanda  2016         Rural              Yes               4   \n",
       "10526    Rwanda  2016         Rural              Yes               4   \n",
       "8650      Kenya  2018         Rural              Yes               3   \n",
       "\n",
       "       age_of_respondent gender_of_respondent relationship_with_head  \\\n",
       "3717                  48               Female                 Spouse   \n",
       "11036                 27               Female                 Spouse   \n",
       "2088                  32               Female                 Spouse   \n",
       "1399                  19               Female                 Spouse   \n",
       "1178                  36                 Male      Head of Household   \n",
       "...                  ...                  ...                    ...   \n",
       "1330                  65               Female      Head of Household   \n",
       "3194                  21                 Male      Head of Household   \n",
       "957                   32                 Male      Head of Household   \n",
       "10526                 57                 Male      Head of Household   \n",
       "8650                  23               Female                 Spouse   \n",
       "\n",
       "                marital_status      education_level                   job_type  \n",
       "3717   Married/Living together  Other/Dont know/RTA        Informally employed  \n",
       "11036  Married/Living together  No formal education  Formally employed Private  \n",
       "2088      Single/Never Married    Primary education                  No Income  \n",
       "1399   Married/Living together    Primary education              Self employed  \n",
       "1178      Single/Never Married    Primary education              Self employed  \n",
       "...                        ...                  ...                        ...  \n",
       "1330                   Widowed  No formal education        Informally employed  \n",
       "3194      Single/Never Married    Primary education              Self employed  \n",
       "957    Married/Living together  Secondary education        Informally employed  \n",
       "10526  Married/Living together  No formal education        Informally employed  \n",
       "8650   Married/Living together  Secondary education        Farming and Fishing  \n",
       "\n",
       "[2353 rows x 11 columns]"
      ]
     },
     "execution_count": 18,
     "metadata": {},
     "output_type": "execute_result"
    }
   ],
   "source": [
    "X_test"
   ]
  },
  {
   "cell_type": "code",
   "execution_count": 19,
   "id": "6bd779e6",
   "metadata": {
    "execution": {
     "iopub.execute_input": "2022-10-22T02:13:29.820826Z",
     "iopub.status.busy": "2022-10-22T02:13:29.820053Z",
     "iopub.status.idle": "2022-10-22T02:13:29.859273Z",
     "shell.execute_reply": "2022-10-22T02:13:29.858342Z"
    },
    "papermill": {
     "duration": 0.054194,
     "end_time": "2022-10-22T02:13:29.861854",
     "exception": false,
     "start_time": "2022-10-22T02:13:29.807660",
     "status": "completed"
    },
    "tags": []
   },
   "outputs": [
    {
     "data": {
      "text/html": [
       "<div>\n",
       "<style scoped>\n",
       "    .dataframe tbody tr th:only-of-type {\n",
       "        vertical-align: middle;\n",
       "    }\n",
       "\n",
       "    .dataframe tbody tr th {\n",
       "        vertical-align: top;\n",
       "    }\n",
       "\n",
       "    .dataframe thead th {\n",
       "        text-align: right;\n",
       "    }\n",
       "</style>\n",
       "<table border=\"1\" class=\"dataframe\">\n",
       "  <thead>\n",
       "    <tr style=\"text-align: right;\">\n",
       "      <th></th>\n",
       "      <th>year</th>\n",
       "      <th>household_size</th>\n",
       "      <th>age_of_respondent</th>\n",
       "      <th>country_Rwanda</th>\n",
       "      <th>country_Tanzania</th>\n",
       "      <th>country_Uganda</th>\n",
       "      <th>location_type_Urban</th>\n",
       "      <th>cellphone_access_Yes</th>\n",
       "      <th>gender_of_respondent_Male</th>\n",
       "      <th>relationship_with_head_Head of Household</th>\n",
       "      <th>...</th>\n",
       "      <th>education_level_Vocational/Specialised training</th>\n",
       "      <th>job_type_Farming and Fishing</th>\n",
       "      <th>job_type_Formally employed Government</th>\n",
       "      <th>job_type_Formally employed Private</th>\n",
       "      <th>job_type_Government Dependent</th>\n",
       "      <th>job_type_Informally employed</th>\n",
       "      <th>job_type_No Income</th>\n",
       "      <th>job_type_Other Income</th>\n",
       "      <th>job_type_Remittance Dependent</th>\n",
       "      <th>job_type_Self employed</th>\n",
       "    </tr>\n",
       "  </thead>\n",
       "  <tbody>\n",
       "    <tr>\n",
       "      <th>0</th>\n",
       "      <td>2018</td>\n",
       "      <td>4</td>\n",
       "      <td>28</td>\n",
       "      <td>0.0</td>\n",
       "      <td>0.0</td>\n",
       "      <td>1.0</td>\n",
       "      <td>0.0</td>\n",
       "      <td>0.0</td>\n",
       "      <td>0.0</td>\n",
       "      <td>0.0</td>\n",
       "      <td>...</td>\n",
       "      <td>0.0</td>\n",
       "      <td>0.0</td>\n",
       "      <td>0.0</td>\n",
       "      <td>0.0</td>\n",
       "      <td>0.0</td>\n",
       "      <td>0.0</td>\n",
       "      <td>0.0</td>\n",
       "      <td>0.0</td>\n",
       "      <td>0.0</td>\n",
       "      <td>1.0</td>\n",
       "    </tr>\n",
       "    <tr>\n",
       "      <th>1</th>\n",
       "      <td>2016</td>\n",
       "      <td>10</td>\n",
       "      <td>56</td>\n",
       "      <td>1.0</td>\n",
       "      <td>0.0</td>\n",
       "      <td>0.0</td>\n",
       "      <td>0.0</td>\n",
       "      <td>1.0</td>\n",
       "      <td>1.0</td>\n",
       "      <td>1.0</td>\n",
       "      <td>...</td>\n",
       "      <td>1.0</td>\n",
       "      <td>1.0</td>\n",
       "      <td>0.0</td>\n",
       "      <td>0.0</td>\n",
       "      <td>0.0</td>\n",
       "      <td>0.0</td>\n",
       "      <td>0.0</td>\n",
       "      <td>0.0</td>\n",
       "      <td>0.0</td>\n",
       "      <td>0.0</td>\n",
       "    </tr>\n",
       "    <tr>\n",
       "      <th>2</th>\n",
       "      <td>2016</td>\n",
       "      <td>2</td>\n",
       "      <td>52</td>\n",
       "      <td>1.0</td>\n",
       "      <td>0.0</td>\n",
       "      <td>0.0</td>\n",
       "      <td>0.0</td>\n",
       "      <td>1.0</td>\n",
       "      <td>0.0</td>\n",
       "      <td>0.0</td>\n",
       "      <td>...</td>\n",
       "      <td>0.0</td>\n",
       "      <td>0.0</td>\n",
       "      <td>0.0</td>\n",
       "      <td>0.0</td>\n",
       "      <td>0.0</td>\n",
       "      <td>1.0</td>\n",
       "      <td>0.0</td>\n",
       "      <td>0.0</td>\n",
       "      <td>0.0</td>\n",
       "      <td>0.0</td>\n",
       "    </tr>\n",
       "    <tr>\n",
       "      <th>3</th>\n",
       "      <td>2016</td>\n",
       "      <td>4</td>\n",
       "      <td>28</td>\n",
       "      <td>1.0</td>\n",
       "      <td>0.0</td>\n",
       "      <td>0.0</td>\n",
       "      <td>0.0</td>\n",
       "      <td>1.0</td>\n",
       "      <td>1.0</td>\n",
       "      <td>1.0</td>\n",
       "      <td>...</td>\n",
       "      <td>0.0</td>\n",
       "      <td>1.0</td>\n",
       "      <td>0.0</td>\n",
       "      <td>0.0</td>\n",
       "      <td>0.0</td>\n",
       "      <td>0.0</td>\n",
       "      <td>0.0</td>\n",
       "      <td>0.0</td>\n",
       "      <td>0.0</td>\n",
       "      <td>0.0</td>\n",
       "    </tr>\n",
       "    <tr>\n",
       "      <th>4</th>\n",
       "      <td>2016</td>\n",
       "      <td>4</td>\n",
       "      <td>29</td>\n",
       "      <td>1.0</td>\n",
       "      <td>0.0</td>\n",
       "      <td>0.0</td>\n",
       "      <td>0.0</td>\n",
       "      <td>1.0</td>\n",
       "      <td>0.0</td>\n",
       "      <td>0.0</td>\n",
       "      <td>...</td>\n",
       "      <td>0.0</td>\n",
       "      <td>1.0</td>\n",
       "      <td>0.0</td>\n",
       "      <td>0.0</td>\n",
       "      <td>0.0</td>\n",
       "      <td>0.0</td>\n",
       "      <td>0.0</td>\n",
       "      <td>0.0</td>\n",
       "      <td>0.0</td>\n",
       "      <td>0.0</td>\n",
       "    </tr>\n",
       "    <tr>\n",
       "      <th>...</th>\n",
       "      <td>...</td>\n",
       "      <td>...</td>\n",
       "      <td>...</td>\n",
       "      <td>...</td>\n",
       "      <td>...</td>\n",
       "      <td>...</td>\n",
       "      <td>...</td>\n",
       "      <td>...</td>\n",
       "      <td>...</td>\n",
       "      <td>...</td>\n",
       "      <td>...</td>\n",
       "      <td>...</td>\n",
       "      <td>...</td>\n",
       "      <td>...</td>\n",
       "      <td>...</td>\n",
       "      <td>...</td>\n",
       "      <td>...</td>\n",
       "      <td>...</td>\n",
       "      <td>...</td>\n",
       "      <td>...</td>\n",
       "      <td>...</td>\n",
       "    </tr>\n",
       "    <tr>\n",
       "      <th>9404</th>\n",
       "      <td>2018</td>\n",
       "      <td>6</td>\n",
       "      <td>45</td>\n",
       "      <td>0.0</td>\n",
       "      <td>0.0</td>\n",
       "      <td>0.0</td>\n",
       "      <td>1.0</td>\n",
       "      <td>1.0</td>\n",
       "      <td>1.0</td>\n",
       "      <td>1.0</td>\n",
       "      <td>...</td>\n",
       "      <td>0.0</td>\n",
       "      <td>0.0</td>\n",
       "      <td>0.0</td>\n",
       "      <td>0.0</td>\n",
       "      <td>0.0</td>\n",
       "      <td>1.0</td>\n",
       "      <td>0.0</td>\n",
       "      <td>0.0</td>\n",
       "      <td>0.0</td>\n",
       "      <td>0.0</td>\n",
       "    </tr>\n",
       "    <tr>\n",
       "      <th>9405</th>\n",
       "      <td>2018</td>\n",
       "      <td>1</td>\n",
       "      <td>20</td>\n",
       "      <td>0.0</td>\n",
       "      <td>0.0</td>\n",
       "      <td>1.0</td>\n",
       "      <td>1.0</td>\n",
       "      <td>1.0</td>\n",
       "      <td>0.0</td>\n",
       "      <td>1.0</td>\n",
       "      <td>...</td>\n",
       "      <td>0.0</td>\n",
       "      <td>0.0</td>\n",
       "      <td>0.0</td>\n",
       "      <td>0.0</td>\n",
       "      <td>0.0</td>\n",
       "      <td>0.0</td>\n",
       "      <td>0.0</td>\n",
       "      <td>1.0</td>\n",
       "      <td>0.0</td>\n",
       "      <td>0.0</td>\n",
       "    </tr>\n",
       "    <tr>\n",
       "      <th>9406</th>\n",
       "      <td>2017</td>\n",
       "      <td>3</td>\n",
       "      <td>22</td>\n",
       "      <td>0.0</td>\n",
       "      <td>1.0</td>\n",
       "      <td>0.0</td>\n",
       "      <td>1.0</td>\n",
       "      <td>0.0</td>\n",
       "      <td>0.0</td>\n",
       "      <td>0.0</td>\n",
       "      <td>...</td>\n",
       "      <td>0.0</td>\n",
       "      <td>0.0</td>\n",
       "      <td>0.0</td>\n",
       "      <td>0.0</td>\n",
       "      <td>0.0</td>\n",
       "      <td>0.0</td>\n",
       "      <td>0.0</td>\n",
       "      <td>0.0</td>\n",
       "      <td>0.0</td>\n",
       "      <td>1.0</td>\n",
       "    </tr>\n",
       "    <tr>\n",
       "      <th>9407</th>\n",
       "      <td>2018</td>\n",
       "      <td>9</td>\n",
       "      <td>34</td>\n",
       "      <td>0.0</td>\n",
       "      <td>0.0</td>\n",
       "      <td>1.0</td>\n",
       "      <td>1.0</td>\n",
       "      <td>1.0</td>\n",
       "      <td>1.0</td>\n",
       "      <td>0.0</td>\n",
       "      <td>...</td>\n",
       "      <td>0.0</td>\n",
       "      <td>0.0</td>\n",
       "      <td>0.0</td>\n",
       "      <td>1.0</td>\n",
       "      <td>0.0</td>\n",
       "      <td>0.0</td>\n",
       "      <td>0.0</td>\n",
       "      <td>0.0</td>\n",
       "      <td>0.0</td>\n",
       "      <td>0.0</td>\n",
       "    </tr>\n",
       "    <tr>\n",
       "      <th>9408</th>\n",
       "      <td>2018</td>\n",
       "      <td>3</td>\n",
       "      <td>30</td>\n",
       "      <td>0.0</td>\n",
       "      <td>0.0</td>\n",
       "      <td>0.0</td>\n",
       "      <td>0.0</td>\n",
       "      <td>1.0</td>\n",
       "      <td>0.0</td>\n",
       "      <td>1.0</td>\n",
       "      <td>...</td>\n",
       "      <td>0.0</td>\n",
       "      <td>0.0</td>\n",
       "      <td>0.0</td>\n",
       "      <td>0.0</td>\n",
       "      <td>0.0</td>\n",
       "      <td>0.0</td>\n",
       "      <td>0.0</td>\n",
       "      <td>0.0</td>\n",
       "      <td>0.0</td>\n",
       "      <td>1.0</td>\n",
       "    </tr>\n",
       "  </tbody>\n",
       "</table>\n",
       "<p>9409 rows × 32 columns</p>\n",
       "</div>"
      ],
      "text/plain": [
       "      year  household_size  age_of_respondent  country_Rwanda  \\\n",
       "0     2018               4                 28             0.0   \n",
       "1     2016              10                 56             1.0   \n",
       "2     2016               2                 52             1.0   \n",
       "3     2016               4                 28             1.0   \n",
       "4     2016               4                 29             1.0   \n",
       "...    ...             ...                ...             ...   \n",
       "9404  2018               6                 45             0.0   \n",
       "9405  2018               1                 20             0.0   \n",
       "9406  2017               3                 22             0.0   \n",
       "9407  2018               9                 34             0.0   \n",
       "9408  2018               3                 30             0.0   \n",
       "\n",
       "      country_Tanzania  country_Uganda  location_type_Urban  \\\n",
       "0                  0.0             1.0                  0.0   \n",
       "1                  0.0             0.0                  0.0   \n",
       "2                  0.0             0.0                  0.0   \n",
       "3                  0.0             0.0                  0.0   \n",
       "4                  0.0             0.0                  0.0   \n",
       "...                ...             ...                  ...   \n",
       "9404               0.0             0.0                  1.0   \n",
       "9405               0.0             1.0                  1.0   \n",
       "9406               1.0             0.0                  1.0   \n",
       "9407               0.0             1.0                  1.0   \n",
       "9408               0.0             0.0                  0.0   \n",
       "\n",
       "      cellphone_access_Yes  gender_of_respondent_Male  \\\n",
       "0                      0.0                        0.0   \n",
       "1                      1.0                        1.0   \n",
       "2                      1.0                        0.0   \n",
       "3                      1.0                        1.0   \n",
       "4                      1.0                        0.0   \n",
       "...                    ...                        ...   \n",
       "9404                   1.0                        1.0   \n",
       "9405                   1.0                        0.0   \n",
       "9406                   0.0                        0.0   \n",
       "9407                   1.0                        1.0   \n",
       "9408                   1.0                        0.0   \n",
       "\n",
       "      relationship_with_head_Head of Household  ...  \\\n",
       "0                                          0.0  ...   \n",
       "1                                          1.0  ...   \n",
       "2                                          0.0  ...   \n",
       "3                                          1.0  ...   \n",
       "4                                          0.0  ...   \n",
       "...                                        ...  ...   \n",
       "9404                                       1.0  ...   \n",
       "9405                                       1.0  ...   \n",
       "9406                                       0.0  ...   \n",
       "9407                                       0.0  ...   \n",
       "9408                                       1.0  ...   \n",
       "\n",
       "      education_level_Vocational/Specialised training  \\\n",
       "0                                                 0.0   \n",
       "1                                                 1.0   \n",
       "2                                                 0.0   \n",
       "3                                                 0.0   \n",
       "4                                                 0.0   \n",
       "...                                               ...   \n",
       "9404                                              0.0   \n",
       "9405                                              0.0   \n",
       "9406                                              0.0   \n",
       "9407                                              0.0   \n",
       "9408                                              0.0   \n",
       "\n",
       "      job_type_Farming and Fishing  job_type_Formally employed Government  \\\n",
       "0                              0.0                                    0.0   \n",
       "1                              1.0                                    0.0   \n",
       "2                              0.0                                    0.0   \n",
       "3                              1.0                                    0.0   \n",
       "4                              1.0                                    0.0   \n",
       "...                            ...                                    ...   \n",
       "9404                           0.0                                    0.0   \n",
       "9405                           0.0                                    0.0   \n",
       "9406                           0.0                                    0.0   \n",
       "9407                           0.0                                    0.0   \n",
       "9408                           0.0                                    0.0   \n",
       "\n",
       "      job_type_Formally employed Private  job_type_Government Dependent  \\\n",
       "0                                    0.0                            0.0   \n",
       "1                                    0.0                            0.0   \n",
       "2                                    0.0                            0.0   \n",
       "3                                    0.0                            0.0   \n",
       "4                                    0.0                            0.0   \n",
       "...                                  ...                            ...   \n",
       "9404                                 0.0                            0.0   \n",
       "9405                                 0.0                            0.0   \n",
       "9406                                 0.0                            0.0   \n",
       "9407                                 1.0                            0.0   \n",
       "9408                                 0.0                            0.0   \n",
       "\n",
       "      job_type_Informally employed  job_type_No Income  job_type_Other Income  \\\n",
       "0                              0.0                 0.0                    0.0   \n",
       "1                              0.0                 0.0                    0.0   \n",
       "2                              1.0                 0.0                    0.0   \n",
       "3                              0.0                 0.0                    0.0   \n",
       "4                              0.0                 0.0                    0.0   \n",
       "...                            ...                 ...                    ...   \n",
       "9404                           1.0                 0.0                    0.0   \n",
       "9405                           0.0                 0.0                    1.0   \n",
       "9406                           0.0                 0.0                    0.0   \n",
       "9407                           0.0                 0.0                    0.0   \n",
       "9408                           0.0                 0.0                    0.0   \n",
       "\n",
       "      job_type_Remittance Dependent  job_type_Self employed  \n",
       "0                               0.0                     1.0  \n",
       "1                               0.0                     0.0  \n",
       "2                               0.0                     0.0  \n",
       "3                               0.0                     0.0  \n",
       "4                               0.0                     0.0  \n",
       "...                             ...                     ...  \n",
       "9404                            0.0                     0.0  \n",
       "9405                            0.0                     0.0  \n",
       "9406                            0.0                     1.0  \n",
       "9407                            0.0                     0.0  \n",
       "9408                            0.0                     1.0  \n",
       "\n",
       "[9409 rows x 32 columns]"
      ]
     },
     "execution_count": 19,
     "metadata": {},
     "output_type": "execute_result"
    }
   ],
   "source": [
    "X_train"
   ]
  },
  {
   "cell_type": "code",
   "execution_count": 20,
   "id": "035fc47a",
   "metadata": {
    "execution": {
     "iopub.execute_input": "2022-10-22T02:13:29.888238Z",
     "iopub.status.busy": "2022-10-22T02:13:29.887854Z",
     "iopub.status.idle": "2022-10-22T02:13:29.893499Z",
     "shell.execute_reply": "2022-10-22T02:13:29.892586Z"
    },
    "papermill": {
     "duration": 0.021397,
     "end_time": "2022-10-22T02:13:29.895580",
     "exception": false,
     "start_time": "2022-10-22T02:13:29.874183",
     "status": "completed"
    },
    "tags": []
   },
   "outputs": [],
   "source": [
    "y_test = y_test.map(d_class)"
   ]
  },
  {
   "cell_type": "code",
   "execution_count": 21,
   "id": "19212458",
   "metadata": {
    "execution": {
     "iopub.execute_input": "2022-10-22T02:13:29.921847Z",
     "iopub.status.busy": "2022-10-22T02:13:29.920927Z",
     "iopub.status.idle": "2022-10-22T02:13:29.939543Z",
     "shell.execute_reply": "2022-10-22T02:13:29.938688Z"
    },
    "papermill": {
     "duration": 0.034072,
     "end_time": "2022-10-22T02:13:29.941858",
     "exception": false,
     "start_time": "2022-10-22T02:13:29.907786",
     "status": "completed"
    },
    "tags": []
   },
   "outputs": [],
   "source": [
    "res_ohe_test = ohe.transform(X_test[cols_enc]).todense()\n",
    "X_test = X_test.drop(columns=cols_enc)\n",
    "X_test = pd.concat([X_test.reset_index(drop=True), pd.DataFrame(res_ohe_test, columns=ohe.get_feature_names_out()).reset_index(drop=True)], axis=1)"
   ]
  },
  {
   "cell_type": "code",
   "execution_count": 22,
   "id": "28f39b9e",
   "metadata": {
    "execution": {
     "iopub.execute_input": "2022-10-22T02:13:29.968510Z",
     "iopub.status.busy": "2022-10-22T02:13:29.967751Z",
     "iopub.status.idle": "2022-10-22T02:13:30.019944Z",
     "shell.execute_reply": "2022-10-22T02:13:30.019083Z"
    },
    "papermill": {
     "duration": 0.068172,
     "end_time": "2022-10-22T02:13:30.022214",
     "exception": false,
     "start_time": "2022-10-22T02:13:29.954042",
     "status": "completed"
    },
    "tags": []
   },
   "outputs": [
    {
     "data": {
      "text/plain": [
       "0.8534330617779646"
      ]
     },
     "execution_count": 22,
     "metadata": {},
     "output_type": "execute_result"
    }
   ],
   "source": [
    "from sklearn.metrics import f1_score\n",
    "\n",
    "f1_score(y_true=y_test, y_pred=rf.predict(X_test), average='weighted')"
   ]
  },
  {
   "cell_type": "code",
   "execution_count": 23,
   "id": "91283050",
   "metadata": {
    "execution": {
     "iopub.execute_input": "2022-10-22T02:13:30.048211Z",
     "iopub.status.busy": "2022-10-22T02:13:30.047872Z",
     "iopub.status.idle": "2022-10-22T02:13:30.052263Z",
     "shell.execute_reply": "2022-10-22T02:13:30.051357Z"
    },
    "papermill": {
     "duration": 0.019791,
     "end_time": "2022-10-22T02:13:30.054411",
     "exception": false,
     "start_time": "2022-10-22T02:13:30.034620",
     "status": "completed"
    },
    "tags": []
   },
   "outputs": [],
   "source": [
    "## All dataset"
   ]
  },
  {
   "cell_type": "code",
   "execution_count": 24,
   "id": "f4289bc2",
   "metadata": {
    "execution": {
     "iopub.execute_input": "2022-10-22T02:13:30.080721Z",
     "iopub.status.busy": "2022-10-22T02:13:30.080328Z",
     "iopub.status.idle": "2022-10-22T02:13:30.140194Z",
     "shell.execute_reply": "2022-10-22T02:13:30.139229Z"
    },
    "papermill": {
     "duration": 0.076085,
     "end_time": "2022-10-22T02:13:30.142859",
     "exception": false,
     "start_time": "2022-10-22T02:13:30.066774",
     "status": "completed"
    },
    "tags": []
   },
   "outputs": [],
   "source": [
    "ohe = OneHotEncoder(drop='first')\n",
    "res_ohe_test = ohe.fit_transform(df_pp[cols_enc]).todense()\n",
    "\n",
    "df_pp = df_pp.drop(columns=cols_enc)\n",
    "df_pp = pd.concat([df_pp.reset_index(drop=True), pd.DataFrame(res_ohe_test, columns=ohe.get_feature_names_out()).reset_index(drop=True)], axis=1)\n",
    "\n",
    "df_pp['bank_account'] = df_pp['bank_account'].map(d_class)"
   ]
  },
  {
   "cell_type": "code",
   "execution_count": 25,
   "id": "ae4eece6",
   "metadata": {
    "execution": {
     "iopub.execute_input": "2022-10-22T02:13:30.169150Z",
     "iopub.status.busy": "2022-10-22T02:13:30.168781Z",
     "iopub.status.idle": "2022-10-22T02:13:30.846625Z",
     "shell.execute_reply": "2022-10-22T02:13:30.845619Z"
    },
    "papermill": {
     "duration": 0.693658,
     "end_time": "2022-10-22T02:13:30.848982",
     "exception": false,
     "start_time": "2022-10-22T02:13:30.155324",
     "status": "completed"
    },
    "tags": []
   },
   "outputs": [
    {
     "data": {
      "text/plain": [
       "RandomForestClassifier(max_depth=8, random_state=42)"
      ]
     },
     "execution_count": 25,
     "metadata": {},
     "output_type": "execute_result"
    }
   ],
   "source": [
    "rf.fit(df_pp.drop(columns=['bank_account']), df_pp['bank_account'])"
   ]
  },
  {
   "cell_type": "markdown",
   "id": "ff2df287",
   "metadata": {
    "papermill": {
     "duration": 0.012041,
     "end_time": "2022-10-22T02:13:30.873548",
     "exception": false,
     "start_time": "2022-10-22T02:13:30.861507",
     "status": "completed"
    },
    "tags": []
   },
   "source": [
    "## Preparing submission"
   ]
  },
  {
   "cell_type": "code",
   "execution_count": 26,
   "id": "428aef2e",
   "metadata": {
    "execution": {
     "iopub.execute_input": "2022-10-22T02:13:30.899971Z",
     "iopub.status.busy": "2022-10-22T02:13:30.899582Z",
     "iopub.status.idle": "2022-10-22T02:13:31.022724Z",
     "shell.execute_reply": "2022-10-22T02:13:31.020983Z"
    },
    "papermill": {
     "duration": 0.139061,
     "end_time": "2022-10-22T02:13:31.024808",
     "exception": true,
     "start_time": "2022-10-22T02:13:30.885747",
     "status": "failed"
    },
    "tags": []
   },
   "outputs": [
    {
     "ename": "NameError",
     "evalue": "name 'df_test' is not defined",
     "output_type": "error",
     "traceback": [
      "\u001b[0;31m---------------------------------------------------------------------------\u001b[0m",
      "\u001b[0;31mNameError\u001b[0m                                 Traceback (most recent call last)",
      "\u001b[0;32m/tmp/ipykernel_19/1186045382.py\u001b[0m in \u001b[0;36m<module>\u001b[0;34m\u001b[0m\n\u001b[0;32m----> 1\u001b[0;31m \u001b[0mdf_test\u001b[0m\u001b[0;34m\u001b[0m\u001b[0;34m\u001b[0m\u001b[0m\n\u001b[0m",
      "\u001b[0;31mNameError\u001b[0m: name 'df_test' is not defined"
     ]
    }
   ],
   "source": [
    "df_test"
   ]
  },
  {
   "cell_type": "code",
   "execution_count": null,
   "id": "3d56c221",
   "metadata": {
    "execution": {
     "iopub.execute_input": "2022-10-22T02:02:04.603093Z",
     "iopub.status.busy": "2022-10-22T02:02:04.602656Z",
     "iopub.status.idle": "2022-10-22T02:02:04.699411Z",
     "shell.execute_reply": "2022-10-22T02:02:04.697811Z",
     "shell.execute_reply.started": "2022-10-22T02:02:04.603061Z"
    },
    "papermill": {
     "duration": null,
     "end_time": null,
     "exception": null,
     "start_time": null,
     "status": "pending"
    },
    "tags": []
   },
   "outputs": [],
   "source": [
    "%%time\n",
    "\n",
    "df_test = pd.read_csv('/kaggle/input/inclusao-financeira-na-africa/test.csv')\n",
    "df_test.head()\n",
    "\n",
    "df_test = df_test.drop(columns=cols_remove)#remove colunas\n",
    "\n",
    "#df_test['bank_account'] = df_test['bank_account'].map(d_class) #mapeamento class\n",
    "\n",
    "res_ohe_test = ohe.transform(df_test[cols_enc]).todense() #ohe\n",
    "\n",
    "df_test = df_test.drop(columns=cols_enc)\n",
    "df_test = pd.concat([df_test.reset_index(drop=True), pd.DataFrame(res_ohe_test, columns=ohe.get_feature_names_out()).reset_index(drop=True)], axis=1)"
   ]
  },
  {
   "cell_type": "code",
   "execution_count": null,
   "id": "5fe87745",
   "metadata": {
    "execution": {
     "iopub.execute_input": "2022-10-22T02:08:39.333397Z",
     "iopub.status.busy": "2022-10-22T02:08:39.333008Z",
     "iopub.status.idle": "2022-10-22T02:08:39.525506Z",
     "shell.execute_reply": "2022-10-22T02:08:39.523901Z",
     "shell.execute_reply.started": "2022-10-22T02:08:39.333364Z"
    },
    "papermill": {
     "duration": null,
     "end_time": null,
     "exception": null,
     "start_time": null,
     "status": "pending"
    },
    "tags": []
   },
   "outputs": [],
   "source": [
    "df_ss = pd.read_csv('/kaggle/input/inclusao-financeira-na-africa/test.csv')\n",
    "preds = rf.predict(df_test)\n"
   ]
  },
  {
   "cell_type": "code",
   "execution_count": null,
   "id": "01088151",
   "metadata": {
    "execution": {
     "iopub.execute_input": "2022-10-22T02:08:44.866325Z",
     "iopub.status.busy": "2022-10-22T02:08:44.865850Z",
     "iopub.status.idle": "2022-10-22T02:08:44.878255Z",
     "shell.execute_reply": "2022-10-22T02:08:44.877018Z",
     "shell.execute_reply.started": "2022-10-22T02:08:44.866288Z"
    },
    "papermill": {
     "duration": null,
     "end_time": null,
     "exception": null,
     "start_time": null,
     "status": "pending"
    },
    "tags": []
   },
   "outputs": [],
   "source": [
    "d_class = {\n",
    "    'No': 0,\n",
    "    'Yes': 1\n",
    "}\n",
    "\n",
    "preds = pd.Series(preds).map({v: k for k, v in d_class.items()})\n",
    "preds"
   ]
  },
  {
   "cell_type": "code",
   "execution_count": null,
   "id": "191d3d0c",
   "metadata": {
    "execution": {
     "iopub.execute_input": "2022-10-22T02:08:47.221184Z",
     "iopub.status.busy": "2022-10-22T02:08:47.219417Z",
     "iopub.status.idle": "2022-10-22T02:08:47.251901Z",
     "shell.execute_reply": "2022-10-22T02:08:47.250630Z",
     "shell.execute_reply.started": "2022-10-22T02:08:47.221117Z"
    },
    "papermill": {
     "duration": null,
     "end_time": null,
     "exception": null,
     "start_time": null,
     "status": "pending"
    },
    "tags": []
   },
   "outputs": [],
   "source": [
    "df_ss['bank_account'] = preds\n",
    "df_ss[['uid', 'bank_account']].to_csv('submission.csv', index=False)"
   ]
  },
  {
   "cell_type": "code",
   "execution_count": null,
   "id": "e88a8cfd",
   "metadata": {
    "papermill": {
     "duration": null,
     "end_time": null,
     "exception": null,
     "start_time": null,
     "status": "pending"
    },
    "tags": []
   },
   "outputs": [],
   "source": [
    "### Ideias de melhorias\n",
    "    ### 1. Testar novas formas de encoding (1d)\n",
    "    ### 2. Feature engineering (2d)\n",
    "    ### 3. Hyper-parameter tuning (1d)\n",
    "    ### 4. Combinação de modelos"
   ]
  },
  {
   "cell_type": "code",
   "execution_count": null,
   "id": "359d621f",
   "metadata": {
    "papermill": {
     "duration": null,
     "end_time": null,
     "exception": null,
     "start_time": null,
     "status": "pending"
    },
    "tags": []
   },
   "outputs": [],
   "source": []
  },
  {
   "cell_type": "code",
   "execution_count": null,
   "id": "feb87013",
   "metadata": {
    "papermill": {
     "duration": null,
     "end_time": null,
     "exception": null,
     "start_time": null,
     "status": "pending"
    },
    "tags": []
   },
   "outputs": [],
   "source": []
  }
 ],
 "metadata": {
  "kernelspec": {
   "display_name": "Python 3",
   "language": "python",
   "name": "python3"
  },
  "language_info": {
   "codemirror_mode": {
    "name": "ipython",
    "version": 3
   },
   "file_extension": ".py",
   "mimetype": "text/x-python",
   "name": "python",
   "nbconvert_exporter": "python",
   "pygments_lexer": "ipython3",
   "version": "3.7.12"
  },
  "papermill": {
   "default_parameters": {},
   "duration": 21.064491,
   "end_time": "2022-10-22T02:13:33.660618",
   "environment_variables": {},
   "exception": true,
   "input_path": "__notebook__.ipynb",
   "output_path": "__notebook__.ipynb",
   "parameters": {},
   "start_time": "2022-10-22T02:13:12.596127",
   "version": "2.3.4"
  }
 },
 "nbformat": 4,
 "nbformat_minor": 5
}
