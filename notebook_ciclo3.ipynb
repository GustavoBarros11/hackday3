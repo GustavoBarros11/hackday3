{
 "cells": [
  {
   "cell_type": "markdown",
   "metadata": {},
   "source": [
    "# **Hackday 2° Edicao - Classificação**"
   ]
  },
  {
   "cell_type": "markdown",
   "metadata": {
    "heading_collapsed": true
   },
   "source": [
    "# 0.0. IMPORTS"
   ]
  },
  {
   "cell_type": "code",
   "execution_count": 42,
   "metadata": {
    "ExecuteTime": {
     "end_time": "2020-02-25T20:45:31.049280Z",
     "start_time": "2020-02-25T20:45:28.927236Z"
    },
    "hidden": true
   },
   "outputs": [],
   "source": [
    "import math\n",
    "import numpy  as np\n",
    "import pandas as pd\n",
    "import random\n",
    "import pickle\n",
    "import requests\n",
    "import warnings\n",
    "import inflection\n",
    "import seaborn as sns\n",
    "import xgboost as xgb\n",
    "\n",
    "from scipy                 import stats  as ss\n",
    "from boruta                import BorutaPy\n",
    "from matplotlib            import pyplot as plt\n",
    "from IPython.display       import Image\n",
    "from IPython.core.display  import HTML\n",
    "\n",
    "from sklearn.metrics       import mean_absolute_error, mean_squared_error, f1_score\n",
    "from sklearn.ensemble      import RandomForestClassifier\n",
    "from sklearn.linear_model  import LinearRegression, Lasso\n",
    "from sklearn.preprocessing import StandardScaler, RobustScaler, MinMaxScaler, LabelEncoder\n",
    "import sklearn.model_selection as ms\n",
    "from xgboost import XGBClassifier\n",
    "\n",
    "warnings.filterwarnings( 'ignore' )"
   ]
  },
  {
   "cell_type": "markdown",
   "metadata": {
    "heading_collapsed": true,
    "hidden": true
   },
   "source": [
    "## 0.1. Helper Functions"
   ]
  },
  {
   "cell_type": "code",
   "execution_count": 2,
   "metadata": {
    "ExecuteTime": {
     "end_time": "2020-02-25T20:45:31.223550Z",
     "start_time": "2020-02-25T20:45:31.053473Z"
    },
    "hidden": true
   },
   "outputs": [],
   "source": [
    "def cross_validation( x_training, kfold, model_name, model, verbose=False ):\n",
    "    mae_list = []\n",
    "    mape_list = []\n",
    "    rmse_list = []\n",
    "    for k in reversed( range( 1, kfold+1 ) ):\n",
    "        if verbose:\n",
    "            print( '\\nKFold Number: {}'.format( k ) )\n",
    "        # start and end date for validation \n",
    "        validation_start_date = x_training['date'].max() - datetime.timedelta( days=k*6*7)\n",
    "        validation_end_date = x_training['date'].max() - datetime.timedelta( days=(k-1)*6*7)\n",
    "\n",
    "        # filtering dataset\n",
    "        training = x_training[x_training['date'] < validation_start_date]\n",
    "        validation = x_training[(x_training['date'] >= validation_start_date) & (x_training['date'] <= validation_end_date)]\n",
    "\n",
    "        # training and validation dataset\n",
    "        # training\n",
    "        xtraining = training.drop( ['date', 'sales'], axis=1 ) \n",
    "        ytraining = training['sales']\n",
    "\n",
    "        # validation\n",
    "        xvalidation = validation.drop( ['date', 'sales'], axis=1 )\n",
    "        yvalidation = validation['sales']\n",
    "\n",
    "        # model\n",
    "        m = model.fit( xtraining, ytraining )\n",
    "\n",
    "        # prediction\n",
    "        yhat = m.predict( xvalidation )\n",
    "\n",
    "        # performance\n",
    "        m_result = ml_error( model_name, np.expm1( yvalidation ), np.expm1( yhat ) )\n",
    "\n",
    "        # store performance of each kfold iteration\n",
    "        mae_list.append(  m_result['MAE'] )\n",
    "        mape_list.append( m_result['MAPE'] )\n",
    "        rmse_list.append( m_result['RMSE'] )\n",
    "\n",
    "    return pd.DataFrame( {'Model Name': model_name,\n",
    "                          'MAE CV': np.round( np.mean( mae_list ), 2 ).astype( str ) + ' +/- ' + np.round( np.std( mae_list ), 2 ).astype( str ),\n",
    "                          'MAPE CV': np.round( np.mean( mape_list ), 2 ).astype( str ) + ' +/- ' + np.round( np.std( mape_list ), 2 ).astype( str ),\n",
    "                          'RMSE CV': np.round( np.mean( rmse_list ), 2 ).astype( str ) + ' +/- ' + np.round( np.std( rmse_list ), 2 ).astype( str ) }, index=[0] )\n",
    "\n",
    "\n",
    "def mean_percentage_error( y, yhat ):\n",
    "    return np.mean( ( y - yhat ) / y )\n",
    "     \n",
    "    \n",
    "def mean_absolute_percentage_error( y, yhat ):\n",
    "    return np.mean( np.abs( ( y - yhat ) / y ) )\n",
    "\n",
    "    \n",
    "def ml_error( model_name, y, yhat ):\n",
    "    mae = mean_absolute_error( y, yhat )\n",
    "    mape = mean_absolute_percentage_error( y, yhat )\n",
    "    rmse = np.sqrt( mean_squared_error( y, yhat ) )\n",
    "    \n",
    "    return pd.DataFrame( { 'Model Name': model_name, \n",
    "                           'MAE': mae, \n",
    "                           'MAPE': mape,\n",
    "                           'RMSE': rmse }, index=[0] )\n",
    "\n",
    "def cramer_v( x, y ):\n",
    "    cm = pd.crosstab( x, y ).as_matrix()\n",
    "    n = cm.sum()\n",
    "    r, k = cm.shape\n",
    "    \n",
    "    chi2 = ss.chi2_contingency( cm )[0]\n",
    "    chi2corr = max( 0, chi2 - (k-1)*(r-1)/(n-1) )\n",
    "    \n",
    "    kcorr = k - (k-1)**2/(n-1)\n",
    "    rcorr = r - (r-1)**2/(n-1)\n",
    "    \n",
    "    return np.sqrt( (chi2corr/n) / ( min( kcorr-1, rcorr-1 ) ) )\n",
    "\n",
    "\n",
    "\n",
    "def jupyter_settings():\n",
    "    %matplotlib inline\n",
    "    \n",
    "    plt.style.use( 'bmh' )\n",
    "    plt.rcParams['figure.figsize'] = [25, 12]\n",
    "    plt.rcParams['font.size'] = 24\n",
    "    \n",
    "    display( HTML( '<style>.container { width:100% !important; }</style>') )\n",
    "    pd.options.display.max_columns = None\n",
    "    pd.options.display.max_rows = None\n",
    "    pd.set_option( 'display.expand_frame_repr', False )\n",
    "    pd.set_option('display.float_format', '{:.2f}'.format)\n",
    "    \n",
    "    sns.set()"
   ]
  },
  {
   "cell_type": "code",
   "execution_count": 3,
   "metadata": {
    "ExecuteTime": {
     "end_time": "2020-02-25T20:45:31.247491Z",
     "start_time": "2020-02-25T20:45:31.228957Z"
    },
    "hidden": true
   },
   "outputs": [
    {
     "data": {
      "text/html": [
       "<style>.container { width:100% !important; }</style>"
      ],
      "text/plain": [
       "<IPython.core.display.HTML object>"
      ]
     },
     "metadata": {},
     "output_type": "display_data"
    }
   ],
   "source": [
    "jupyter_settings()"
   ]
  },
  {
   "cell_type": "markdown",
   "metadata": {
    "heading_collapsed": true,
    "hidden": true
   },
   "source": [
    "## 0.2. Loading data"
   ]
  },
  {
   "cell_type": "code",
   "execution_count": 4,
   "metadata": {
    "ExecuteTime": {
     "end_time": "2020-02-25T20:45:38.597826Z",
     "start_time": "2020-02-25T20:45:37.131724Z"
    },
    "hidden": true
   },
   "outputs": [],
   "source": [
    "df_train_raw = pd.read_csv( 'data/train.csv' )\n",
    "df_test_raw = pd.read_csv('data/test.csv')"
   ]
  },
  {
   "cell_type": "markdown",
   "metadata": {
    "heading_collapsed": true
   },
   "source": [
    "# 1.0. DESCRICAO DOS DADOS"
   ]
  },
  {
   "cell_type": "code",
   "execution_count": 5,
   "metadata": {
    "ExecuteTime": {
     "end_time": "2020-01-08T11:25:27.679748Z",
     "start_time": "2020-01-08T11:25:27.215031Z"
    },
    "hidden": true
   },
   "outputs": [],
   "source": [
    "df1 = df_train_raw.copy()"
   ]
  },
  {
   "cell_type": "code",
   "execution_count": 6,
   "metadata": {},
   "outputs": [
    {
     "data": {
      "text/html": [
       "<div>\n",
       "<style scoped>\n",
       "    .dataframe tbody tr th:only-of-type {\n",
       "        vertical-align: middle;\n",
       "    }\n",
       "\n",
       "    .dataframe tbody tr th {\n",
       "        vertical-align: top;\n",
       "    }\n",
       "\n",
       "    .dataframe thead th {\n",
       "        text-align: right;\n",
       "    }\n",
       "</style>\n",
       "<table border=\"1\" class=\"dataframe\">\n",
       "  <thead>\n",
       "    <tr style=\"text-align: right;\">\n",
       "      <th></th>\n",
       "      <th>id_cliente</th>\n",
       "      <th>idade</th>\n",
       "      <th>saldo_atual</th>\n",
       "      <th>divida_atual</th>\n",
       "      <th>renda_anual</th>\n",
       "      <th>valor_em_investimentos</th>\n",
       "      <th>taxa_utilizacao_credito</th>\n",
       "      <th>num_emprestimos</th>\n",
       "      <th>num_contas_bancarias</th>\n",
       "      <th>num_cartoes_credito</th>\n",
       "      <th>dias_atraso_dt_venc</th>\n",
       "      <th>num_pgtos_atrasados</th>\n",
       "      <th>num_consultas_credito</th>\n",
       "      <th>taxa_juros</th>\n",
       "      <th>investe_exterior</th>\n",
       "      <th>pessoa_polit_exp</th>\n",
       "      <th>limite_adicional</th>\n",
       "    </tr>\n",
       "  </thead>\n",
       "  <tbody>\n",
       "    <tr>\n",
       "      <th>0</th>\n",
       "      <td>1767</td>\n",
       "      <td>21</td>\n",
       "      <td>278.17</td>\n",
       "      <td>2577.05</td>\n",
       "      <td>24196.90</td>\n",
       "      <td>104.31</td>\n",
       "      <td>31.04</td>\n",
       "      <td>6</td>\n",
       "      <td>5</td>\n",
       "      <td>7</td>\n",
       "      <td>21</td>\n",
       "      <td>14</td>\n",
       "      <td>9</td>\n",
       "      <td>15</td>\n",
       "      <td>Não</td>\n",
       "      <td>Não</td>\n",
       "      <td>Negar</td>\n",
       "    </tr>\n",
       "    <tr>\n",
       "      <th>1</th>\n",
       "      <td>11920</td>\n",
       "      <td>40</td>\n",
       "      <td>268.87</td>\n",
       "      <td>2465.39</td>\n",
       "      <td>19227.38</td>\n",
       "      <td>69.86</td>\n",
       "      <td>36.92</td>\n",
       "      <td>5</td>\n",
       "      <td>8</td>\n",
       "      <td>5</td>\n",
       "      <td>40</td>\n",
       "      <td>23</td>\n",
       "      <td>10</td>\n",
       "      <td>18</td>\n",
       "      <td>Não</td>\n",
       "      <td>Não</td>\n",
       "      <td>Negar</td>\n",
       "    </tr>\n",
       "    <tr>\n",
       "      <th>2</th>\n",
       "      <td>8910</td>\n",
       "      <td>36</td>\n",
       "      <td>446.64</td>\n",
       "      <td>1055.29</td>\n",
       "      <td>42822.28</td>\n",
       "      <td>134.20</td>\n",
       "      <td>34.56</td>\n",
       "      <td>0</td>\n",
       "      <td>3</td>\n",
       "      <td>6</td>\n",
       "      <td>26</td>\n",
       "      <td>13</td>\n",
       "      <td>3</td>\n",
       "      <td>15</td>\n",
       "      <td>Sim</td>\n",
       "      <td>Não</td>\n",
       "      <td>Negar</td>\n",
       "    </tr>\n",
       "    <tr>\n",
       "      <th>3</th>\n",
       "      <td>4964</td>\n",
       "      <td>58</td>\n",
       "      <td>321.14</td>\n",
       "      <td>703.05</td>\n",
       "      <td>51786.83</td>\n",
       "      <td>297.35</td>\n",
       "      <td>31.49</td>\n",
       "      <td>0</td>\n",
       "      <td>3</td>\n",
       "      <td>7</td>\n",
       "      <td>12</td>\n",
       "      <td>7</td>\n",
       "      <td>2</td>\n",
       "      <td>1</td>\n",
       "      <td>Sim</td>\n",
       "      <td>Não</td>\n",
       "      <td>Negar</td>\n",
       "    </tr>\n",
       "    <tr>\n",
       "      <th>4</th>\n",
       "      <td>10100</td>\n",
       "      <td>35</td>\n",
       "      <td>428.72</td>\n",
       "      <td>891.29</td>\n",
       "      <td>44626.85</td>\n",
       "      <td>134.20</td>\n",
       "      <td>28.03</td>\n",
       "      <td>2</td>\n",
       "      <td>8</td>\n",
       "      <td>7</td>\n",
       "      <td>24</td>\n",
       "      <td>10</td>\n",
       "      <td>8</td>\n",
       "      <td>20</td>\n",
       "      <td>Sim</td>\n",
       "      <td>Não</td>\n",
       "      <td>Negar</td>\n",
       "    </tr>\n",
       "  </tbody>\n",
       "</table>\n",
       "</div>"
      ],
      "text/plain": [
       "   id_cliente  idade  saldo_atual  divida_atual  renda_anual  valor_em_investimentos  taxa_utilizacao_credito  num_emprestimos  num_contas_bancarias  num_cartoes_credito  dias_atraso_dt_venc  num_pgtos_atrasados  num_consultas_credito  taxa_juros investe_exterior pessoa_polit_exp limite_adicional\n",
       "0        1767     21       278.17       2577.05     24196.90                  104.31                    31.04                6                     5                    7                   21                   14                      9          15              Não              Não            Negar\n",
       "1       11920     40       268.87       2465.39     19227.38                   69.86                    36.92                5                     8                    5                   40                   23                     10          18              Não              Não            Negar\n",
       "2        8910     36       446.64       1055.29     42822.28                  134.20                    34.56                0                     3                    6                   26                   13                      3          15              Sim              Não            Negar\n",
       "3        4964     58       321.14        703.05     51786.83                  297.35                    31.49                0                     3                    7                   12                    7                      2           1              Sim              Não            Negar\n",
       "4       10100     35       428.72        891.29     44626.85                  134.20                    28.03                2                     8                    7                   24                   10                      8          20              Sim              Não            Negar"
      ]
     },
     "execution_count": 6,
     "metadata": {},
     "output_type": "execute_result"
    }
   ],
   "source": [
    "df1.head()"
   ]
  },
  {
   "cell_type": "markdown",
   "metadata": {
    "ExecuteTime": {
     "end_time": "2019-11-10T11:26:41.736121Z",
     "start_time": "2019-11-10T11:26:41.732986Z"
    },
    "heading_collapsed": true,
    "hidden": true
   },
   "source": [
    "## 1.1. Rename Columns"
   ]
  },
  {
   "cell_type": "code",
   "execution_count": 7,
   "metadata": {
    "ExecuteTime": {
     "end_time": "2020-01-08T11:25:27.697235Z",
     "start_time": "2020-01-08T11:25:27.686305Z"
    },
    "hidden": true
   },
   "outputs": [],
   "source": [
    "# cols_old = df1.columns.values\n",
    "\n",
    "# snakecase = lambda x: inflection.underscore( x )\n",
    "\n",
    "# cols_new = list( map( snakecase, cols_old ) )\n",
    "\n",
    "# # rename\n",
    "# df1.columns = cols_new"
   ]
  },
  {
   "cell_type": "markdown",
   "metadata": {
    "ExecuteTime": {
     "end_time": "2019-11-10T11:26:41.736121Z",
     "start_time": "2019-11-10T11:26:41.732986Z"
    },
    "heading_collapsed": true,
    "hidden": true
   },
   "source": [
    "## 1.2. Data Dimensions"
   ]
  },
  {
   "cell_type": "code",
   "execution_count": 8,
   "metadata": {
    "ExecuteTime": {
     "end_time": "2020-01-08T11:25:27.711998Z",
     "start_time": "2020-01-08T11:25:27.704893Z"
    },
    "hidden": true
   },
   "outputs": [
    {
     "name": "stdout",
     "output_type": "stream",
     "text": [
      "Number of Rows: 9500\n",
      "Number of Cols: 17\n"
     ]
    }
   ],
   "source": [
    "print( 'Number of Rows: {}'.format( df1.shape[0] ) )\n",
    "print( 'Number of Cols: {}'.format( df1.shape[1] ) )"
   ]
  },
  {
   "cell_type": "markdown",
   "metadata": {
    "ExecuteTime": {
     "end_time": "2019-11-10T11:26:41.736121Z",
     "start_time": "2019-11-10T11:26:41.732986Z"
    },
    "heading_collapsed": true,
    "hidden": true
   },
   "source": [
    "## 1.3. Data Types"
   ]
  },
  {
   "cell_type": "code",
   "execution_count": 9,
   "metadata": {
    "ExecuteTime": {
     "end_time": "2020-01-08T11:25:27.937245Z",
     "start_time": "2020-01-08T11:25:27.716659Z"
    },
    "hidden": true
   },
   "outputs": [
    {
     "data": {
      "text/plain": [
       "id_cliente                   int64\n",
       "idade                        int64\n",
       "saldo_atual                float64\n",
       "divida_atual               float64\n",
       "renda_anual                float64\n",
       "valor_em_investimentos     float64\n",
       "taxa_utilizacao_credito    float64\n",
       "num_emprestimos              int64\n",
       "num_contas_bancarias         int64\n",
       "num_cartoes_credito          int64\n",
       "dias_atraso_dt_venc          int64\n",
       "num_pgtos_atrasados          int64\n",
       "num_consultas_credito        int64\n",
       "taxa_juros                   int64\n",
       "investe_exterior            object\n",
       "pessoa_polit_exp            object\n",
       "limite_adicional            object\n",
       "dtype: object"
      ]
     },
     "execution_count": 9,
     "metadata": {},
     "output_type": "execute_result"
    }
   ],
   "source": [
    "df1.dtypes"
   ]
  },
  {
   "cell_type": "markdown",
   "metadata": {
    "ExecuteTime": {
     "end_time": "2019-11-10T11:26:41.736121Z",
     "start_time": "2019-11-10T11:26:41.732986Z"
    },
    "heading_collapsed": true,
    "hidden": true
   },
   "source": [
    "## 1.4. Check NA"
   ]
  },
  {
   "cell_type": "code",
   "execution_count": 10,
   "metadata": {
    "ExecuteTime": {
     "end_time": "2020-01-08T11:25:28.252036Z",
     "start_time": "2020-01-08T11:25:27.943358Z"
    },
    "hidden": true
   },
   "outputs": [
    {
     "data": {
      "text/plain": [
       "id_cliente                 0\n",
       "idade                      0\n",
       "saldo_atual                0\n",
       "divida_atual               0\n",
       "renda_anual                0\n",
       "valor_em_investimentos     0\n",
       "taxa_utilizacao_credito    0\n",
       "num_emprestimos            0\n",
       "num_contas_bancarias       0\n",
       "num_cartoes_credito        0\n",
       "dias_atraso_dt_venc        0\n",
       "num_pgtos_atrasados        0\n",
       "num_consultas_credito      0\n",
       "taxa_juros                 0\n",
       "investe_exterior           0\n",
       "pessoa_polit_exp           0\n",
       "limite_adicional           0\n",
       "dtype: int64"
      ]
     },
     "execution_count": 10,
     "metadata": {},
     "output_type": "execute_result"
    }
   ],
   "source": [
    "df1.isna().sum()"
   ]
  },
  {
   "cell_type": "markdown",
   "metadata": {
    "ExecuteTime": {
     "end_time": "2019-11-10T11:26:41.736121Z",
     "start_time": "2019-11-10T11:26:41.732986Z"
    },
    "heading_collapsed": true,
    "hidden": true
   },
   "source": [
    "## 1.5. Fillout NA"
   ]
  },
  {
   "cell_type": "markdown",
   "metadata": {
    "ExecuteTime": {
     "end_time": "2019-11-10T11:26:41.736121Z",
     "start_time": "2019-11-10T11:26:41.732986Z"
    },
    "heading_collapsed": true,
    "hidden": true
   },
   "source": [
    "## 1.6. Change Data Types"
   ]
  },
  {
   "cell_type": "code",
   "execution_count": 11,
   "metadata": {},
   "outputs": [
    {
     "data": {
      "text/plain": [
       "id_cliente                   int64\n",
       "idade                        int64\n",
       "saldo_atual                float64\n",
       "divida_atual               float64\n",
       "renda_anual                float64\n",
       "valor_em_investimentos     float64\n",
       "taxa_utilizacao_credito    float64\n",
       "num_emprestimos              int64\n",
       "num_contas_bancarias         int64\n",
       "num_cartoes_credito          int64\n",
       "dias_atraso_dt_venc          int64\n",
       "num_pgtos_atrasados          int64\n",
       "num_consultas_credito        int64\n",
       "taxa_juros                   int64\n",
       "investe_exterior            object\n",
       "pessoa_polit_exp            object\n",
       "limite_adicional            object\n",
       "dtype: object"
      ]
     },
     "execution_count": 11,
     "metadata": {},
     "output_type": "execute_result"
    }
   ],
   "source": [
    "df1.dtypes"
   ]
  },
  {
   "cell_type": "markdown",
   "metadata": {
    "ExecuteTime": {
     "end_time": "2019-11-10T11:26:41.736121Z",
     "start_time": "2019-11-10T11:26:41.732986Z"
    },
    "heading_collapsed": true,
    "hidden": true
   },
   "source": [
    "## 1.7. Descriptive Statistics"
   ]
  },
  {
   "cell_type": "code",
   "execution_count": 12,
   "metadata": {
    "ExecuteTime": {
     "end_time": "2020-01-08T11:28:17.789458Z",
     "start_time": "2020-01-08T11:28:17.546967Z"
    },
    "hidden": true
   },
   "outputs": [],
   "source": [
    "num_attributes, cat_attributes = df1.select_dtypes( include=['int64', 'float64'] ), df1.select_dtypes( exclude=['int64', 'float64', 'datetime64[ns]'] )"
   ]
  },
  {
   "cell_type": "markdown",
   "metadata": {
    "ExecuteTime": {
     "end_time": "2019-11-10T11:26:41.736121Z",
     "start_time": "2019-11-10T11:26:41.732986Z"
    },
    "heading_collapsed": true,
    "hidden": true
   },
   "source": [
    "### 1.7.1. Numerical Atributes"
   ]
  },
  {
   "cell_type": "code",
   "execution_count": 13,
   "metadata": {
    "ExecuteTime": {
     "end_time": "2020-01-08T11:28:22.641174Z",
     "start_time": "2020-01-08T11:28:17.796070Z"
    },
    "hidden": true,
    "hide_input": false
   },
   "outputs": [
    {
     "data": {
      "text/html": [
       "<div>\n",
       "<style scoped>\n",
       "    .dataframe tbody tr th:only-of-type {\n",
       "        vertical-align: middle;\n",
       "    }\n",
       "\n",
       "    .dataframe tbody tr th {\n",
       "        vertical-align: top;\n",
       "    }\n",
       "\n",
       "    .dataframe thead th {\n",
       "        text-align: right;\n",
       "    }\n",
       "</style>\n",
       "<table border=\"1\" class=\"dataframe\">\n",
       "  <thead>\n",
       "    <tr style=\"text-align: right;\">\n",
       "      <th></th>\n",
       "      <th>count</th>\n",
       "      <th>mean</th>\n",
       "      <th>std</th>\n",
       "      <th>min</th>\n",
       "      <th>25%</th>\n",
       "      <th>50%</th>\n",
       "      <th>75%</th>\n",
       "      <th>max</th>\n",
       "      <th>skew</th>\n",
       "      <th>kurtosis</th>\n",
       "    </tr>\n",
       "  </thead>\n",
       "  <tbody>\n",
       "    <tr>\n",
       "      <th>id_cliente</th>\n",
       "      <td>9500.00</td>\n",
       "      <td>6210.53</td>\n",
       "      <td>3603.24</td>\n",
       "      <td>1.00</td>\n",
       "      <td>3091.75</td>\n",
       "      <td>6172.50</td>\n",
       "      <td>9320.25</td>\n",
       "      <td>12500.00</td>\n",
       "      <td>0.01</td>\n",
       "      <td>-1.20</td>\n",
       "    </tr>\n",
       "    <tr>\n",
       "      <th>idade</th>\n",
       "      <td>9500.00</td>\n",
       "      <td>126.40</td>\n",
       "      <td>685.04</td>\n",
       "      <td>18.00</td>\n",
       "      <td>28.00</td>\n",
       "      <td>38.00</td>\n",
       "      <td>47.00</td>\n",
       "      <td>8598.00</td>\n",
       "      <td>9.09</td>\n",
       "      <td>87.61</td>\n",
       "    </tr>\n",
       "    <tr>\n",
       "      <th>saldo_atual</th>\n",
       "      <td>9500.00</td>\n",
       "      <td>404.53</td>\n",
       "      <td>217.70</td>\n",
       "      <td>0.09</td>\n",
       "      <td>272.36</td>\n",
       "      <td>337.17</td>\n",
       "      <td>471.26</td>\n",
       "      <td>1602.04</td>\n",
       "      <td>1.62</td>\n",
       "      <td>3.10</td>\n",
       "    </tr>\n",
       "    <tr>\n",
       "      <th>divida_atual</th>\n",
       "      <td>9500.00</td>\n",
       "      <td>1437.09</td>\n",
       "      <td>1156.26</td>\n",
       "      <td>0.23</td>\n",
       "      <td>573.62</td>\n",
       "      <td>1175.73</td>\n",
       "      <td>1963.33</td>\n",
       "      <td>4998.07</td>\n",
       "      <td>1.19</td>\n",
       "      <td>0.85</td>\n",
       "    </tr>\n",
       "    <tr>\n",
       "      <th>renda_anual</th>\n",
       "      <td>9500.00</td>\n",
       "      <td>195037.27</td>\n",
       "      <td>1454273.73</td>\n",
       "      <td>10473.87</td>\n",
       "      <td>26207.90</td>\n",
       "      <td>45991.11</td>\n",
       "      <td>80449.83</td>\n",
       "      <td>23279657.98</td>\n",
       "      <td>11.87</td>\n",
       "      <td>149.39</td>\n",
       "    </tr>\n",
       "    <tr>\n",
       "      <th>valor_em_investimentos</th>\n",
       "      <td>9500.00</td>\n",
       "      <td>612.00</td>\n",
       "      <td>2002.44</td>\n",
       "      <td>0.00</td>\n",
       "      <td>76.08</td>\n",
       "      <td>134.20</td>\n",
       "      <td>249.18</td>\n",
       "      <td>10000.00</td>\n",
       "      <td>4.44</td>\n",
       "      <td>17.87</td>\n",
       "    </tr>\n",
       "    <tr>\n",
       "      <th>taxa_utilizacao_credito</th>\n",
       "      <td>9500.00</td>\n",
       "      <td>32.27</td>\n",
       "      <td>5.11</td>\n",
       "      <td>20.99</td>\n",
       "      <td>28.08</td>\n",
       "      <td>32.26</td>\n",
       "      <td>36.46</td>\n",
       "      <td>49.56</td>\n",
       "      <td>0.04</td>\n",
       "      <td>-0.92</td>\n",
       "    </tr>\n",
       "    <tr>\n",
       "      <th>num_emprestimos</th>\n",
       "      <td>9500.00</td>\n",
       "      <td>10.86</td>\n",
       "      <td>62.56</td>\n",
       "      <td>0.00</td>\n",
       "      <td>2.00</td>\n",
       "      <td>3.00</td>\n",
       "      <td>6.00</td>\n",
       "      <td>1496.00</td>\n",
       "      <td>16.37</td>\n",
       "      <td>310.98</td>\n",
       "    </tr>\n",
       "    <tr>\n",
       "      <th>num_contas_bancarias</th>\n",
       "      <td>9500.00</td>\n",
       "      <td>17.55</td>\n",
       "      <td>120.98</td>\n",
       "      <td>0.00</td>\n",
       "      <td>3.00</td>\n",
       "      <td>6.00</td>\n",
       "      <td>7.00</td>\n",
       "      <td>1779.00</td>\n",
       "      <td>10.88</td>\n",
       "      <td>123.22</td>\n",
       "    </tr>\n",
       "    <tr>\n",
       "      <th>num_cartoes_credito</th>\n",
       "      <td>9500.00</td>\n",
       "      <td>21.43</td>\n",
       "      <td>122.68</td>\n",
       "      <td>1.00</td>\n",
       "      <td>4.00</td>\n",
       "      <td>6.00</td>\n",
       "      <td>7.00</td>\n",
       "      <td>1479.00</td>\n",
       "      <td>8.56</td>\n",
       "      <td>76.79</td>\n",
       "    </tr>\n",
       "    <tr>\n",
       "      <th>dias_atraso_dt_venc</th>\n",
       "      <td>9500.00</td>\n",
       "      <td>20.99</td>\n",
       "      <td>14.80</td>\n",
       "      <td>-5.00</td>\n",
       "      <td>10.00</td>\n",
       "      <td>18.00</td>\n",
       "      <td>28.00</td>\n",
       "      <td>67.00</td>\n",
       "      <td>0.97</td>\n",
       "      <td>0.37</td>\n",
       "    </tr>\n",
       "    <tr>\n",
       "      <th>num_pgtos_atrasados</th>\n",
       "      <td>9500.00</td>\n",
       "      <td>29.83</td>\n",
       "      <td>222.64</td>\n",
       "      <td>0.00</td>\n",
       "      <td>9.00</td>\n",
       "      <td>14.00</td>\n",
       "      <td>18.00</td>\n",
       "      <td>4388.00</td>\n",
       "      <td>14.84</td>\n",
       "      <td>231.49</td>\n",
       "    </tr>\n",
       "    <tr>\n",
       "      <th>num_consultas_credito</th>\n",
       "      <td>9500.00</td>\n",
       "      <td>24.94</td>\n",
       "      <td>183.73</td>\n",
       "      <td>0.00</td>\n",
       "      <td>2.00</td>\n",
       "      <td>4.00</td>\n",
       "      <td>8.00</td>\n",
       "      <td>2589.00</td>\n",
       "      <td>10.24</td>\n",
       "      <td>110.51</td>\n",
       "    </tr>\n",
       "    <tr>\n",
       "      <th>taxa_juros</th>\n",
       "      <td>9500.00</td>\n",
       "      <td>66.62</td>\n",
       "      <td>440.12</td>\n",
       "      <td>1.00</td>\n",
       "      <td>8.00</td>\n",
       "      <td>14.00</td>\n",
       "      <td>20.00</td>\n",
       "      <td>5788.00</td>\n",
       "      <td>9.61</td>\n",
       "      <td>98.26</td>\n",
       "    </tr>\n",
       "  </tbody>\n",
       "</table>\n",
       "</div>"
      ],
      "text/plain": [
       "                          count      mean        std      min      25%      50%      75%         max  skew  kurtosis\n",
       "id_cliente              9500.00   6210.53    3603.24     1.00  3091.75  6172.50  9320.25    12500.00  0.01     -1.20\n",
       "idade                   9500.00    126.40     685.04    18.00    28.00    38.00    47.00     8598.00  9.09     87.61\n",
       "saldo_atual             9500.00    404.53     217.70     0.09   272.36   337.17   471.26     1602.04  1.62      3.10\n",
       "divida_atual            9500.00   1437.09    1156.26     0.23   573.62  1175.73  1963.33     4998.07  1.19      0.85\n",
       "renda_anual             9500.00 195037.27 1454273.73 10473.87 26207.90 45991.11 80449.83 23279657.98 11.87    149.39\n",
       "valor_em_investimentos  9500.00    612.00    2002.44     0.00    76.08   134.20   249.18    10000.00  4.44     17.87\n",
       "taxa_utilizacao_credito 9500.00     32.27       5.11    20.99    28.08    32.26    36.46       49.56  0.04     -0.92\n",
       "num_emprestimos         9500.00     10.86      62.56     0.00     2.00     3.00     6.00     1496.00 16.37    310.98\n",
       "num_contas_bancarias    9500.00     17.55     120.98     0.00     3.00     6.00     7.00     1779.00 10.88    123.22\n",
       "num_cartoes_credito     9500.00     21.43     122.68     1.00     4.00     6.00     7.00     1479.00  8.56     76.79\n",
       "dias_atraso_dt_venc     9500.00     20.99      14.80    -5.00    10.00    18.00    28.00       67.00  0.97      0.37\n",
       "num_pgtos_atrasados     9500.00     29.83     222.64     0.00     9.00    14.00    18.00     4388.00 14.84    231.49\n",
       "num_consultas_credito   9500.00     24.94     183.73     0.00     2.00     4.00     8.00     2589.00 10.24    110.51\n",
       "taxa_juros              9500.00     66.62     440.12     1.00     8.00    14.00    20.00     5788.00  9.61     98.26"
      ]
     },
     "execution_count": 13,
     "metadata": {},
     "output_type": "execute_result"
    }
   ],
   "source": [
    "desc_stats = pd.concat([num_attributes.describe(), pd.DataFrame([num_attributes.skew(), num_attributes.kurtosis()], index=['skew', 'kurtosis'])], axis=0).T\n",
    "desc_stats"
   ]
  },
  {
   "cell_type": "markdown",
   "metadata": {
    "ExecuteTime": {
     "end_time": "2019-11-10T11:26:41.736121Z",
     "start_time": "2019-11-10T11:26:41.732986Z"
    },
    "heading_collapsed": true,
    "hidden": true
   },
   "source": [
    "### 1.7.2. Categorical Atributes"
   ]
  },
  {
   "cell_type": "code",
   "execution_count": 14,
   "metadata": {
    "ExecuteTime": {
     "end_time": "2020-01-08T11:28:24.076642Z",
     "start_time": "2020-01-08T11:28:23.829675Z"
    },
    "hidden": true
   },
   "outputs": [
    {
     "data": {
      "text/plain": [
       "investe_exterior    2\n",
       "pessoa_polit_exp    2\n",
       "limite_adicional    2\n",
       "dtype: int64"
      ]
     },
     "execution_count": 14,
     "metadata": {},
     "output_type": "execute_result"
    }
   ],
   "source": [
    "cat_attributes.apply( lambda x: x.nunique() )"
   ]
  },
  {
   "cell_type": "markdown",
   "metadata": {},
   "source": [
    "Criar boxplots para cada variável categórica X variável target."
   ]
  },
  {
   "cell_type": "code",
   "execution_count": 15,
   "metadata": {
    "ExecuteTime": {
     "end_time": "2020-01-08T11:28:25.410494Z",
     "start_time": "2020-01-08T11:28:24.081464Z"
    },
    "hidden": true
   },
   "outputs": [
    {
     "data": {
      "image/png": "[encoded data removed]",
      "text/plain": [
       "<Figure size 1584x576 with 2 Axes>"
      ]
     },
     "metadata": {},
     "output_type": "display_data"
    }
   ],
   "source": [
    "fig, ax  = plt.subplots(nrows=1, ncols=2, figsize=(22, 8))\n",
    "\n",
    "sns.countplot(x='investe_exterior', hue='limite_adicional', data=df1, ax=ax[0])\n",
    "sns.countplot(x='pessoa_polit_exp', hue='limite_adicional', data=df1, ax=ax[1])\n",
    "\n",
    "plt.show()"
   ]
  },
  {
   "cell_type": "markdown",
   "metadata": {
    "heading_collapsed": true
   },
   "source": [
    "# 2.0. FEATURE ENGINEERING"
   ]
  },
  {
   "cell_type": "code",
   "execution_count": 16,
   "metadata": {
    "ExecuteTime": {
     "end_time": "2020-01-08T11:28:25.536405Z",
     "start_time": "2020-01-08T11:28:25.414860Z"
    },
    "hidden": true
   },
   "outputs": [],
   "source": [
    "df2 = df1.copy()"
   ]
  },
  {
   "cell_type": "markdown",
   "metadata": {
    "heading_collapsed": true,
    "hidden": true
   },
   "source": [
    "## 2.1. Mapa Mental de Hipoteses"
   ]
  },
  {
   "cell_type": "code",
   "execution_count": 17,
   "metadata": {
    "ExecuteTime": {
     "end_time": "2020-01-08T11:28:25.553246Z",
     "start_time": "2020-01-08T11:28:25.540395Z"
    },
    "hidden": true
   },
   "outputs": [],
   "source": [
    "#Image( 'img/MindMapHypothesis.png' )"
   ]
  },
  {
   "cell_type": "markdown",
   "metadata": {
    "heading_collapsed": true,
    "hidden": true
   },
   "source": [
    "## 2.2. Criacao das Hipoteses"
   ]
  },
  {
   "cell_type": "markdown",
   "metadata": {
    "heading_collapsed": true,
    "hidden": true
   },
   "source": [
    "### 2.2.1. Hipoteses *Agente 1*"
   ]
  },
  {
   "cell_type": "markdown",
   "metadata": {
    "hidden": true
   },
   "source": []
  },
  {
   "cell_type": "markdown",
   "metadata": {
    "heading_collapsed": true,
    "hidden": true
   },
   "source": [
    "### 2.2.2. Hipoteses *Agente 2*"
   ]
  },
  {
   "cell_type": "markdown",
   "metadata": {
    "ExecuteTime": {
     "end_time": "2019-11-16T21:22:20.284469Z",
     "start_time": "2019-11-16T21:22:20.236577Z"
    },
    "hidden": true
   },
   "source": []
  },
  {
   "cell_type": "markdown",
   "metadata": {
    "heading_collapsed": true,
    "hidden": true
   },
   "source": [
    "### 2.2.3. Hipoteses *Agente 3*"
   ]
  },
  {
   "cell_type": "markdown",
   "metadata": {
    "ExecuteTime": {
     "end_time": "2019-11-16T21:24:09.377189Z",
     "start_time": "2019-11-16T21:24:09.339135Z"
    },
    "hidden": true
   },
   "source": []
  },
  {
   "cell_type": "markdown",
   "metadata": {
    "heading_collapsed": true,
    "hidden": true
   },
   "source": [
    "## 2.3. Lista Final de Hipóteses"
   ]
  },
  {
   "cell_type": "markdown",
   "metadata": {},
   "source": []
  },
  {
   "cell_type": "markdown",
   "metadata": {
    "heading_collapsed": true,
    "hidden": true
   },
   "source": [
    "## 2.4. Feature Engineering"
   ]
  },
  {
   "cell_type": "code",
   "execution_count": 18,
   "metadata": {},
   "outputs": [
    {
     "name": "stdout",
     "output_type": "stream",
     "text": [
      "id_cliente: 9500\n",
      "idade: 236\n",
      "saldo_atual: 9408\n",
      "divida_atual: 9330\n",
      "renda_anual: 9492\n",
      "valor_em_investimentos: 8623\n",
      "taxa_utilizacao_credito: 9500\n",
      "num_emprestimos: 58\n",
      "num_contas_bancarias: 132\n",
      "num_cartoes_credito: 205\n",
      "dias_atraso_dt_venc: 73\n",
      "num_pgtos_atrasados: 95\n",
      "num_consultas_credito: 154\n",
      "taxa_juros: 205\n",
      "investe_exterior: 2\n",
      "pessoa_polit_exp: 2\n",
      "limite_adicional: 2\n"
     ]
    }
   ],
   "source": [
    "for col in df2.columns:\n",
    "    print(f\"{col}: {df2[col].nunique()}\")"
   ]
  },
  {
   "cell_type": "code",
   "execution_count": 19,
   "metadata": {},
   "outputs": [],
   "source": [
    "# map1 = {\n",
    "#     'Não': 0,\n",
    "#     'Sim': 1\n",
    "# }\n",
    "\n",
    "# df2['investe_exterior'] = df2['investe_exterior'].map(map1)"
   ]
  },
  {
   "cell_type": "code",
   "execution_count": 20,
   "metadata": {},
   "outputs": [],
   "source": [
    "# map2 = {\n",
    "#     'Não': 0,\n",
    "#     'Sim': 1\n",
    "# }\n",
    "\n",
    "# df2['pessoa_polit_exp'] = df2['pessoa_polit_exp'].map(map2)"
   ]
  },
  {
   "cell_type": "code",
   "execution_count": 21,
   "metadata": {
    "ExecuteTime": {
     "end_time": "2020-01-08T11:29:42.472423Z",
     "start_time": "2020-01-08T11:28:25.558653Z"
    },
    "hidden": true
   },
   "outputs": [],
   "source": [
    "# map3 = {\n",
    "#     'Negar': 0,\n",
    "#     'Conceder': 1\n",
    "# }\n",
    "\n",
    "# df2['limite_adicional'] = df2['limite_adicional'].map(map3)"
   ]
  },
  {
   "cell_type": "markdown",
   "metadata": {
    "heading_collapsed": true
   },
   "source": [
    "# 3.0. FILTRAGEM DE VARIÁVEIS"
   ]
  },
  {
   "cell_type": "code",
   "execution_count": 22,
   "metadata": {
    "ExecuteTime": {
     "end_time": "2020-01-08T11:29:42.881713Z",
     "start_time": "2020-01-08T11:29:42.475296Z"
    },
    "hidden": true
   },
   "outputs": [],
   "source": [
    "df3 = df2.copy()"
   ]
  },
  {
   "cell_type": "markdown",
   "metadata": {
    "heading_collapsed": true,
    "hidden": true
   },
   "source": [
    "## 3.1. Filtragem das Linhas\n"
   ]
  },
  {
   "cell_type": "code",
   "execution_count": null,
   "metadata": {
    "ExecuteTime": {
     "end_time": "2020-01-08T11:29:43.097079Z",
     "start_time": "2020-01-08T11:29:42.884453Z"
    },
    "hidden": true
   },
   "outputs": [],
   "source": []
  },
  {
   "cell_type": "markdown",
   "metadata": {
    "heading_collapsed": true,
    "hidden": true
   },
   "source": [
    "## 3.2. Selecao das Colunas"
   ]
  },
  {
   "cell_type": "code",
   "execution_count": 23,
   "metadata": {
    "ExecuteTime": {
     "end_time": "2020-01-08T11:29:43.243109Z",
     "start_time": "2020-01-08T11:29:43.100420Z"
    },
    "hidden": true
   },
   "outputs": [],
   "source": [
    "# cols_drop = []\n",
    "# df3 = df3.drop(columns=cols_drop)"
   ]
  },
  {
   "cell_type": "markdown",
   "metadata": {
    "heading_collapsed": true
   },
   "source": [
    "# 4.0. ANALISE EXPLORATORIA DE DADOS"
   ]
  },
  {
   "cell_type": "code",
   "execution_count": 24,
   "metadata": {
    "ExecuteTime": {
     "end_time": "2020-01-08T11:29:43.308003Z",
     "start_time": "2020-01-08T11:29:43.246115Z"
    },
    "hidden": true
   },
   "outputs": [],
   "source": [
    "df4 = df3.copy()"
   ]
  },
  {
   "cell_type": "markdown",
   "metadata": {
    "heading_collapsed": true,
    "hidden": true
   },
   "source": [
    "## 4.1. Analise Univariada"
   ]
  },
  {
   "cell_type": "markdown",
   "metadata": {
    "heading_collapsed": true,
    "hidden": true,
    "hide_input": true
   },
   "source": [
    "### 4.1.1. Response Variable"
   ]
  },
  {
   "cell_type": "code",
   "execution_count": 25,
   "metadata": {},
   "outputs": [
    {
     "data": {
      "text/plain": [
       "<AxesSubplot:xlabel='limite_adicional', ylabel='count'>"
      ]
     },
     "execution_count": 25,
     "metadata": {},
     "output_type": "execute_result"
    },
    {
     "data": {
      "image/png": "[encoded data removed]",
      "text/plain": [
       "<Figure size 1800x864 with 1 Axes>"
      ]
     },
     "metadata": {},
     "output_type": "display_data"
    }
   ],
   "source": [
    "sns.countplot(x='limite_adicional', data=df4)"
   ]
  },
  {
   "cell_type": "markdown",
   "metadata": {
    "heading_collapsed": true,
    "hidden": true
   },
   "source": [
    "### 4.1.2. Numerical Variable"
   ]
  },
  {
   "cell_type": "code",
   "execution_count": 26,
   "metadata": {
    "ExecuteTime": {
     "end_time": "2020-01-08T11:29:50.257037Z",
     "start_time": "2020-01-08T11:29:44.380842Z"
    },
    "hidden": true,
    "hide_input": true
   },
   "outputs": [
    {
     "data": {
      "image/png": "[encoded data removed]",
      "text/plain": [
       "<Figure size 1800x864 with 16 Axes>"
      ]
     },
     "metadata": {},
     "output_type": "display_data"
    }
   ],
   "source": [
    "num_attributes.hist( bins=25 );"
   ]
  },
  {
   "cell_type": "code",
   "execution_count": 27,
   "metadata": {},
   "outputs": [
    {
     "data": {
      "text/plain": [
       "<AxesSubplot:xlabel='idade'>"
      ]
     },
     "execution_count": 27,
     "metadata": {},
     "output_type": "execute_result"
    },
    {
     "data": {
      "image/png": "[encoded data removed]",
      "text/plain": [
       "<Figure size 1800x864 with 1 Axes>"
      ]
     },
     "metadata": {},
     "output_type": "display_data"
    }
   ],
   "source": [
    "sns.boxplot(df4['idade'])\n"
   ]
  },
  {
   "cell_type": "markdown",
   "metadata": {
    "heading_collapsed": true,
    "hidden": true,
    "hide_input": true
   },
   "source": [
    "### 4.1.3. Categorical Variable"
   ]
  },
  {
   "cell_type": "code",
   "execution_count": 28,
   "metadata": {
    "ExecuteTime": {
     "end_time": "2020-01-08T11:30:12.592471Z",
     "start_time": "2020-01-08T11:29:50.264017Z"
    },
    "hidden": true,
    "hide_input": true
   },
   "outputs": [],
   "source": [
    "# # Printa countplot + kdeplot para cada variável categórica e seus níveis\n",
    "# # cat1\n",
    "# plt.subplot( 3, 2, 1 )\n",
    "# a = df4[df4['cat1'] != 'nvl0']\n",
    "# sns.countplot( a['cat1'] )\n",
    "\n",
    "# plt.subplot( 3, 2, 2 )\n",
    "# sns.kdeplot( df4[df4['cat1'] == 'nvl1']['target_variable'], label='nvl1', shade=True )\n",
    "# sns.kdeplot( df4[df4['cat1'] == 'nvl2']['target_variable'], label='nvl1', shade=True )\n",
    "# sns.kdeplot( df4[df4['cat1'] == 'nvl3']['target_variable'], label='nvl2', shade=True )\n",
    "\n",
    "# # cat2\n",
    "# plt.subplot( 3, 2, 3 )\n",
    "# sns.countplot( df4['cat2'] )\n",
    "\n",
    "# plt.subplot( 3, 2, 4 )\n",
    "# sns.kdeplot( df4[df4['cat2'] == 'nvl1']['target_variable'], label='nvl1', shade=True )\n",
    "# sns.kdeplot( df4[df4['cat2'] == 'nvl2']['target_variable'], label='nvl1', shade=True )\n",
    "# sns.kdeplot( df4[df4['cat2'] == 'nvl3']['target_variable'], label='nvl2', shade=True )\n",
    "\n",
    "# # cat3\n",
    "# plt.subplot( 3, 2, 5 )\n",
    "# sns.countplot( df4['cat3'] )\n",
    "\n",
    "# plt.subplot( 3, 2, 6 )\n",
    "# sns.kdeplot( df4[df4['cat3'] == 'nvl1']['target_variable'], label='nvl1', shade=True )\n",
    "# sns.kdeplot( df4[df4['cat3'] == 'nvl2']['target_variable'], label='nvl1', shade=True )\n",
    "# sns.kdeplot( df4[df4['cat3'] == 'nvl3']['target_variable'], label='nvl2', shade=True )"
   ]
  },
  {
   "cell_type": "markdown",
   "metadata": {
    "heading_collapsed": true,
    "hidden": true
   },
   "source": [
    "## 4.2. Analise Bivariada"
   ]
  },
  {
   "cell_type": "markdown",
   "metadata": {
    "heading_collapsed": true,
    "hidden": true
   },
   "source": [
    "## 4.3. Analise Multivariada"
   ]
  },
  {
   "cell_type": "markdown",
   "metadata": {
    "heading_collapsed": true,
    "hidden": true
   },
   "source": [
    "### 4.3.1. Numerical Attributes"
   ]
  },
  {
   "cell_type": "code",
   "execution_count": 29,
   "metadata": {},
   "outputs": [],
   "source": [
    "num_attributes = df4.select_dtypes(include=['int64', 'float64'])"
   ]
  },
  {
   "cell_type": "code",
   "execution_count": 30,
   "metadata": {
    "ExecuteTime": {
     "end_time": "2020-01-08T11:30:59.271969Z",
     "start_time": "2020-01-08T11:30:56.620359Z"
    },
    "hidden": true,
    "hide_input": true
   },
   "outputs": [
    {
     "data": {
      "image/png": "[encoded data removed]",
      "text/plain": [
       "<Figure size 1800x864 with 2 Axes>"
      ]
     },
     "metadata": {},
     "output_type": "display_data"
    }
   ],
   "source": [
    "correlation = num_attributes.corr( method='pearson' )\n",
    "sns.heatmap( correlation, annot=True );"
   ]
  },
  {
   "cell_type": "markdown",
   "metadata": {
    "heading_collapsed": true
   },
   "source": [
    "# 5.0. DATA PREPARATION"
   ]
  },
  {
   "cell_type": "code",
   "execution_count": 31,
   "metadata": {
    "ExecuteTime": {
     "end_time": "2020-01-11T11:18:43.798074Z",
     "start_time": "2020-01-11T11:18:43.610975Z"
    },
    "hidden": true
   },
   "outputs": [],
   "source": [
    "df5 = df4.copy()"
   ]
  },
  {
   "cell_type": "markdown",
   "metadata": {
    "heading_collapsed": true,
    "hidden": true
   },
   "source": [
    "## 5.1. Normalizacao"
   ]
  },
  {
   "cell_type": "code",
   "execution_count": 32,
   "metadata": {
    "hidden": true
   },
   "outputs": [],
   "source": [
    "ss = StandardScaler()\n",
    "\n",
    "# saldo_autal\n",
    "df5['saldo_atual'] = ss.fit_transform( df5[['saldo_atual']].values )\n",
    "pickle.dump( ss, open( 'parameter/saldo_atual_scaler.pkl', 'wb') )\n",
    "\n",
    "# taxa_utilizacao_credito\n",
    "df5['taxa_utilizacao_credito'] = ss.fit_transform( df5[['taxa_utilizacao_credito']].values )\n",
    "pickle.dump( ss, open( 'parameter/taxa_utilizacao_credito_scaler.pkl', 'wb') )"
   ]
  },
  {
   "cell_type": "markdown",
   "metadata": {
    "heading_collapsed": true,
    "hidden": true
   },
   "source": [
    "## 5.2. Rescaling"
   ]
  },
  {
   "cell_type": "code",
   "execution_count": 33,
   "metadata": {
    "ExecuteTime": {
     "end_time": "2020-01-11T11:18:45.931421Z",
     "start_time": "2020-01-11T11:18:45.438957Z"
    },
    "hidden": true
   },
   "outputs": [],
   "source": [
    "rs = RobustScaler()\n",
    "mms = MinMaxScaler()\n",
    "\n",
    "## Robust Scaler\n",
    "# idade\n",
    "df5['idade'] = rs.fit_transform( df5[['idade']].values )\n",
    "pickle.dump( rs, open( 'parameter/idade_scaler.pkl', 'wb') )\n",
    "\n",
    "# renda_anual\n",
    "df5['renda_anual'] = rs.fit_transform( df5[['renda_anual']].values )\n",
    "pickle.dump( rs, open( 'parameter/renda_anual_scaler.pkl', 'wb') )\n",
    "\n",
    "# valor_em_investimentos\n",
    "df5['valor_em_investimentos'] = rs.fit_transform( df5[['valor_em_investimentos']].values )\n",
    "pickle.dump( rs, open( 'parameter/valor_em_investimentos_scaler.pkl', 'wb') )\n",
    "\n",
    "# num_emprestimos\n",
    "df5['num_emprestimos'] = rs.fit_transform( df5[['num_emprestimos']].values )\n",
    "pickle.dump( rs, open( 'parameter/num_emprestimos_scaler.pkl', 'wb') )\n",
    "\n",
    "# num_contas_bancarias\n",
    "df5['num_contas_bancarias'] = rs.fit_transform( df5[['num_contas_bancarias']].values )\n",
    "pickle.dump( rs, open( 'parameter/num_contas_bancarias_scaler.pkl', 'wb') )\n",
    "\n",
    "# num_cartoes_credito\n",
    "df5['num_cartoes_credito'] = rs.fit_transform( df5[['num_cartoes_credito']].values )\n",
    "pickle.dump( rs, open( 'parameter/num_cartoes_credito_scaler.pkl', 'wb') )\n",
    "\n",
    "# num_pgtos_atrasados\n",
    "df5['num_pgtos_atrasados'] = rs.fit_transform( df5[['num_pgtos_atrasados']].values )\n",
    "pickle.dump( rs, open( 'parameter/num_pgtos_atrasados_scaler.pkl', 'wb') )\n",
    "\n",
    "# num_consultas_credito\n",
    "df5['num_consultas_credito'] = rs.fit_transform( df5[['num_consultas_credito']].values )\n",
    "pickle.dump( rs, open( 'parameter/num_consultas_credito_scaler.pkl', 'wb') )\n",
    "\n",
    "# taxa_juros\n",
    "df5['taxa_juros'] = rs.fit_transform( df5[['taxa_juros']].values )\n",
    "pickle.dump( rs, open( 'parameter/taxa_juros_scaler.pkl', 'wb') )\n",
    "\n",
    "## MinMax Scaler\n",
    "# dias_atraso_dt_venc\n",
    "df5['dias_atraso_dt_venc'] = mms.fit_transform( df5[['dias_atraso_dt_venc']].values )\n",
    "pickle.dump( rs, open( 'parameter/dias_atraso_dt_venc_scaler.pkl', 'wb') )\n",
    "\n",
    "# divida_atual\n",
    "df5['divida_atual'] = mms.fit_transform( df5[['divida_atual']].values )\n",
    "pickle.dump( rs, open( 'parameter/divida_atual_scaler.pkl', 'wb') )"
   ]
  },
  {
   "cell_type": "markdown",
   "metadata": {
    "heading_collapsed": true,
    "hidden": true
   },
   "source": [
    "## 5.3. Transformacao"
   ]
  },
  {
   "cell_type": "markdown",
   "metadata": {
    "heading_collapsed": true,
    "hidden": true
   },
   "source": [
    "### 5.3.1. Encoding"
   ]
  },
  {
   "cell_type": "code",
   "execution_count": 34,
   "metadata": {
    "ExecuteTime": {
     "end_time": "2020-01-11T11:07:11.824502Z",
     "start_time": "2020-01-11T11:07:09.421858Z"
    },
    "hidden": true
   },
   "outputs": [],
   "source": [
    "le_inv_ext = LabelEncoder()\n",
    "le_pes_pol = LabelEncoder()\n",
    "\n",
    "df5['investe_exterior'] = le_inv_ext.fit_transform(df5['investe_exterior'])\n",
    "df5['pessoa_polit_exp'] = le_pes_pol.fit_transform(df5['pessoa_polit_exp'])\n",
    "\n",
    "lim_adi_dict = {'Negar': 0, 'Conceder': 1}\n",
    "df5['limite_adicional'] = df5['limite_adicional'].map(lim_adi_dict)"
   ]
  },
  {
   "cell_type": "markdown",
   "metadata": {
    "heading_collapsed": true,
    "hidden": true
   },
   "source": [
    "### 5.3.2. Response Variable Transformation"
   ]
  },
  {
   "cell_type": "code",
   "execution_count": null,
   "metadata": {
    "ExecuteTime": {
     "end_time": "2020-01-08T11:31:02.335057Z",
     "start_time": "2020-01-08T11:31:02.304060Z"
    },
    "hidden": true
   },
   "outputs": [],
   "source": []
  },
  {
   "cell_type": "markdown",
   "metadata": {
    "heading_collapsed": true,
    "hidden": true
   },
   "source": [
    "### 5.3.3. Nature Transformation"
   ]
  },
  {
   "cell_type": "code",
   "execution_count": null,
   "metadata": {
    "ExecuteTime": {
     "end_time": "2020-01-08T11:31:12.316198Z",
     "start_time": "2020-01-08T11:31:02.339172Z"
    },
    "hidden": true
   },
   "outputs": [],
   "source": []
  },
  {
   "cell_type": "markdown",
   "metadata": {
    "heading_collapsed": true
   },
   "source": [
    "# 6.0. FEATURE SELECTION"
   ]
  },
  {
   "cell_type": "code",
   "execution_count": 35,
   "metadata": {
    "ExecuteTime": {
     "end_time": "2020-01-08T11:31:12.685886Z",
     "start_time": "2020-01-08T11:31:12.318850Z"
    },
    "hidden": true
   },
   "outputs": [],
   "source": [
    "df6 = df5.copy()"
   ]
  },
  {
   "cell_type": "code",
   "execution_count": 36,
   "metadata": {},
   "outputs": [
    {
     "data": {
      "text/html": [
       "<div>\n",
       "<style scoped>\n",
       "    .dataframe tbody tr th:only-of-type {\n",
       "        vertical-align: middle;\n",
       "    }\n",
       "\n",
       "    .dataframe tbody tr th {\n",
       "        vertical-align: top;\n",
       "    }\n",
       "\n",
       "    .dataframe thead th {\n",
       "        text-align: right;\n",
       "    }\n",
       "</style>\n",
       "<table border=\"1\" class=\"dataframe\">\n",
       "  <thead>\n",
       "    <tr style=\"text-align: right;\">\n",
       "      <th></th>\n",
       "      <th>id_cliente</th>\n",
       "      <th>idade</th>\n",
       "      <th>saldo_atual</th>\n",
       "      <th>divida_atual</th>\n",
       "      <th>renda_anual</th>\n",
       "      <th>valor_em_investimentos</th>\n",
       "      <th>taxa_utilizacao_credito</th>\n",
       "      <th>num_emprestimos</th>\n",
       "      <th>num_contas_bancarias</th>\n",
       "      <th>num_cartoes_credito</th>\n",
       "      <th>dias_atraso_dt_venc</th>\n",
       "      <th>num_pgtos_atrasados</th>\n",
       "      <th>num_consultas_credito</th>\n",
       "      <th>taxa_juros</th>\n",
       "      <th>investe_exterior</th>\n",
       "      <th>pessoa_polit_exp</th>\n",
       "      <th>limite_adicional</th>\n",
       "    </tr>\n",
       "  </thead>\n",
       "  <tbody>\n",
       "    <tr>\n",
       "      <th>0</th>\n",
       "      <td>1767</td>\n",
       "      <td>-0.89</td>\n",
       "      <td>-0.58</td>\n",
       "      <td>0.52</td>\n",
       "      <td>-0.40</td>\n",
       "      <td>-0.17</td>\n",
       "      <td>-0.24</td>\n",
       "      <td>0.75</td>\n",
       "      <td>-0.25</td>\n",
       "      <td>0.33</td>\n",
       "      <td>0.36</td>\n",
       "      <td>0.00</td>\n",
       "      <td>0.83</td>\n",
       "      <td>0.08</td>\n",
       "      <td>0</td>\n",
       "      <td>0</td>\n",
       "      <td>0</td>\n",
       "    </tr>\n",
       "    <tr>\n",
       "      <th>1</th>\n",
       "      <td>11920</td>\n",
       "      <td>0.11</td>\n",
       "      <td>-0.62</td>\n",
       "      <td>0.49</td>\n",
       "      <td>-0.49</td>\n",
       "      <td>-0.37</td>\n",
       "      <td>0.91</td>\n",
       "      <td>0.50</td>\n",
       "      <td>0.50</td>\n",
       "      <td>-0.33</td>\n",
       "      <td>0.62</td>\n",
       "      <td>1.00</td>\n",
       "      <td>1.00</td>\n",
       "      <td>0.33</td>\n",
       "      <td>0</td>\n",
       "      <td>0</td>\n",
       "      <td>0</td>\n",
       "    </tr>\n",
       "    <tr>\n",
       "      <th>2</th>\n",
       "      <td>8910</td>\n",
       "      <td>-0.11</td>\n",
       "      <td>0.19</td>\n",
       "      <td>0.21</td>\n",
       "      <td>-0.06</td>\n",
       "      <td>0.00</td>\n",
       "      <td>0.45</td>\n",
       "      <td>-0.75</td>\n",
       "      <td>-0.75</td>\n",
       "      <td>0.00</td>\n",
       "      <td>0.43</td>\n",
       "      <td>-0.11</td>\n",
       "      <td>-0.17</td>\n",
       "      <td>0.08</td>\n",
       "      <td>1</td>\n",
       "      <td>0</td>\n",
       "      <td>0</td>\n",
       "    </tr>\n",
       "    <tr>\n",
       "      <th>3</th>\n",
       "      <td>4964</td>\n",
       "      <td>1.05</td>\n",
       "      <td>-0.38</td>\n",
       "      <td>0.14</td>\n",
       "      <td>0.11</td>\n",
       "      <td>0.94</td>\n",
       "      <td>-0.15</td>\n",
       "      <td>-0.75</td>\n",
       "      <td>-0.75</td>\n",
       "      <td>0.33</td>\n",
       "      <td>0.24</td>\n",
       "      <td>-0.78</td>\n",
       "      <td>-0.33</td>\n",
       "      <td>-1.08</td>\n",
       "      <td>1</td>\n",
       "      <td>0</td>\n",
       "      <td>0</td>\n",
       "    </tr>\n",
       "    <tr>\n",
       "      <th>4</th>\n",
       "      <td>10100</td>\n",
       "      <td>-0.16</td>\n",
       "      <td>0.11</td>\n",
       "      <td>0.18</td>\n",
       "      <td>-0.03</td>\n",
       "      <td>0.00</td>\n",
       "      <td>-0.83</td>\n",
       "      <td>-0.25</td>\n",
       "      <td>0.50</td>\n",
       "      <td>0.33</td>\n",
       "      <td>0.40</td>\n",
       "      <td>-0.44</td>\n",
       "      <td>0.67</td>\n",
       "      <td>0.50</td>\n",
       "      <td>1</td>\n",
       "      <td>0</td>\n",
       "      <td>0</td>\n",
       "    </tr>\n",
       "  </tbody>\n",
       "</table>\n",
       "</div>"
      ],
      "text/plain": [
       "   id_cliente  idade  saldo_atual  divida_atual  renda_anual  valor_em_investimentos  taxa_utilizacao_credito  num_emprestimos  num_contas_bancarias  num_cartoes_credito  dias_atraso_dt_venc  num_pgtos_atrasados  num_consultas_credito  taxa_juros  investe_exterior  pessoa_polit_exp  limite_adicional\n",
       "0        1767  -0.89        -0.58          0.52        -0.40                   -0.17                    -0.24             0.75                 -0.25                 0.33                 0.36                 0.00                   0.83        0.08                 0                 0                 0\n",
       "1       11920   0.11        -0.62          0.49        -0.49                   -0.37                     0.91             0.50                  0.50                -0.33                 0.62                 1.00                   1.00        0.33                 0                 0                 0\n",
       "2        8910  -0.11         0.19          0.21        -0.06                    0.00                     0.45            -0.75                 -0.75                 0.00                 0.43                -0.11                  -0.17        0.08                 1                 0                 0\n",
       "3        4964   1.05        -0.38          0.14         0.11                    0.94                    -0.15            -0.75                 -0.75                 0.33                 0.24                -0.78                  -0.33       -1.08                 1                 0                 0\n",
       "4       10100  -0.16         0.11          0.18        -0.03                    0.00                    -0.83            -0.25                  0.50                 0.33                 0.40                -0.44                   0.67        0.50                 1                 0                 0"
      ]
     },
     "execution_count": 36,
     "metadata": {},
     "output_type": "execute_result"
    }
   ],
   "source": [
    "df6.head()"
   ]
  },
  {
   "cell_type": "markdown",
   "metadata": {
    "heading_collapsed": true,
    "hidden": true
   },
   "source": [
    "## 6.1. Split dataframe into training and test dataset"
   ]
  },
  {
   "cell_type": "code",
   "execution_count": 39,
   "metadata": {
    "ExecuteTime": {
     "end_time": "2020-01-08T11:31:12.927069Z",
     "start_time": "2020-01-08T11:31:12.824541Z"
    },
    "hidden": true
   },
   "outputs": [],
   "source": [
    "# Dividir dataset entre Treino (80%) e Teste (20%) \n",
    "X = df6.drop(['id_cliente', 'limite_adicional'], axis = 1).copy()\n",
    "y = df6['limite_adicional'].copy()\n",
    "\n",
    "x_train, x_test, y_train, y_test = ms.train_test_split(X, y, stratify = y, test_size = 0.20, random_state = 42)"
   ]
  },
  {
   "cell_type": "markdown",
   "metadata": {
    "heading_collapsed": true,
    "hidden": true
   },
   "source": [
    "## 6.2. Boruta as Feature Selector"
   ]
  },
  {
   "cell_type": "code",
   "execution_count": null,
   "metadata": {
    "ExecuteTime": {
     "end_time": "2020-01-08T11:31:12.939239Z",
     "start_time": "2020-01-08T11:31:12.930752Z"
    },
    "code_folding": [],
    "hidden": true
   },
   "outputs": [],
   "source": []
  },
  {
   "cell_type": "markdown",
   "metadata": {
    "heading_collapsed": true,
    "hidden": true
   },
   "source": [
    "### 6.2.1. Best Features from Boruta"
   ]
  },
  {
   "cell_type": "code",
   "execution_count": null,
   "metadata": {
    "ExecuteTime": {
     "end_time": "2020-01-08T11:31:12.948660Z",
     "start_time": "2020-01-08T11:31:12.942455Z"
    },
    "hidden": true
   },
   "outputs": [],
   "source": []
  },
  {
   "cell_type": "markdown",
   "metadata": {
    "heading_collapsed": true,
    "hidden": true
   },
   "source": [
    "## 6.3. Manual Feature Selection"
   ]
  },
  {
   "cell_type": "markdown",
   "metadata": {
    "heading_collapsed": true
   },
   "source": [
    "# 7.0. MACHINE LEARNING MODELLING"
   ]
  },
  {
   "cell_type": "code",
   "execution_count": 38,
   "metadata": {},
   "outputs": [],
   "source": [
    "#df7 = df6.copy()"
   ]
  },
  {
   "cell_type": "code",
   "execution_count": null,
   "metadata": {
    "ExecuteTime": {
     "end_time": "2020-01-08T11:31:13.147248Z",
     "start_time": "2020-01-08T11:31:12.977711Z"
    },
    "hidden": true
   },
   "outputs": [],
   "source": [
    "# df2 será usado para splitar Treino e Validação\n",
    "#df7_2 = pd.concat([x_train, y_train], axis = 1)\n",
    "\n",
    "# Dividir dataset entre Treino (90%) e Validação (10%)\n",
    "#X = df7_2.drop(['limite_adicional'], axis=1).copy()\n",
    "#y = df7_2['limite_adicional'].copy()\n",
    "\n",
    "#x_train, x_val, y_train, y_val = ms.train_test_split(X, y, stratify = y, test_size=0.10, random_state = 42)"
   ]
  },
  {
   "cell_type": "code",
   "execution_count": 40,
   "metadata": {},
   "outputs": [
    {
     "name": "stdout",
     "output_type": "stream",
     "text": [
      "x_train ->  (7600, 15)\n",
      "y_train ->  (7600,)\n",
      "x_test ->  (1900, 15)\n",
      "y_test ->  (1900,)\n"
     ]
    }
   ],
   "source": [
    "# Dados de treino\n",
    "print('x_train -> ',x_train.shape)\n",
    "print('y_train -> ',y_train.shape)\n",
    "# Dados de validação\n",
    "#print('x_val -> ',x_val.shape)\n",
    "#print('y_val -> ',y_val.shape)\n",
    "# Dados de teste\n",
    "print('x_test -> ',x_test.shape)\n",
    "print('y_test -> ',y_test.shape)"
   ]
  },
  {
   "cell_type": "markdown",
   "metadata": {},
   "source": [
    "### 7.0.1 Preparação dos Dados durante Cross Validation"
   ]
  },
  {
   "cell_type": "markdown",
   "metadata": {},
   "source": [
    "Normalização"
   ]
  },
  {
   "cell_type": "markdown",
   "metadata": {},
   "source": [
    "Rescaling"
   ]
  },
  {
   "cell_type": "markdown",
   "metadata": {},
   "source": [
    "Encoding"
   ]
  },
  {
   "cell_type": "code",
   "execution_count": 41,
   "metadata": {},
   "outputs": [],
   "source": [
    "## Encodar features categóricas de treino\n",
    "#le_inv_ext = LabelEncoder()\n",
    "#le_pes_pol = LabelEncoder()\n",
    "#x_train['investe_exterior'] = le_inv_ext.fit_transform(x_train['investe_exterior'])\n",
    "#x_train['pessoa_polit_exp'] = le_pes_pol.fit_transform(x_train['pessoa_polit_exp'])\n",
    "\n",
    "## Encodar var resposta de treino\n",
    "#lim_adi_dict = {'Negar':0, 'Conceder':1}\n",
    "#y_train = y_train.map(lim_adi_dict)\n",
    "\n",
    "## Encodar features categóricas de validação\n",
    "#x_val['investe_exterior']   = le_inv_ext.transform(x_val['investe_exterior'])\n",
    "#x_val['pessoa_polit_exp']   = le_pes_pol.transform(x_val['pessoa_polit_exp'])\n",
    "\n",
    "## Encodar var resposta de validação\n",
    "#y_val = y_val.map(lim_adi_dict)"
   ]
  },
  {
   "cell_type": "markdown",
   "metadata": {
    "heading_collapsed": true,
    "hidden": true
   },
   "source": [
    "## 7.1. Average Model"
   ]
  },
  {
   "cell_type": "code",
   "execution_count": null,
   "metadata": {
    "ExecuteTime": {
     "end_time": "2020-01-08T11:31:13.225584Z",
     "start_time": "2020-01-08T11:31:13.150003Z"
    },
    "hidden": true
   },
   "outputs": [],
   "source": []
  },
  {
   "cell_type": "markdown",
   "metadata": {
    "heading_collapsed": true,
    "hidden": true
   },
   "source": [
    "## 7.2. Linear Regression Model"
   ]
  },
  {
   "cell_type": "code",
   "execution_count": null,
   "metadata": {
    "ExecuteTime": {
     "end_time": "2020-01-08T11:31:13.964969Z",
     "start_time": "2020-01-08T11:31:13.230103Z"
    },
    "hidden": true
   },
   "outputs": [],
   "source": [
    "# # model\n",
    "# lr = LinearRegression().fit( x_train, y_train )\n",
    "\n",
    "# # prediction\n",
    "# yhat_lr = lr.predict( x_test )\n",
    "\n",
    "# # performance\n",
    "# lr_result = ml_error( 'Linear Regression', np.expm1( y_test ), np.expm1( yhat_lr ) )\n",
    "# lr_result"
   ]
  },
  {
   "cell_type": "markdown",
   "metadata": {
    "heading_collapsed": true,
    "hidden": true
   },
   "source": [
    "### 7.2.1. Linear Regression Model - Cross Validation"
   ]
  },
  {
   "cell_type": "code",
   "execution_count": null,
   "metadata": {
    "ExecuteTime": {
     "end_time": "2020-01-08T11:31:17.921743Z",
     "start_time": "2020-01-08T11:31:13.983795Z"
    },
    "hidden": true
   },
   "outputs": [],
   "source": [
    "# lr_result_cv = cross_validation( x_training, 5, 'Linear Regression', lr, verbose=False )\n",
    "# lr_result_cv"
   ]
  },
  {
   "cell_type": "markdown",
   "metadata": {
    "heading_collapsed": true,
    "hidden": true
   },
   "source": [
    "## 7.3. Linear Regression Regularized Model - Lasso"
   ]
  },
  {
   "cell_type": "code",
   "execution_count": null,
   "metadata": {
    "ExecuteTime": {
     "end_time": "2020-01-08T11:31:18.728712Z",
     "start_time": "2020-01-08T11:31:17.927577Z"
    },
    "hidden": true
   },
   "outputs": [],
   "source": [
    "# # model\n",
    "# lrr = Lasso( alpha=0.01 ).fit( x_train, y_train )\n",
    "\n",
    "# # prediction\n",
    "# yhat_lrr = lrr.predict( x_test )\n",
    "\n",
    "# # performance\n",
    "# lrr_result = ml_error( 'Linear Regression - Lasso', np.expm1( y_test ), np.expm1( yhat_lrr ) )\n",
    "# lrr_result"
   ]
  },
  {
   "cell_type": "markdown",
   "metadata": {
    "heading_collapsed": true,
    "hidden": true
   },
   "source": [
    "### 7.3.1.  Lasso - Cross Validation"
   ]
  },
  {
   "cell_type": "code",
   "execution_count": null,
   "metadata": {
    "ExecuteTime": {
     "end_time": "2020-01-08T11:31:22.248030Z",
     "start_time": "2020-01-08T11:31:18.735432Z"
    },
    "hidden": true
   },
   "outputs": [],
   "source": [
    "# lrr_result_cv = cross_validation( x_training, 5, 'Lasso', lrr, verbose=False )\n",
    "# lrr_result_cv"
   ]
  },
  {
   "cell_type": "markdown",
   "metadata": {
    "heading_collapsed": true,
    "hidden": true
   },
   "source": [
    "## 7.4. Random Forest Classifier"
   ]
  },
  {
   "cell_type": "code",
   "execution_count": null,
   "metadata": {
    "ExecuteTime": {
     "end_time": "2020-01-08T11:37:39.995818Z",
     "start_time": "2020-01-08T11:31:22.253568Z"
    },
    "hidden": true
   },
   "outputs": [],
   "source": [
    "# model\n",
    "rf = RandomForestClassifier( n_estimators=100, n_jobs=-1, max_features='log2', min_samples_leaf=20, random_state=42 ).fit( x_train, y_train )\n",
    "\n",
    "ms.cross_val_score(estimator=rf, X=x_train, y=y_train, scoring)"
   ]
  },
  {
   "cell_type": "code",
   "execution_count": null,
   "metadata": {},
   "outputs": [],
   "source": [
    "# prediction\n",
    "yhat_rf = rf.predict( x_test )\n",
    "\n",
    "# performance\n",
    "rf_result = ml_error( 'Random Forest Regressor', np.expm1( y_test ), np.expm1( yhat_rf ) )\n",
    "rf_result"
   ]
  },
  {
   "cell_type": "markdown",
   "metadata": {
    "heading_collapsed": true,
    "hidden": true
   },
   "source": [
    "### 7.4.1.  Random Forest Classifier - Cross Validation"
   ]
  },
  {
   "cell_type": "code",
   "execution_count": null,
   "metadata": {
    "ExecuteTime": {
     "end_time": "2020-01-08T22:53:19.476256Z",
     "start_time": "2020-01-08T11:37:40.014756Z"
    },
    "hidden": true
   },
   "outputs": [],
   "source": [
    "# rf_result_cv = cross_validation( x_training, 5, 'Random Forest Regressor', rf, verbose=True )\n",
    "# rf_result_cv"
   ]
  },
  {
   "cell_type": "markdown",
   "metadata": {
    "heading_collapsed": true,
    "hidden": true
   },
   "source": [
    "## 7.5. XGBoost Classifier"
   ]
  },
  {
   "cell_type": "code",
   "execution_count": null,
   "metadata": {
    "ExecuteTime": {
     "end_time": "2020-01-08T23:04:18.335709Z",
     "start_time": "2020-01-08T22:53:19.494411Z"
    },
    "hidden": true
   },
   "outputs": [],
   "source": [
    "# Aplicação de modelos \n",
    "# Treinar XGBoost Classifier\n",
    "# Model definition\n",
    "model_xgboost = XGBClassifier(random_state=42)\n",
    "# Model training\n",
    "model_xgboost.fit(x_train, y_train)\n",
    "# Model prediction\n",
    "yhat_xgboost = model_xgboost.predict(x_val)"
   ]
  },
  {
   "cell_type": "code",
   "execution_count": null,
   "metadata": {},
   "outputs": [
    {
     "name": "stdout",
     "output_type": "stream",
     "text": [
      "XGBoost - Média ponderada com F1 Score (dados validação): 0.869\n"
     ]
    }
   ],
   "source": [
    "# Avaliação de modelos \n",
    "# Validar modelo com F1 Score (dados validação)\n",
    "print(f\"XGBoost - Média ponderada com F1 Score (dados validação): {round(f1_score(y_val, yhat_xgboost, average='weighted') ,3)}\") #binary=default"
   ]
  },
  {
   "cell_type": "code",
   "execution_count": null,
   "metadata": {},
   "outputs": [
    {
     "name": "stdout",
     "output_type": "stream",
     "text": [
      "K-folds: [0.63636364 0.44444444 0.33333333 0.54545455 0.6        0.33333333\n",
      " 0.63636364 0.76190476 0.54545455 0.42105263]\n",
      "XGBoost - Média ponderada com F1 Score (dados validação): 0.861\n"
     ]
    }
   ],
   "source": [
    "# Validar modelo com F1 Score, no método cross validation (dados validação) \n",
    "print(f\"K-folds: {ms.cross_val_score(model_xgboost, x_val, y_val, scoring='f1', cv = 10)}\") #'F1' métrica F1 Score p/ classificação binary\n",
    "print(f\"XGBoost - Média ponderada com F1 Score (dados validação): {round(ms.cross_val_score(model_xgboost, x_val, y_val, scoring='f1_weighted', cv = 10).mean() ,3)}\")\n",
    "# Performance manteve-se próxima com cross validation"
   ]
  },
  {
   "cell_type": "markdown",
   "metadata": {},
   "source": [
    "Treinamento de modelo com todos os dados"
   ]
  },
  {
   "cell_type": "code",
   "execution_count": null,
   "metadata": {},
   "outputs": [],
   "source": [
    "# Testar modelos\n",
    "# Antes, juntar dados de treino + validação, formando um novo dataset de treino.\n",
    "x_train_full = pd.concat([x_train, x_val])\n",
    "y_train_full = pd.concat([y_train, y_val])"
   ]
  },
  {
   "cell_type": "code",
   "execution_count": null,
   "metadata": {},
   "outputs": [],
   "source": [
    "# Encodar features categóricas de teste\n",
    "x_test['investe_exterior']   = le_inv_ext.transform(x_test['investe_exterior'])\n",
    "x_test['pessoa_polit_exp']   = le_pes_pol.transform(x_test['pessoa_polit_exp'])\n",
    "\n",
    "# Encodar var resposta de teste\n",
    "y_test = y_test.map(lim_adi_dict)"
   ]
  },
  {
   "cell_type": "code",
   "execution_count": null,
   "metadata": {},
   "outputs": [],
   "source": [
    "# Treinar nova XGBoost, com o novo dataset treino\n",
    "# Model definition\n",
    "model_xgboost_full = XGBClassifier(random_state=42)\n",
    "# Model training\n",
    "model_xgboost_full.fit(x_train_full, y_train_full)\n",
    "# Model prediction\n",
    "# Passar os dados de teste separados anteriormente\n",
    "yhat_xgboost_full = model_xgboost_full.predict(x_test)"
   ]
  },
  {
   "cell_type": "code",
   "execution_count": null,
   "metadata": {},
   "outputs": [
    {
     "name": "stdout",
     "output_type": "stream",
     "text": [
      "XGBoost - Média ponderada com F1 Score (dados teste): 0.865\n"
     ]
    }
   ],
   "source": [
    "# Validar modelo com F1 Score (dados teste)\n",
    "print(f\"XGBoost - Média ponderada com F1 Score (dados teste): {round(f1_score(y_test, yhat_xgboost_full, average='weighted') ,3)}\") #binary=default"
   ]
  },
  {
   "cell_type": "code",
   "execution_count": null,
   "metadata": {},
   "outputs": [
    {
     "data": {
      "text/html": [
       "<div>\n",
       "<style scoped>\n",
       "    .dataframe tbody tr th:only-of-type {\n",
       "        vertical-align: middle;\n",
       "    }\n",
       "\n",
       "    .dataframe tbody tr th {\n",
       "        vertical-align: top;\n",
       "    }\n",
       "\n",
       "    .dataframe thead th {\n",
       "        text-align: right;\n",
       "    }\n",
       "</style>\n",
       "<table border=\"1\" class=\"dataframe\">\n",
       "  <thead>\n",
       "    <tr style=\"text-align: right;\">\n",
       "      <th></th>\n",
       "      <th>id_cliente</th>\n",
       "      <th>idade</th>\n",
       "      <th>saldo_atual</th>\n",
       "      <th>divida_atual</th>\n",
       "      <th>renda_anual</th>\n",
       "      <th>valor_em_investimentos</th>\n",
       "      <th>taxa_utilizacao_credito</th>\n",
       "      <th>num_emprestimos</th>\n",
       "      <th>num_contas_bancarias</th>\n",
       "      <th>num_cartoes_credito</th>\n",
       "      <th>dias_atraso_dt_venc</th>\n",
       "      <th>num_pgtos_atrasados</th>\n",
       "      <th>num_consultas_credito</th>\n",
       "      <th>taxa_juros</th>\n",
       "      <th>investe_exterior</th>\n",
       "      <th>pessoa_polit_exp</th>\n",
       "    </tr>\n",
       "  </thead>\n",
       "  <tbody>\n",
       "    <tr>\n",
       "      <th>0</th>\n",
       "      <td>2</td>\n",
       "      <td>32</td>\n",
       "      <td>470.69</td>\n",
       "      <td>605.03</td>\n",
       "      <td>42688.60</td>\n",
       "      <td>104.29</td>\n",
       "      <td>24.46</td>\n",
       "      <td>1</td>\n",
       "      <td>2</td>\n",
       "      <td>4</td>\n",
       "      <td>3</td>\n",
       "      <td>4</td>\n",
       "      <td>2</td>\n",
       "      <td>6</td>\n",
       "      <td>Não</td>\n",
       "      <td>Não</td>\n",
       "    </tr>\n",
       "    <tr>\n",
       "      <th>1</th>\n",
       "      <td>5</td>\n",
       "      <td>25</td>\n",
       "      <td>288.61</td>\n",
       "      <td>943.86</td>\n",
       "      <td>43545.94</td>\n",
       "      <td>276.73</td>\n",
       "      <td>39.80</td>\n",
       "      <td>0</td>\n",
       "      <td>7</td>\n",
       "      <td>5</td>\n",
       "      <td>5</td>\n",
       "      <td>14</td>\n",
       "      <td>4</td>\n",
       "      <td>5</td>\n",
       "      <td>Não</td>\n",
       "      <td>Não</td>\n",
       "    </tr>\n",
       "    <tr>\n",
       "      <th>2</th>\n",
       "      <td>6</td>\n",
       "      <td>35</td>\n",
       "      <td>740.20</td>\n",
       "      <td>548.20</td>\n",
       "      <td>82208.45</td>\n",
       "      <td>98.67</td>\n",
       "      <td>39.96</td>\n",
       "      <td>0</td>\n",
       "      <td>4</td>\n",
       "      <td>1288</td>\n",
       "      <td>12</td>\n",
       "      <td>10</td>\n",
       "      <td>2</td>\n",
       "      <td>8</td>\n",
       "      <td>Não</td>\n",
       "      <td>Não</td>\n",
       "    </tr>\n",
       "    <tr>\n",
       "      <th>3</th>\n",
       "      <td>8</td>\n",
       "      <td>7586</td>\n",
       "      <td>298.19</td>\n",
       "      <td>1704.18</td>\n",
       "      <td>41749.69</td>\n",
       "      <td>162.44</td>\n",
       "      <td>24.45</td>\n",
       "      <td>3</td>\n",
       "      <td>8</td>\n",
       "      <td>7</td>\n",
       "      <td>30</td>\n",
       "      <td>11</td>\n",
       "      <td>5</td>\n",
       "      <td>15</td>\n",
       "      <td>Não</td>\n",
       "      <td>Não</td>\n",
       "    </tr>\n",
       "    <tr>\n",
       "      <th>4</th>\n",
       "      <td>10</td>\n",
       "      <td>49</td>\n",
       "      <td>341.55</td>\n",
       "      <td>421.43</td>\n",
       "      <td>42381.95</td>\n",
       "      <td>154.35</td>\n",
       "      <td>29.52</td>\n",
       "      <td>2</td>\n",
       "      <td>0</td>\n",
       "      <td>5</td>\n",
       "      <td>4</td>\n",
       "      <td>0</td>\n",
       "      <td>2</td>\n",
       "      <td>12</td>\n",
       "      <td>Não</td>\n",
       "      <td>Não</td>\n",
       "    </tr>\n",
       "  </tbody>\n",
       "</table>\n",
       "</div>"
      ],
      "text/plain": [
       "   id_cliente  idade  saldo_atual  divida_atual  renda_anual  valor_em_investimentos  taxa_utilizacao_credito  num_emprestimos  num_contas_bancarias  num_cartoes_credito  dias_atraso_dt_venc  num_pgtos_atrasados  num_consultas_credito  taxa_juros investe_exterior pessoa_polit_exp\n",
       "0           2     32       470.69        605.03     42688.60                  104.29                    24.46                1                     2                    4                    3                    4                      2           6              Não              Não\n",
       "1           5     25       288.61        943.86     43545.94                  276.73                    39.80                0                     7                    5                    5                   14                      4           5              Não              Não\n",
       "2           6     35       740.20        548.20     82208.45                   98.67                    39.96                0                     4                 1288                   12                   10                      2           8              Não              Não\n",
       "3           8   7586       298.19       1704.18     41749.69                  162.44                    24.45                3                     8                    7                   30                   11                      5          15              Não              Não\n",
       "4          10     49       341.55        421.43     42381.95                  154.35                    29.52                2                     0                    5                    4                    0                      2          12              Não              Não"
      ]
     },
     "execution_count": 60,
     "metadata": {},
     "output_type": "execute_result"
    }
   ],
   "source": [
    "df_ktest_raw = pd.read_csv('data/test.csv')\n",
    "x_ktest = df_ktest_raw.copy()\n",
    "\n",
    "x_ktest.head()"
   ]
  },
  {
   "cell_type": "code",
   "execution_count": null,
   "metadata": {},
   "outputs": [],
   "source": [
    "x_ktest['investe_exterior'] = le_inv_ext.transform(x_ktest['investe_exterior'])\n",
    "x_ktest['pessoa_polit_exp'] = le_pes_pol.transform(x_ktest['pessoa_polit_exp'])"
   ]
  },
  {
   "cell_type": "code",
   "execution_count": null,
   "metadata": {},
   "outputs": [],
   "source": [
    "yhat_xgboost_ktest = model_xgboost_full.predict(x_test)"
   ]
  },
  {
   "cell_type": "code",
   "execution_count": null,
   "metadata": {},
   "outputs": [],
   "source": [
    "df_sub = pd.concat([df_ktest_raw['id_cliente'], pd.Series(yhat_xgboost_ktest, name='limite_adicional')], axis=1)"
   ]
  },
  {
   "cell_type": "code",
   "execution_count": null,
   "metadata": {},
   "outputs": [],
   "source": [
    "lim_adi_dic_final = {0: 'Negar', 1: 'Conceder'}\n",
    "df_sub['limite_adicional'] = df_sub['limite_adicional'].map(lim_adi_dic_final)"
   ]
  },
  {
   "cell_type": "code",
   "execution_count": null,
   "metadata": {},
   "outputs": [
    {
     "data": {
      "text/html": [
       "<div>\n",
       "<style scoped>\n",
       "    .dataframe tbody tr th:only-of-type {\n",
       "        vertical-align: middle;\n",
       "    }\n",
       "\n",
       "    .dataframe tbody tr th {\n",
       "        vertical-align: top;\n",
       "    }\n",
       "\n",
       "    .dataframe thead th {\n",
       "        text-align: right;\n",
       "    }\n",
       "</style>\n",
       "<table border=\"1\" class=\"dataframe\">\n",
       "  <thead>\n",
       "    <tr style=\"text-align: right;\">\n",
       "      <th></th>\n",
       "      <th>id_cliente</th>\n",
       "      <th>limite_adicional</th>\n",
       "    </tr>\n",
       "  </thead>\n",
       "  <tbody>\n",
       "    <tr>\n",
       "      <th>0</th>\n",
       "      <td>2</td>\n",
       "      <td>Negar</td>\n",
       "    </tr>\n",
       "    <tr>\n",
       "      <th>1</th>\n",
       "      <td>5</td>\n",
       "      <td>Negar</td>\n",
       "    </tr>\n",
       "    <tr>\n",
       "      <th>2</th>\n",
       "      <td>6</td>\n",
       "      <td>Conceder</td>\n",
       "    </tr>\n",
       "    <tr>\n",
       "      <th>3</th>\n",
       "      <td>8</td>\n",
       "      <td>Negar</td>\n",
       "    </tr>\n",
       "    <tr>\n",
       "      <th>4</th>\n",
       "      <td>10</td>\n",
       "      <td>Negar</td>\n",
       "    </tr>\n",
       "  </tbody>\n",
       "</table>\n",
       "</div>"
      ],
      "text/plain": [
       "   id_cliente limite_adicional\n",
       "0           2            Negar\n",
       "1           5            Negar\n",
       "2           6         Conceder\n",
       "3           8            Negar\n",
       "4          10            Negar"
      ]
     },
     "execution_count": 66,
     "metadata": {},
     "output_type": "execute_result"
    }
   ],
   "source": [
    "df_sub[:5]"
   ]
  },
  {
   "cell_type": "code",
   "execution_count": null,
   "metadata": {},
   "outputs": [],
   "source": [
    "df_sub.to_csv('data/submissions/baseline.csv', index=False)"
   ]
  },
  {
   "cell_type": "markdown",
   "metadata": {
    "heading_collapsed": true,
    "hidden": true
   },
   "source": [
    "### 7.5.1. XGBoost Claassifier - Cross Validation"
   ]
  },
  {
   "cell_type": "code",
   "execution_count": null,
   "metadata": {
    "ExecuteTime": {
     "end_time": "2020-01-08T23:45:33.183643Z",
     "start_time": "2020-01-08T23:04:18.349333Z"
    },
    "hidden": true
   },
   "outputs": [],
   "source": [
    "# xgb_result_cv = cross_validation( x_training, 5, 'XGBoost Regressor', model_xgb, verbose=True )\n",
    "# xgb_result_cv"
   ]
  },
  {
   "cell_type": "markdown",
   "metadata": {
    "heading_collapsed": true,
    "hidden": true
   },
   "source": [
    "## 7.6. Compare Model's Performance"
   ]
  },
  {
   "cell_type": "markdown",
   "metadata": {
    "heading_collapsed": true,
    "hidden": true
   },
   "source": [
    "### 7.6.1. Single Performance"
   ]
  },
  {
   "cell_type": "code",
   "execution_count": null,
   "metadata": {
    "ExecuteTime": {
     "end_time": "2020-01-08T23:45:33.260141Z",
     "start_time": "2020-01-08T23:45:33.190135Z"
    },
    "hidden": true
   },
   "outputs": [],
   "source": [
    "# modelling_result = pd.concat( [baseline_result, lr_result, lrr_result, rf_result, xgb_result] )\n",
    "# modelling_result.sort_values( 'RMSE' )"
   ]
  },
  {
   "cell_type": "markdown",
   "metadata": {
    "heading_collapsed": true,
    "hidden": true
   },
   "source": [
    "### 7.6.2. Real Performance - Cross Validation"
   ]
  },
  {
   "cell_type": "code",
   "execution_count": null,
   "metadata": {
    "ExecuteTime": {
     "end_time": "2020-01-08T23:45:33.284202Z",
     "start_time": "2020-01-08T23:45:33.266489Z"
    },
    "hidden": true
   },
   "outputs": [],
   "source": [
    "# modelling_result_cv = pd.concat( [lr_result_cv, lrr_result_cv, rf_result_cv, xgb_result_cv] )\n",
    "# modelling_result_cv"
   ]
  },
  {
   "cell_type": "markdown",
   "metadata": {
    "heading_collapsed": true
   },
   "source": [
    "# 8.0. HYPERPARAMETER FINE TUNING"
   ]
  },
  {
   "cell_type": "markdown",
   "metadata": {
    "heading_collapsed": true,
    "hidden": true
   },
   "source": [
    "## 8.1. Random Search"
   ]
  },
  {
   "cell_type": "code",
   "execution_count": null,
   "metadata": {
    "ExecuteTime": {
     "end_time": "2020-01-08T23:45:33.295487Z",
     "start_time": "2020-01-08T23:45:33.289860Z"
    },
    "hidden": true
   },
   "outputs": [],
   "source": [
    "#param = {\n",
    "#    'n_estimators': [1500, 1700, 2500, 3000, 3500],\n",
    "#    'eta': [0.01, 0.03],\n",
    "#    'max_depth': [3, 5, 9],\n",
    "#    'subsample': [0.1, 0.5, 0.7],\n",
    "#    'colsample_bytree': [0.3, 0.7, 0.9],\n",
    "#    'min_child_weight': [3, 8, 15]\n",
    "#        }\n",
    "#\n",
    "#MAX_EVAL = 5"
   ]
  },
  {
   "cell_type": "code",
   "execution_count": null,
   "metadata": {
    "ExecuteTime": {
     "end_time": "2020-01-08T23:45:33.311093Z",
     "start_time": "2020-01-08T23:45:33.301202Z"
    },
    "hidden": true
   },
   "outputs": [],
   "source": [
    "#final_result = pd.DataFrame()\n",
    "#\n",
    "#for i in range( MAX_EVAL ):\n",
    "#    # choose values for parameters randomly\n",
    "#    hp = { k: random.sample( v, 1 )[0] for k, v in param.items() }\n",
    "#    print( hp )\n",
    "#    \n",
    "#    # model\n",
    "#    model_xgb = xgb.XGBRegressor( objective='reg:squarederror',\n",
    "#                                  n_estimators=hp['n_estimators'], \n",
    "#                                  eta=hp['eta'], \n",
    "#                                  max_depth=hp['max_depth'], \n",
    "#                                  subsample=hp['subsample'],\n",
    "#                                  colsample_bytee=hp['colsample_bytree'],\n",
    "#                                  min_child_weight=hp['min_child_weight'] )\n",
    "#\n",
    "#    # performance\n",
    "#    result = cross_validation( x_training, 5, 'XGBoost Regressor', model_xgb, verbose=True )\n",
    "#    final_result = pd.concat( [final_result, result] )\n",
    "#        \n",
    "#final_result"
   ]
  },
  {
   "cell_type": "code",
   "execution_count": null,
   "metadata": {
    "ExecuteTime": {
     "end_time": "2020-01-08T23:45:33.341371Z",
     "start_time": "2020-01-08T23:45:33.315796Z"
    },
    "hidden": true
   },
   "outputs": [],
   "source": [
    "#final_result"
   ]
  },
  {
   "cell_type": "markdown",
   "metadata": {
    "heading_collapsed": true,
    "hidden": true
   },
   "source": [
    "## 8.2. Final Model"
   ]
  },
  {
   "cell_type": "code",
   "execution_count": null,
   "metadata": {
    "ExecuteTime": {
     "end_time": "2020-01-08T23:45:33.348773Z",
     "start_time": "2020-01-08T23:45:33.344536Z"
    },
    "hidden": true
   },
   "outputs": [],
   "source": [
    "# param_tuned = {\n",
    "#     'n_estimators': 3000,\n",
    "#     'eta': 0.03,\n",
    "#     'max_depth': 5,\n",
    "#     'subsample': 0.7,\n",
    "#     'colsample_bytree': 0.7,\n",
    "#     'min_child_weight': 3 \n",
    "#         }"
   ]
  },
  {
   "cell_type": "code",
   "execution_count": null,
   "metadata": {
    "ExecuteTime": {
     "end_time": "2020-01-09T01:16:23.481635Z",
     "start_time": "2020-01-08T23:45:33.355270Z"
    },
    "hidden": true
   },
   "outputs": [],
   "source": [
    "# # model\n",
    "# model_xgb_tuned = xgb.XGBRegressor( objective='reg:squarederror',\n",
    "#                                     n_estimators=param_tuned['n_estimators'], \n",
    "#                                     eta=param_tuned['eta'], \n",
    "#                                     max_depth=param_tuned['max_depth'], \n",
    "#                                     subsample=param_tuned['subsample'],\n",
    "#                                     colsample_bytee=param_tuned['colsample_bytree'],\n",
    "#                                     min_child_weight=param_tuned['min_child_weight'] ).fit( x_train, y_train )\n",
    "\n",
    "# # prediction\n",
    "# yhat_xgb_tuned = model_xgb_tuned.predict( x_test )\n",
    "\n",
    "# # performance\n",
    "# xgb_result_tuned = ml_error( 'XGBoost Regressor', np.expm1( y_test ), np.expm1( yhat_xgb_tuned ) )\n",
    "# xgb_result_tuned"
   ]
  },
  {
   "cell_type": "code",
   "execution_count": null,
   "metadata": {
    "ExecuteTime": {
     "end_time": "2020-01-09T01:16:23.508224Z",
     "start_time": "2020-01-09T01:16:23.486826Z"
    },
    "hidden": true
   },
   "outputs": [],
   "source": [
    "# mpe = mean_percentage_error( np.expm1( y_test ), np.expm1( yhat_xgb_tuned ) )\n",
    "# mpe"
   ]
  },
  {
   "cell_type": "markdown",
   "metadata": {
    "heading_collapsed": true
   },
   "source": [
    "# 9.0. TRADUCAO E INTERPRETACAO DO ERRO"
   ]
  },
  {
   "cell_type": "code",
   "execution_count": null,
   "metadata": {
    "ExecuteTime": {
     "end_time": "2020-01-11T10:03:19.356840Z",
     "start_time": "2020-01-11T10:03:19.330279Z"
    },
    "hidden": true
   },
   "outputs": [],
   "source": [
    "# df9 = X_test[ cols_selected_boruta_full ]\n",
    "\n",
    "# # rescale\n",
    "# df9['sales'] = np.expm1( df9['sales'] )\n",
    "# df9['predictions'] = np.expm1( yhat_xgb_tuned )"
   ]
  },
  {
   "cell_type": "markdown",
   "metadata": {
    "heading_collapsed": true,
    "hidden": true
   },
   "source": [
    "## 9.1. Business Performance"
   ]
  },
  {
   "cell_type": "code",
   "execution_count": null,
   "metadata": {
    "ExecuteTime": {
     "end_time": "2020-01-11T10:11:51.084417Z",
     "start_time": "2020-01-11T10:11:48.452563Z"
    },
    "hidden": true
   },
   "outputs": [],
   "source": [
    "# # sum of predictions\n",
    "# df91 = df9[['store', 'predictions']].groupby( 'store' ).sum().reset_index()\n",
    "\n",
    "# # MAE and MAPE\n",
    "# df9_aux1 = df9[['store', 'sales', 'predictions']].groupby( 'store' ).apply( lambda x: mean_absolute_error( x['sales'], x['predictions'] ) ).reset_index().rename( columns={0:'MAE'})\n",
    "# df9_aux2 = df9[['store', 'sales', 'predictions']].groupby( 'store' ).apply( lambda x: mean_absolute_percentage_error( x['sales'], x['predictions'] ) ).reset_index().rename( columns={0:'MAPE'})\n",
    "\n",
    "# # Merge\n",
    "# df9_aux3 = pd.merge( df9_aux1, df9_aux2, how='inner', on='store' )\n",
    "# df92 = pd.merge( df91, df9_aux3, how='inner', on='store' )\n",
    "\n",
    "# # Scenarios\n",
    "# df92['worst_scenario'] = df92['predictions'] - df92['MAE']\n",
    "# df92['best_scenario'] = df92['predictions'] + df92['MAE']\n",
    "\n",
    "# # order columns\n",
    "# df92 = df92[['store', 'predictions', 'worst_scenario', 'best_scenario', 'MAE', 'MAPE']]"
   ]
  },
  {
   "cell_type": "code",
   "execution_count": null,
   "metadata": {
    "ExecuteTime": {
     "end_time": "2020-01-11T10:18:27.182216Z",
     "start_time": "2020-01-11T10:18:27.106247Z"
    },
    "hidden": true
   },
   "outputs": [],
   "source": [
    "# df92.sort_values( 'MAPE', ascending=False ).head()"
   ]
  },
  {
   "cell_type": "code",
   "execution_count": null,
   "metadata": {
    "ExecuteTime": {
     "end_time": "2020-01-11T10:19:39.901937Z",
     "start_time": "2020-01-11T10:19:37.967116Z"
    },
    "hidden": true
   },
   "outputs": [],
   "source": [
    "# sns.scatterplot( x='store', y='MAPE', data=df92 )"
   ]
  },
  {
   "cell_type": "markdown",
   "metadata": {
    "heading_collapsed": true,
    "hidden": true
   },
   "source": [
    "## 9.2. Total Performance"
   ]
  },
  {
   "cell_type": "code",
   "execution_count": null,
   "metadata": {
    "ExecuteTime": {
     "end_time": "2020-01-11T10:22:54.014958Z",
     "start_time": "2020-01-11T10:22:53.965585Z"
    },
    "hidden": true
   },
   "outputs": [],
   "source": [
    "# df93 = df92[['predictions', 'worst_scenario', 'best_scenario']].apply( lambda x: np.sum( x ), axis=0 ).reset_index().rename( columns={'index': 'Scenario', 0:'Values'} )\n",
    "# df93['Values'] = df93['Values'].map( 'R${:,.2f}'.format )\n",
    "# df93"
   ]
  },
  {
   "cell_type": "markdown",
   "metadata": {
    "heading_collapsed": true,
    "hidden": true
   },
   "source": [
    "## 9.3. Machine Learning Performance"
   ]
  },
  {
   "cell_type": "code",
   "execution_count": null,
   "metadata": {
    "ExecuteTime": {
     "end_time": "2020-01-11T10:24:20.379912Z",
     "start_time": "2020-01-11T10:24:20.372687Z"
    },
    "hidden": true
   },
   "outputs": [],
   "source": [
    "# df9['error'] = df9['sales'] - df9['predictions']\n",
    "# df9['error_rate'] = df9['predictions'] / df9['sales']"
   ]
  },
  {
   "cell_type": "code",
   "execution_count": null,
   "metadata": {
    "ExecuteTime": {
     "end_time": "2020-01-11T10:29:16.377479Z",
     "start_time": "2020-01-11T10:29:02.514740Z"
    },
    "hidden": true
   },
   "outputs": [],
   "source": [
    "# plt.subplot( 2, 2, 1 )\n",
    "# sns.lineplot( x='date', y='sales', data=df9, label='SALES' )\n",
    "# sns.lineplot( x='date', y='predictions', data=df9, label='PREDICTIONS' )\n",
    "\n",
    "# plt.subplot( 2, 2, 2 )\n",
    "# sns.lineplot( x='date', y='error_rate', data=df9 )\n",
    "# plt.axhline( 1, linestyle='--')\n",
    "\n",
    "# plt.subplot( 2, 2, 3 )\n",
    "# sns.distplot( df9['error'] )\n",
    "\n",
    "# plt.subplot( 2, 2, 4 )\n",
    "# sns.scatterplot( df9['predictions'], df9['error'] )"
   ]
  },
  {
   "cell_type": "markdown",
   "metadata": {
    "heading_collapsed": true
   },
   "source": [
    "# 10.0. Kaggle Submission"
   ]
  },
  {
   "cell_type": "code",
   "execution_count": null,
   "metadata": {
    "ExecuteTime": {
     "end_time": "2020-01-06T11:40:42.278584Z",
     "start_time": "2020-01-06T11:40:41.895420Z"
    },
    "hidden": true
   },
   "outputs": [],
   "source": [
    "# Carregar dataset teste\n",
    "df_ktest_raw = pd.read_csv('data/df_kaggle/test.csv')\n",
    "x_ktest = df_ktest_raw.copy()\n",
    "# Conferir dataset teste kaggle\n",
    "x_ktest"
   ]
  },
  {
   "cell_type": "code",
   "execution_count": null,
   "metadata": {},
   "outputs": [],
   "source": [
    "# Encoding\n",
    "# Encodar features categóricas de teste kaggle\n",
    "df_test['investe_exterior'] = le_inv_ext.transform(df_test['investe_exterior'])\n",
    "df_test['pessoa_polit_exp'] = le_pes_pol.transform(df_test['pessoa_polit_exp'])"
   ]
  },
  {
   "cell_type": "code",
   "execution_count": null,
   "metadata": {},
   "outputs": [],
   "source": [
    "# Fazer a previsão do score usando o modelo final treinado:\n",
    "yhat_xgboost_ktest = model_xgboost_full.predict(df_test)"
   ]
  },
  {
   "cell_type": "markdown",
   "metadata": {},
   "source": [
    "## 10.2 Dataframe de Submissão"
   ]
  },
  {
   "cell_type": "code",
   "execution_count": null,
   "metadata": {},
   "outputs": [],
   "source": [
    "# Preparação para submissão\n",
    "# Criar dataset final\n",
    "df_sub = pd.concat([df_test_raw['id_cliente'], pd.Series(yhat_xgboost_ktest, name='limite_adicional')], axis=1)"
   ]
  },
  {
   "cell_type": "code",
   "execution_count": null,
   "metadata": {},
   "outputs": [],
   "source": [
    "# Traduzir var resposta\n",
    "lim_adi_dic_final = {0 : 'Negar', 1: 'Conceder'}\n",
    "df_sub['limite_adicional'] = df_sub['limite_adicional'].map( lim_adi_dic_final )"
   ]
  },
  {
   "cell_type": "code",
   "execution_count": null,
   "metadata": {},
   "outputs": [],
   "source": [
    "# Visutalizar arquivo final para submissão ao Kaggle\n",
    "df_sub[:5]"
   ]
  },
  {
   "cell_type": "code",
   "execution_count": null,
   "metadata": {},
   "outputs": [],
   "source": [
    "# Gerar export para submission no Kaggle\n",
    "df_sub.to_csv('data/submissions/baseline_kaggle.csv', index=False) "
   ]
  }
 ],
 "metadata": {
  "kernelspec": {
   "display_name": "Python 3.10.4 ('minimal_ds')",
   "language": "python",
   "name": "python3"
  },
  "language_info": {
   "codemirror_mode": {
    "name": "ipython",
    "version": 3
   },
   "file_extension": ".py",
   "mimetype": "text/x-python",
   "name": "python",
   "nbconvert_exporter": "python",
   "pygments_lexer": "ipython3",
   "version": "3.10.4"
  },
  "vscode": {
   "interpreter": {
    "hash": "72c4c2ad4f44efbf07f603ea2c961d370246a2072412502ed74f3a99ce02cf0a"
   }
  }
 },
 "nbformat": 4,
 "nbformat_minor": 2
}
